{
 "cells": [
  {
   "cell_type": "code",
   "execution_count": 1,
   "metadata": {},
   "outputs": [],
   "source": [
    "from queue import PriorityQueue, Queue\n",
    "import numpy as np\n",
    "import random as rnd"
   ]
  },
  {
   "cell_type": "code",
   "execution_count": 2,
   "metadata": {},
   "outputs": [],
   "source": [
    "class Cell: \n",
    "    def __init__(self, row, col, prev = None):\n",
    "        self.row = row\n",
    "        self.col = col\n",
    "        self.prev = prev\n",
    "    def __lt__(self, other):        \n",
    "        if (self.row == other.row):\n",
    "            return self.col < other.col\n",
    "        return self.row < other.row\n",
    "    \n",
    "    def __eq__(self, other):\n",
    "        return self.row == other.row and self.col == other.col and self.prev is other.prev"
   ]
  },
  {
   "cell_type": "code",
   "execution_count": 3,
   "metadata": {},
   "outputs": [],
   "source": [
    "class Maze:\n",
    "    # -1 is barrier, 0 is free\n",
    "    def __init__(self, dim, p, q):\n",
    "        self.board =  np.zeros([dim, dim], dtype=int)\n",
    "        self.dim = dim\n",
    "        self.currentfire = []\n",
    "        self.q = q\n",
    "        obstaclesList = []\n",
    "        for i in range(0, dim): #range() generates a list from 0 to dim-1 which can take up a lot of memory\n",
    "            for j in range(0, dim):             \n",
    "                if(rnd.random() < p):\n",
    "                    self.board[i, j] = -1\n",
    "                    obstaclesList.append((i, j))\n",
    "        self.obstacles = np.array(obstaclesList)\n",
    "        self.board[0, 0] = 0\n",
    "        self.board[dim - 1, dim - 1] = 0\n",
    "    def isSolvable(self):\n",
    "        return pathExists(self)\n",
    "    def startFire(self):\n",
    "        i = rnd.randint(0,self.dim-1)\n",
    "        j = rnd.randint(0,self.dim-1)\n",
    "        while(self.board[i,j] == -1 or (i==0 and j == 0) or (i == self.dim-1 and j == self.dim-1)):\n",
    "            i = rnd.randint(0,self.dim-1)\n",
    "            j = rnd.randint(0,self.dim-1)\n",
    "        self.board[i,j] = 2\n",
    "        self.currentfire.append([i,j,None])\n",
    "    def iterateFire(self):\n",
    "        visited = [] #neighbors already visited in current iteration\n",
    "        nowonfire = [] #need to append all new fires at the end \n",
    "        for f in self.currentfire:\n",
    "            if(f[2] != 0): #check to see if all neighbors are already on fire. \n",
    "                neighbors = findNeighboringCoords(f[0:2],self) #calculate valid neighbors of f, the cell that is currently on fire\n",
    "                ofnbor = 0 #counter to find out how many neighbors are on fire\n",
    "                for n in neighbors: #loop through the neighbors of f\n",
    "                    nr,nc = n \n",
    "                    if (self.board[nr,nc] == 2): \n",
    "                        ofnbor = ofnbor + 1 \n",
    "                    else:\n",
    "                        if(n[0:2] not in visited): #only roll once for each cell not on fire\n",
    "                            if(self.board[nr,nc] != -1):\n",
    "                                surroundings = findNeighboringCoords(n[0:2],self) #see what the neighbors are for the neighbor of f\n",
    "                                k = 0 #k will be guaranteed to be at least 1\n",
    "                                for nn in surroundings:\n",
    "                                    nnr,nnc = nn\n",
    "                                    if(self.board[nnr,nnc] == 2):\n",
    "                                        k = k + 1 #counter\n",
    "                                if(rnd.random() <= (1-((1-self.q)**k))): #roll\n",
    "                                    self.board[nr,nc] = 2 \n",
    "                                    nowonfire.append([nr,nc,None]) \n",
    "                                else:\n",
    "                                    visited.append([nr,nc])\n",
    "            if(ofnbor == len(neighbors)):\n",
    "                    f[2] = 0\n",
    "        self.currentfire.append(nowonfire)"
   ]
  },
  {
   "cell_type": "code",
   "execution_count": 4,
   "metadata": {},
   "outputs": [],
   "source": [
    "def pathExists(maze, fromCoords = (0,0), toCoords = None):\n",
    "    if toCoords is None:\n",
    "        toCoords = (maze.dim - 1, maze.dim - 1)\n",
    "    toRow, toCol = toCoords\n",
    "    visited = []\n",
    "    fringe = Queue()\n",
    "    fringe.put(fromCoords)\n",
    "    while not fringe.empty():\n",
    "        currentCoords = fringe.get()\n",
    "        currentRow, currentCol = currentCoords\n",
    "        if (currentRow == toRow and currentCol == toCol):\n",
    "            return True\n",
    "        else:\n",
    "            neighbors = findNeighboringCoords(currentCoords, maze)\n",
    "            for neighbor in neighbors:\n",
    "                if neighbor in visited:\n",
    "                    continue\n",
    "                fringe.put(neighbor)\n",
    "            visited.append(currentCoords)\n",
    "    return False"
   ]
  },
  {
   "cell_type": "code",
   "execution_count": 5,
   "metadata": {},
   "outputs": [],
   "source": [
    "def findNeighboringCoords(coords, maze):\n",
    "    cellRow, cellCol = coords\n",
    "    potentialNeighbors = [(cellRow + 1, cellCol), (cellRow - 1, cellCol), (cellRow, cellCol - 1), (cellRow, cellCol + 1)]\n",
    "    neighbors = []\n",
    "    for potentialNeighbor in potentialNeighbors:\n",
    "        row, col = potentialNeighbor\n",
    "        if (row >= maze.dim or row < 0 or col >= maze.dim or col < 0 or maze.board[row,col] != 0):\n",
    "            continue\n",
    "        neighbors.append(potentialNeighbor)\n",
    "    return neighbors\n",
    "def findNeighboringCells(cell, maze):\n",
    "    neighboringCoords = findNeighboringCoords((cell.row, cell.col), maze)\n",
    "    neighbors = []\n",
    "    for neighbor in neighboringCoords:\n",
    "        row, col = neighbor\n",
    "        neighbors.append(Cell(row, col, cell))\n",
    "    return neighbors"
   ]
  },
  {
   "cell_type": "code",
   "execution_count": 11,
   "metadata": {},
   "outputs": [],
   "source": [
    "def uniformCost(maze, cell):\n",
    "    return 1\n",
    "def shortestPathSearch(maze, startCoords = (0, 0), heuristicFunction = uniformCost):\n",
    "    startRow, startCol = startCoords\n",
    "    startCell = Cell(startRow, startCol)\n",
    "    visited = []\n",
    "    fringe = PriorityQueue()\n",
    "    fringe.put((0, startCell))\n",
    "    while not fringe.empty():\n",
    "        pathLength, currentCell = fringe.get()\n",
    "        if (currentCell.row == maze.dim - 1 and currentCell.col == maze.dim - 1):\n",
    "            shortestPath = []\n",
    "            while (currentCell != startCell):\n",
    "                shortestPath.append((currentCell.row, currentCell.col))\n",
    "                currentCell = currentCell.prev\n",
    "            shortestPath.append((startRow, startCol))\n",
    "            shortestPath.reverse()\n",
    "            return shortestPath\n",
    "        else:\n",
    "            neighbors = findNeighboringCells(currentCell, maze)\n",
    "            for neighbor in neighbors:\n",
    "                if neighbor in visited:\n",
    "                    continue\n",
    "                nextPathLength = pathLength + heuristicFunction(maze = maze, cell = neighbor)\n",
    "                fringe.put((nextPathLength, neighbor))\n",
    "            visited.append(currentCell)\n",
    "    return None"
   ]
  },
  {
   "cell_type": "code",
   "execution_count": 12,
   "metadata": {},
   "outputs": [
    {
     "name": "stdout",
     "output_type": "stream",
     "text": [
      "[[ 0  0  0]\n",
      " [-1 -1  0]\n",
      " [ 0 -1  0]]\n",
      "Is solvable?  True\n"
     ]
    }
   ],
   "source": [
    "m1 = Maze(3,0.2,0.2)\n",
    "print(m1.board)\n",
    "print(\"Is solvable? \", m1.isSolvable())"
   ]
  },
  {
   "cell_type": "code",
   "execution_count": 13,
   "metadata": {},
   "outputs": [
    {
     "name": "stdout",
     "output_type": "stream",
     "text": [
      "1\n",
      "1\n",
      "2\n",
      "2\n",
      "3\n",
      "4\n",
      "5\n",
      "6\n",
      "6\n",
      "6\n",
      "7\n",
      "8\n",
      "9\n",
      "[(0, 0), (0, 1), (0, 2), (1, 2), (2, 2)]\n"
     ]
    }
   ],
   "source": [
    "print(shortestPathSearch(m1))"
   ]
  },
  {
   "cell_type": "code",
   "execution_count": 9,
   "metadata": {},
   "outputs": [],
   "source": [
    "def run_secondStrat(maze):\n",
    "    \"\"\"\n",
    "    Algorithm:\n",
    "    1. Identify shortest path to goal\n",
    "        1.1. If found, move agent according to path\n",
    "        1.2. Else, keep the agent in place\n",
    "    2. Check if the agent reached the goal\n",
    "        2.1. If true, terminate and return success\n",
    "        2.2. Else, continue\n",
    "    3. Advance the fire and check if the agent is burned\n",
    "        3.1. If burned, terminate and return failure\n",
    "        3.2. Else, continue at step 1\n",
    "    \"\"\"\n",
    "    m = maze\n",
    "    m.startFire()\n",
    "    agent = (0,0)\n",
    "    \n",
    "    #Step 1\n",
    "    shortestPath = shortestPathSearch(m, agent)\n",
    "    if shortestPath != None:\n",
    "        agent = shortestPath[1]\n",
    "    #Step 2\n",
    "    if agent == (m.dim-1, m.dim-1):\n",
    "        return True\n",
    "    \n",
    "    #Step 3\n",
    "    print(m.board)\n",
    "    print(shortestPath)\n",
    "        \n"
   ]
  },
  {
   "cell_type": "code",
   "execution_count": 10,
   "metadata": {},
   "outputs": [
    {
     "name": "stdout",
     "output_type": "stream",
     "text": [
      "[[0 0 0]\n",
      " [2 0 0]\n",
      " [0 0 0]]\n",
      "[(0, 0), (0, 1), (1, 1), (1, 2), (2, 2)]\n"
     ]
    }
   ],
   "source": [
    "run_secondStrat(m1)"
   ]
  },
  {
   "cell_type": "code",
   "execution_count": null,
   "metadata": {},
   "outputs": [],
   "source": []
  }
 ],
 "metadata": {
  "kernelspec": {
   "display_name": "Python 3",
   "language": "python",
   "name": "python3"
  },
  "language_info": {
   "codemirror_mode": {
    "name": "ipython",
    "version": 3
   },
   "file_extension": ".py",
   "mimetype": "text/x-python",
   "name": "python",
   "nbconvert_exporter": "python",
   "pygments_lexer": "ipython3",
   "version": "3.8.3"
  }
 },
 "nbformat": 4,
 "nbformat_minor": 4
}
