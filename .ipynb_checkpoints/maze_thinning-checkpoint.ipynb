{
 "cells": [
  {
   "cell_type": "code",
   "execution_count": 52,
   "metadata": {},
   "outputs": [],
   "source": [
    "import import_ipynb\n",
    "from maze_common import Maze, shortestPathSearch\n",
    "import time\n",
    "import random as rnd\n",
    "import numpy as np\n",
    "import copy"
   ]
  },
  {
   "cell_type": "code",
   "execution_count": 59,
   "metadata": {},
   "outputs": [
    {
     "name": "stdout",
     "output_type": "stream",
     "text": [
      "[[ 0  0 -1 -1  0]\n",
      " [ 0  0 -1  0  0]\n",
      " [ 0  0 -1  0  0]\n",
      " [ 0  0  0  0 -1]\n",
      " [-1  0  0  0  0]] \n",
      "Is solvable?  True\n"
     ]
    }
   ],
   "source": [
    "maze = Maze(5, .3)\n",
    "solvable = maze.isSolvable()\n",
    "print(maze.board, \"\\nIs solvable? \", solvable)"
   ]
  },
  {
   "cell_type": "code",
   "execution_count": 49,
   "metadata": {},
   "outputs": [
    {
     "name": "stdout",
     "output_type": "stream",
     "text": [
      "***** Found shortest path in 0.0049877166748046875 seconds *****\n",
      "[(0, 0), (1, 0), (2, 0), (2, 1), (2, 2), (3, 2), (4, 2), (4, 3), (4, 4)]\n"
     ]
    }
   ],
   "source": [
    "def manhattanDistance(maze, cell):\n",
    "    return abs(cell.row - (maze.dim - 1)) + abs(cell.col - (maze.dim - 1))\n",
    "\n",
    "if (solvable):\n",
    "    startTime = time.time()\n",
    "    shortestPath = shortestPathSearch(maze, heuristicFunction = manhattanDistance)\n",
    "    print(\"***** Found shortest path in %s seconds *****\" % (time.time() - startTime))\n",
    "    print(shortestPath)\n",
    "    "
   ]
  },
  {
   "cell_type": "code",
   "execution_count": 62,
   "metadata": {},
   "outputs": [
    {
     "name": "stdout",
     "output_type": "stream",
     "text": [
      "Original obstacles:  6 \n",
      " [[0 2]\n",
      " [0 3]\n",
      " [1 2]\n",
      " [2 2]\n",
      " [3 4]\n",
      " [4 0]]\n",
      "Thinned obstacles:  2 \n",
      " [[0 3]\n",
      " [3 4]]\n",
      "Thinned maze:\n",
      " [[ 0  0  0 -1  0]\n",
      " [ 0  0  0  0  0]\n",
      " [ 0  0  0  0  0]\n",
      " [ 0  0  0  0 -1]\n",
      " [ 0  0  0  0  0]]\n"
     ]
    }
   ],
   "source": [
    "def thinMaze(maze, fractionRemove):\n",
    "    numRemove = round(fractionRemove * maze.obstacles.shape[0])\n",
    "    thinMaze = copy.deepcopy(maze)\n",
    "    for i in range(0,numRemove):\n",
    "        indexRemove = int(rnd.random() * thinMaze.obstacles.shape[0])\n",
    "        obstacleX, obstacleY = thinMaze.obstacles[indexRemove]\n",
    "        thinMaze.obstacles = np.delete(thinMaze.obstacles,indexRemove, axis=0)\n",
    "        thinMaze.board[obstacleX][obstacleY] = 0\n",
    "    return thinMaze\n",
    "    \n",
    "thinnedMaze = thinMaze(maze, .6)\n",
    "print(\"Original obstacles: \", maze.obstacles.shape[0], \"\\n\", maze.obstacles)\n",
    "print(\"Thinned obstacles: \", thinnedMaze.obstacles.shape[0], \"\\n\",thinnedMaze.obstacles)\n",
    "print(\"Thinned maze:\\n\", thinnedMaze.board)"
   ]
  },
  {
   "cell_type": "code",
   "execution_count": 66,
   "metadata": {},
   "outputs": [
    {
     "name": "stdout",
     "output_type": "stream",
     "text": [
      "1 0\n",
      "L 7\n",
      "0 1\n",
      "L 7\n",
      "1 1\n",
      "L 6\n",
      "0 0\n",
      "L 8\n",
      "2 0\n",
      "L 6\n",
      "0 0\n",
      "L 8\n",
      "1 1\n",
      "L 6\n",
      "2 1\n",
      "L 5\n",
      "0 1\n",
      "L 7\n",
      "1 0\n",
      "L 7\n",
      "2 1\n",
      "L 5\n",
      "0 1\n",
      "L 7\n",
      "1 0\n",
      "L 7\n",
      "3 0\n",
      "L 5\n",
      "1 0\n",
      "L 7\n",
      "2 1\n",
      "L 5\n",
      "1 0\n",
      "L 7\n",
      "0 1\n",
      "L 7\n",
      "1 0\n",
      "L 7\n",
      "0 1\n",
      "L 7\n",
      "3 1\n",
      "L 4\n",
      "1 1\n",
      "L 6\n",
      "2 0\n",
      "L 6\n",
      "3 1\n",
      "L 4\n",
      "1 1\n",
      "L 6\n",
      "2 0\n",
      "L 6\n",
      "3 1\n",
      "L 4\n",
      "1 1\n",
      "L 6\n",
      "2 0\n",
      "L 6\n",
      "2 0\n",
      "L 6\n",
      "3 1\n",
      "L 4\n",
      "1 1\n",
      "L 6\n",
      "0 0\n",
      "L 8\n",
      "1 1\n",
      "L 6\n",
      "0 0\n",
      "L 8\n",
      "2 0\n",
      "L 6\n",
      "0 0\n",
      "L 8\n",
      "1 1\n"
     ]
    },
    {
     "ename": "KeyboardInterrupt",
     "evalue": "",
     "output_type": "error",
     "traceback": [
      "\u001b[1;31m---------------------------------------------------------------------------\u001b[0m",
      "\u001b[1;31mKeyboardInterrupt\u001b[0m                         Traceback (most recent call last)",
      "\u001b[1;32m<ipython-input-66-975cdcfd6969>\u001b[0m in \u001b[0;36m<module>\u001b[1;34m\u001b[0m\n\u001b[0;32m     13\u001b[0m \u001b[1;32mif\u001b[0m \u001b[1;33m(\u001b[0m\u001b[0msolvable\u001b[0m\u001b[1;33m)\u001b[0m\u001b[1;33m:\u001b[0m\u001b[1;33m\u001b[0m\u001b[1;33m\u001b[0m\u001b[0m\n\u001b[0;32m     14\u001b[0m     \u001b[0mstartTime\u001b[0m \u001b[1;33m=\u001b[0m \u001b[0mtime\u001b[0m\u001b[1;33m.\u001b[0m\u001b[0mtime\u001b[0m\u001b[1;33m(\u001b[0m\u001b[1;33m)\u001b[0m\u001b[1;33m\u001b[0m\u001b[1;33m\u001b[0m\u001b[0m\n\u001b[1;32m---> 15\u001b[1;33m     \u001b[0mshortestPath\u001b[0m \u001b[1;33m=\u001b[0m \u001b[0mshortestPathSearch\u001b[0m\u001b[1;33m(\u001b[0m\u001b[0mmaze\u001b[0m\u001b[1;33m,\u001b[0m \u001b[0mheuristicFunction\u001b[0m \u001b[1;33m=\u001b[0m \u001b[0mthinnedMazeShortestPathLength\u001b[0m\u001b[1;33m)\u001b[0m\u001b[1;33m\u001b[0m\u001b[1;33m\u001b[0m\u001b[0m\n\u001b[0m\u001b[0;32m     16\u001b[0m     \u001b[0mprint\u001b[0m\u001b[1;33m(\u001b[0m\u001b[1;34m\"***** Found shortest path in %s seconds *****\"\u001b[0m \u001b[1;33m%\u001b[0m \u001b[1;33m(\u001b[0m\u001b[0mtime\u001b[0m\u001b[1;33m.\u001b[0m\u001b[0mtime\u001b[0m\u001b[1;33m(\u001b[0m\u001b[1;33m)\u001b[0m \u001b[1;33m-\u001b[0m \u001b[0mstartTime\u001b[0m\u001b[1;33m)\u001b[0m\u001b[1;33m)\u001b[0m\u001b[1;33m\u001b[0m\u001b[1;33m\u001b[0m\u001b[0m\n\u001b[0;32m     17\u001b[0m     \u001b[0mprint\u001b[0m\u001b[1;33m(\u001b[0m\u001b[0mshortestPath\u001b[0m\u001b[1;33m)\u001b[0m\u001b[1;33m\u001b[0m\u001b[1;33m\u001b[0m\u001b[0m\n",
      "\u001b[1;32m~\\OneDrive\\Documents\\Fall 2020\\AI\\Maze\\maze_common.ipynb\u001b[0m in \u001b[0;36mshortestPathSearch\u001b[1;34m(maze, startCoords, heuristicFunction)\u001b[0m\n",
      "\u001b[1;32m<ipython-input-66-975cdcfd6969>\u001b[0m in \u001b[0;36mthinnedMazeShortestPathLength\u001b[1;34m(maze, cell)\u001b[0m\n\u001b[0;32m      4\u001b[0m     \u001b[0mprint\u001b[0m\u001b[1;33m(\u001b[0m\u001b[0mcell\u001b[0m\u001b[1;33m.\u001b[0m\u001b[0mrow\u001b[0m\u001b[1;33m,\u001b[0m \u001b[0mcell\u001b[0m\u001b[1;33m.\u001b[0m\u001b[0mcol\u001b[0m\u001b[1;33m)\u001b[0m\u001b[1;33m\u001b[0m\u001b[1;33m\u001b[0m\u001b[0m\n\u001b[0;32m      5\u001b[0m     \u001b[1;32mif\u001b[0m \u001b[1;33m(\u001b[0m\u001b[1;33m(\u001b[0m\u001b[0mcell\u001b[0m\u001b[1;33m.\u001b[0m\u001b[0mrow\u001b[0m\u001b[1;33m,\u001b[0m \u001b[0mcell\u001b[0m\u001b[1;33m.\u001b[0m\u001b[0mcol\u001b[0m\u001b[1;33m)\u001b[0m\u001b[1;33m)\u001b[0m \u001b[1;32mnot\u001b[0m \u001b[1;32min\u001b[0m \u001b[0mvisited\u001b[0m\u001b[1;33m.\u001b[0m\u001b[0mkeys\u001b[0m\u001b[1;33m(\u001b[0m\u001b[1;33m)\u001b[0m\u001b[1;33m:\u001b[0m\u001b[1;33m\u001b[0m\u001b[1;33m\u001b[0m\u001b[0m\n\u001b[1;32m----> 6\u001b[1;33m         \u001b[0mlength\u001b[0m \u001b[1;33m=\u001b[0m \u001b[0mlen\u001b[0m\u001b[1;33m(\u001b[0m\u001b[0mshortestPathSearch\u001b[0m\u001b[1;33m(\u001b[0m\u001b[0mthinnedMaze\u001b[0m\u001b[1;33m,\u001b[0m \u001b[0mstartCoords\u001b[0m \u001b[1;33m=\u001b[0m \u001b[1;33m(\u001b[0m\u001b[0mcell\u001b[0m\u001b[1;33m.\u001b[0m\u001b[0mrow\u001b[0m\u001b[1;33m,\u001b[0m \u001b[0mcell\u001b[0m\u001b[1;33m.\u001b[0m\u001b[0mcol\u001b[0m\u001b[1;33m)\u001b[0m\u001b[1;33m)\u001b[0m\u001b[1;33m)\u001b[0m \u001b[1;33m-\u001b[0m \u001b[1;36m1\u001b[0m\u001b[1;33m\u001b[0m\u001b[1;33m\u001b[0m\u001b[0m\n\u001b[0m\u001b[0;32m      7\u001b[0m \u001b[1;31m#         visited[(cell.row, cell.col)] = length\u001b[0m\u001b[1;33m\u001b[0m\u001b[1;33m\u001b[0m\u001b[1;33m\u001b[0m\u001b[0m\n\u001b[0;32m      8\u001b[0m     \u001b[1;32melse\u001b[0m\u001b[1;33m:\u001b[0m\u001b[1;33m\u001b[0m\u001b[1;33m\u001b[0m\u001b[0m\n",
      "\u001b[1;32m~\\OneDrive\\Documents\\Fall 2020\\AI\\Maze\\maze_common.ipynb\u001b[0m in \u001b[0;36mshortestPathSearch\u001b[1;34m(maze, startCoords, heuristicFunction)\u001b[0m\n",
      "\u001b[1;32m~\\OneDrive\\Documents\\Fall 2020\\AI\\Maze\\maze_common.ipynb\u001b[0m in \u001b[0;36m__eq__\u001b[1;34m(self, other)\u001b[0m\n",
      "\u001b[1;31mKeyboardInterrupt\u001b[0m: "
     ]
    }
   ],
   "source": [
    "visited = {}\n",
    "\n",
    "def thinnedMazeShortestPathLength(maze, cell):\n",
    "    print(cell.row, cell.col)\n",
    "    if ((cell.row, cell.col)) not in visited.keys():\n",
    "        length = len(shortestPathSearch(thinnedMaze, startCoords = (cell.row, cell.col))) - 1\n",
    "        visited[(cell.row, cell.col)] = length\n",
    "    else:\n",
    "        length = visited[(cell.row, cell.col)]\n",
    "    print(\"L\", length)\n",
    "    return length\n",
    "\n",
    "if (solvable):\n",
    "    startTime = time.time()\n",
    "    shortestPath = shortestPathSearch(maze, heuristicFunction = thinnedMazeShortestPathLength)\n",
    "    print(\"***** Found shortest path in %s seconds *****\" % (time.time() - startTime))\n",
    "    print(shortestPath)"
   ]
  },
  {
   "cell_type": "code",
   "execution_count": null,
   "metadata": {},
   "outputs": [],
   "source": []
  }
 ],
 "metadata": {
  "kernelspec": {
   "display_name": "Python 3",
   "language": "python",
   "name": "python3"
  },
  "language_info": {
   "codemirror_mode": {
    "name": "ipython",
    "version": 3
   },
   "file_extension": ".py",
   "mimetype": "text/x-python",
   "name": "python",
   "nbconvert_exporter": "python",
   "pygments_lexer": "ipython3",
   "version": "3.8.3"
  }
 },
 "nbformat": 4,
 "nbformat_minor": 4
}
