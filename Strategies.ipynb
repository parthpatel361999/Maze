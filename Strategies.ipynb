{
 "cells": [
  {
   "cell_type": "markdown",
   "metadata": {},
   "source": [
    "Define a function to run \"Strategy 1\" on a given maze. This strategy identifies the shortest path from the start to the goal location in the given maze one time at the start of the function. The agent is then moved along this path and the fire is advanced every time after the agent moves. If the agent reaches the goal, True is returned. Otherwise, False is returned."
   ]
  },
  {
   "cell_type": "code",
   "execution_count": null,
   "metadata": {},
   "outputs": [],
   "source": [
    "from maze_common import *\n",
    "\n",
    "def first_Strategy(maze):\n",
    "    m = maze\n",
    "    path = None\n",
    "    # calculate the shortest path after the instantiation of the maze (i.e obstacles set and fire started)\n",
    "    result = shortestPathSearch(m)\n",
    "    if result != None:\n",
    "        path = result[0]\n",
    "    if path == None:\n",
    "        return False\n",
    "    # using the initial path generated, iterate through the path, checking if one of the cells along the path catches fire\n",
    "    for p in path:\n",
    "        checki = p[0] \n",
    "        checkj = p[1]\n",
    "        #print(checki)\n",
    "        if maze.board[(checki,checkj)] == 2: # if the current cell is fire, return False\n",
    "            return False\n",
    "        elif checki == maze.dim - 1 and checkj == maze.dim - 1: # if goal, return True\n",
    "            return True\n",
    "        else:\n",
    "            m.iterateFire() # iterate the fire if current cell is not goal or if agent is still alive"
   ]
  },
  {
   "cell_type": "markdown",
   "metadata": {},
   "source": [
    "Define a function to run \"Strategy 2\" on a given maze. This strategy identifies the shortest path from the start to the goal location in the given maze everytime before it is the agent's turn to move. The agent moves along this path and the fire is advanced every time after the agent moves. If the agent reaches the goal, True is returned. Otherwise, False is returned."
   ]
  },
  {
   "cell_type": "code",
   "execution_count": null,
   "metadata": {},
   "outputs": [],
   "source": [
    "def second_Strategy(maze):\n",
    "    m = maze\n",
    "    agent = (0,0)\n",
    "    shortestPath = None\n",
    "    while True: #Loop exit conditions: Agent reaches goal or agent gets burned\n",
    "        result = shortestPathSearch(m, agent) #recalculate the shortest path from the agent to the goal at agent's turn\n",
    "        if result != None:\n",
    "            shortestPath = result[0]\n",
    "        else:\n",
    "            return False\n",
    "        if shortestPath != None: #if a shortest path was found, move the agent in that direction\n",
    "            agent = shortestPath[1]\n",
    "        if agent == (m.dim-1, m.dim-1): #returns true if the agent reaches the goal, otherwise continue\n",
    "            return True\n",
    "        m.iterateFire() #advances the fire immediately after the agent's turn\n",
    "        if m.board[agent] == 2: #returns false if the fire reaches the agent, otherwise continue\n",
    "            return False"
   ]
  },
  {
   "cell_type": "markdown",
   "metadata": {},
   "source": [
    "Define a function to run \"Strategy 3\" on a given maze. This strategy identifies the shortest weighted path from the start to the goal location in the given maze using the adjacentFireHeuristic (for custom weight assignments) everytime before it is the agent's turn to move. The agent moves along this path and the fire is advanced every time after the agent moves. If the agent reaches the goal, True is returned. Otherwise, False is returned."
   ]
  },
  {
   "cell_type": "code",
   "execution_count": null,
   "metadata": {},
   "outputs": [],
   "source": [
    "def third_Strategy(maze):\n",
    "    m = maze\n",
    "    #m.startFire()\n",
    "    agent = (0,0)\n",
    "    shortestPath = None\n",
    "    while True: #Loop exit conditions: Agent reaches goal or agent gets burned\n",
    "        result = shortestPathSearch(m, agent, heuristicFunction=adjacentFireHeuristic) #recalculate the shortest weighted path from the agent to the goal using the adjacentFireHeuristic\n",
    "        if result != None:\n",
    "            shortestPath = result[0]\n",
    "        else:\n",
    "            return False\n",
    "        if shortestPath != None: #if a shortest path exists, advance the agent one step along the path\n",
    "            agent = shortestPath[1]\n",
    "        if agent == (m.dim-1, m.dim-1): #if the agent reached the goal, return True\n",
    "            return True\n",
    "        m.iterateFire() #advances the fire immediately after the agent's turn\n",
    "        if m.board[agent] == 2: #if the agent's current cell is now on fire, return False\n",
    "            return False"
   ]
  },
  {
   "cell_type": "markdown",
   "metadata": {},
   "source": [
    "Define a heuristic that assigns weight k+1 to a given cell where k is the number of adjacent cells that are on fire."
   ]
  },
  {
   "cell_type": "code",
   "execution_count": null,
   "metadata": {},
   "outputs": [],
   "source": [
    "def adjacentFireHeuristic(cell, maze, visited):\n",
    "    cellRow = cell.coords[0]\n",
    "    cellCol = cell.coords[1]\n",
    "    potentialNeighbors = [(cellRow + 1, cellCol), (cellRow - 1, cellCol), (cellRow, cellCol - 1), (cellRow, cellCol + 1)] #identify all potential neighbors to current cell\n",
    "    weight = 1\n",
    "    for potentialNeighbor in potentialNeighbors:\n",
    "        row, col = potentialNeighbor\n",
    "        if (row >= maze.dim or row < 0 or col >= maze.dim or col < 0 or maze.board[row,col] != 2): #if the neighbor is out-of-bounds or not on fire, ignore it\n",
    "            continue\n",
    "        weight += 1 #add 1 to weight for each neighbor of the current cell that is on fire\n",
    "    return weight"
   ]
  },
  {
   "cell_type": "code",
   "execution_count": null,
   "metadata": {},
   "outputs": [],
   "source": [
    "def testStrategy(strategy, dim, p=0.3): # p is set according to project document, strategy must be function name to test\n",
    "    #dim = 10\n",
    "    q = 0.1 # start testing each strategy with initial flammability of 0.1\n",
    "    q_values = [] # list to keep track of the different flammability rates (for plotting later)\n",
    "    avgSuccesses = [] # list to keep track of the average success rates (for plotting later)\n",
    "    \n",
    "    while q < 1: # run strategy for each test value of q (flammability rate)\n",
    "        run_count = 0 # counter for number of tests run\n",
    "        success_count = 0 # counter for number of successes\n",
    "        fail_count = 0 # counter for number of failures\n",
    "        \n",
    "        testMaze = Maze(dim, p, q) # generate a maze with given dimension, obstacle probability, and flammability rate\n",
    "        while(testMaze.isSolvable() == False): # generate a new maze if the maze is not solvable\n",
    "            testMaze = Maze(dim, p, q)\n",
    "        maze = copy.deepcopy(testMaze) # create deep copy of inital maze to run the testing\n",
    "        \n",
    "        while run_count < 100: \n",
    "            maze.startFire() # start fire on created maze\n",
    "            result = strategy(maze) # run given strategy on the maze and record the result\n",
    "            if result == True: # if agent survives, increment number of successes for this given q\n",
    "                success_count +=1\n",
    "            elif result == None:\n",
    "                continue\n",
    "            else:\n",
    "                fail_count +=1\n",
    "            run_count += 1\n",
    "            maze = copy.deepcopy(testMaze) # reset the maze to not include the fires from testing the previous maze\n",
    "        \n",
    "        successRate = success_count / (success_count + fail_count) # calculate success rate given all of the generated mazes for given q\n",
    "        q_values.append(q) \n",
    "        avgSuccesses.append(successRate)\n",
    "        q += 0.05 # increment the flammability rate to test again\n",
    "        \n",
    "    q_values_array = np.asarray(q_values) # convert list to array to plot\n",
    "    avgSuccessRate = np.asarray(avgSuccesses) # convert list to array to plot\n",
    "    \n",
    "    plt.figure() # plot the average success rate vs. flammability rate for given strategy \n",
    "    plt.plot(q_values_array, avgSuccessRate, 'o')\n",
    "    plt.xlabel(\"Flammability Rate\")\n",
    "    plt.ylabel(\"Average Success Rate\")\n",
    "    plt.title(strategy.__name__)\n",
    "    plt.show()"
   ]
  }
 ],
 "metadata": {
  "kernelspec": {
   "display_name": "Python 3",
   "language": "python",
   "name": "python3"
  },
  "language_info": {
   "codemirror_mode": {
    "name": "ipython",
    "version": 3
   },
   "file_extension": ".py",
   "mimetype": "text/x-python",
   "name": "python",
   "nbconvert_exporter": "python",
   "pygments_lexer": "ipython3",
   "version": "3.8.3"
  }
 },
 "nbformat": 4,
 "nbformat_minor": 4
}
