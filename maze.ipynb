{
 "cells": [
  {
   "cell_type": "code",
   "execution_count": 5,
   "metadata": {},
   "outputs": [],
   "source": [
    "import random as rnd\n",
    "import numpy as np\n",
    "import pandas as pd\n",
    "from queue import Queue"
   ]
  },
  {
   "cell_type": "code",
   "execution_count": 6,
   "metadata": {},
   "outputs": [],
   "source": [
    "class Cell: \n",
    "    def __init__(self, i, j, prev = None):\n",
    "        self.i = i\n",
    "        self.j = j\n",
    "        self.prev = prev  "
   ]
  },
  {
   "cell_type": "code",
   "execution_count": 7,
   "metadata": {},
   "outputs": [],
   "source": [
    "def bfs(board,dim): #find if shortest path exists without fire\n",
    "        #operating on the maze itself\n",
    "        s = cell(0,0) #format of tuple for queue: current_i,current_j\n",
    "        q = Queue()\n",
    "        q.put(s)\n",
    "        while(q.empty() == False):\n",
    "            curr = q.get()\n",
    "            board[curr.i][curr.j] = 1\n",
    "            if(curr.i == dim-1 and curr.j == dim-1):\n",
    "                return curr\n",
    "            moves = [(curr.i -1, curr.j),\n",
    "                     (curr.i +1, curr.j),\n",
    "                     (curr.i , curr.j -1),\n",
    "                     (curr.i , curr.j +1)]\n",
    "            for move in moves:\n",
    "                if(move[0] >= 0 and move[1] >= 0 and move[0] <= dim-1 and move[1] <= dim-1):\n",
    "                    if(board[move[0]][move[1]] == 0):\n",
    "                        n = cell(move[0],move[1])\n",
    "                        n.prev = curr\n",
    "                        q.put(n)\n",
    "            \n",
    "        return None"
   ]
  },
  {
   "cell_type": "code",
   "execution_count": 8,
   "metadata": {},
   "outputs": [],
   "source": [
    "class Maze:\n",
    "    # -1 is barrier, 0 is free\n",
    "    def __init__(self,dim,p):\n",
    "        self.board =  [[0]*dim for i in range(dim)]\n",
    "        self.dim = dim\n",
    "        obstaclesList = []\n",
    "        i = 0\n",
    "        while (i < dim ):\n",
    "            j = 0 \n",
    "            if (i == 0): j = 1\n",
    "            while(j < dim):\n",
    "                if(rnd.random() < p):\n",
    "                    if(i != dim-1 and j != dim-1):\n",
    "                        self.board[i][j] = -1\n",
    "                        obstaclesList.append((i, j))\n",
    "                j = j + 1\n",
    "            i = i + 1\n",
    "        self.obstacles = np.array(obstaclesList)\n",
    "    def is_Solvable(self):\n",
    "        end = bfs(self.board,self.dim)\n",
    "        print(type(end))\n",
    "        if (end == None):\n",
    "            return False\n",
    "        while(end != None):\n",
    "            print(str(end.i) + \" \" + str(end.j) + \"->\")\n",
    "            end = end.prev\n",
    "        #clean board:\n",
    "        i = 0\n",
    "        while(i < self.dim):\n",
    "            j = 0\n",
    "            while(j < self.dim):\n",
    "                if(self.board[i][j] == 1):\n",
    "                    self.board[i][j] = 0\n",
    "                j = j + 1\n",
    "            i = i + 1\n",
    "        return True\n",
    "    def start_fire(self):\n",
    "        i = rnd.randint(0,self.dim-1)\n",
    "        j = rnd.randint(0,self.dim-1)\n",
    "        while(self.board[i][j] == -1 or (i==0 and j ==0) or (i == self.dim-1 and j == self.dim-1)):\n",
    "            i = rnd.randint(0,self.dim-1)\n",
    "            j = rnd.randint(0,self.dim-1)\n",
    "        self.board[i][j] = 2"
   ]
  },
  {
   "cell_type": "code",
   "execution_count": 12,
   "metadata": {},
   "outputs": [
    {
     "name": "stdout",
     "output_type": "stream",
     "text": [
      "[[0, -1, 0], [-1, 0, 0], [0, 0, 0]]\n"
     ]
    }
   ],
   "source": [
    "m1 = Maze(3,0.5)\n",
    "print(m1.board)"
   ]
  },
  {
   "cell_type": "code",
   "execution_count": 8,
   "metadata": {},
   "outputs": [
    {
     "name": "stdout",
     "output_type": "stream",
     "text": [
      "<class '__main__.cell'>\n",
      "2 2->\n",
      "2 1->\n",
      "2 0->\n",
      "1 0->\n",
      "0 0->\n"
     ]
    },
    {
     "data": {
      "text/plain": [
       "True"
      ]
     },
     "execution_count": 8,
     "metadata": {},
     "output_type": "execute_result"
    }
   ],
   "source": [
    "m1.is_Solvable()"
   ]
  },
  {
   "cell_type": "code",
   "execution_count": 9,
   "metadata": {
    "scrolled": true
   },
   "outputs": [
    {
     "name": "stdout",
     "output_type": "stream",
     "text": [
      "[[0, 0, 0], [0, -1, 0], [2, 0, 0]]\n"
     ]
    }
   ],
   "source": [
    "m1.start_fire()\n",
    "print(m1.board)"
   ]
  },
  {
   "cell_type": "code",
   "execution_count": null,
   "metadata": {},
   "outputs": [],
   "source": []
  },
  {
   "cell_type": "code",
   "execution_count": null,
   "metadata": {},
   "outputs": [],
   "source": []
  }
 ],
 "metadata": {
  "kernelspec": {
   "display_name": "Python 3",
   "language": "python",
   "name": "python3"
  },
  "language_info": {
   "codemirror_mode": {
    "name": "ipython",
    "version": 3
   },
   "file_extension": ".py",
   "mimetype": "text/x-python",
   "name": "python",
   "nbconvert_exporter": "python",
   "pygments_lexer": "ipython3",
   "version": "3.8.3"
  }
 },
 "nbformat": 4,
 "nbformat_minor": 4
}
