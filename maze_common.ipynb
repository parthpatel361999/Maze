{
 "cells": [
  {
   "cell_type": "code",
   "execution_count": 1,
   "metadata": {},
   "outputs": [],
   "source": [
    "from queue import PriorityQueue, Queue\n",
    "import numpy as np\n",
    "import random as rnd"
   ]
  },
  {
   "cell_type": "code",
   "execution_count": 5,
   "metadata": {},
   "outputs": [],
   "source": [
    "class Cell: \n",
    "    def __init__(self, row, col, prev = None):\n",
    "        self.row = row\n",
    "        self.col = col\n",
    "        self.prev = prev\n",
    "    def __lt__(self, other):        \n",
    "        if (self.row == other.row):\n",
    "            return self.col < other.col\n",
    "        return self.row < other.row\n",
    "    def __eq__(self, other):\n",
    "        return self.row == other.row and self.col == other.col and self.prev is other.prev\n",
    "    def __str__(self):\n",
    "        return \"(\" + str(self.row) + \", \" + str(self.col) + \") :: prev=\" + \"NONE\" if self.prev is None else \"(\" + str(self.prev.row) + \", \" + str(self.prev.col) + \")\"\n",
    "    def __repr__(self):\n",
    "        return \"(\" + str(self.row) + \", \" + str(self.col) + \") :: prev=\" + \"NONE\" if self.prev is None else \"(\" + str(self.prev.row) + \", \" + str(self.prev.col) + \")\""
   ]
  },
  {
   "cell_type": "code",
   "execution_count": 40,
   "metadata": {},
   "outputs": [],
   "source": [
    "class Maze:\n",
    "    # -1 is barrier, 0 is free\n",
    "    def __init__(self, dim, p):\n",
    "        self.board =  np.zeros([dim, dim], dtype=int)\n",
    "        self.dim = dim\n",
    "        obstaclesList = []\n",
    "        for i in range(0, dim):\n",
    "            for j in range(0, dim):            \n",
    "                if(rnd.random() < p):\n",
    "                    self.board[i, j] = -1\n",
    "                    obstaclesList.append((i, j))\n",
    "        self.obstacles = np.array(obstaclesList)\n",
    "        self.board[0, 0] = 0\n",
    "        self.board[dim - 1, dim - 1] = 0\n",
    "    def isSolvable(self):\n",
    "        return pathExists(self)\n",
    "    def startFire(self):\n",
    "        i = rnd.randint(0,self.dim-1)\n",
    "        j = rnd.randint(0,self.dim-1)\n",
    "        while(self.board[i][j] == -1 or (i==0 and j == 0) or (i == self.dim-1 and j == self.dim-1)):\n",
    "            i = rnd.randint(0,self.dim-1)\n",
    "            j = rnd.randint(0,self.dim-1)\n",
    "        self.board[i][j] = 2"
   ]
  },
  {
   "cell_type": "code",
   "execution_count": 4,
   "metadata": {},
   "outputs": [],
   "source": [
    "def pathExists(maze, fromCoords = (0,0), toCoords = None):\n",
    "    if toCoords is None:\n",
    "        toCoords = (maze.dim - 1, maze.dim - 1)\n",
    "    toRow, toCol = toCoords\n",
    "    visited = []\n",
    "    fringe = Queue()\n",
    "    fringe.put(fromCoords)\n",
    "    while not fringe.empty():\n",
    "        currentCoords = fringe.get()\n",
    "        currentRow, currentCol = currentCoords\n",
    "        if (currentRow == toRow and currentCol == toCol):\n",
    "            return True\n",
    "        else:\n",
    "            neighbors = findNeighboringCoords(currentCoords, maze)\n",
    "            for neighbor in neighbors:\n",
    "                if neighbor in visited:\n",
    "                    continue\n",
    "                fringe.put(neighbor)\n",
    "            visited.append(currentCoords)\n",
    "    return False"
   ]
  },
  {
   "cell_type": "code",
   "execution_count": 42,
   "metadata": {},
   "outputs": [],
   "source": [
    "def findNeighboringCoords(coords, maze):\n",
    "    cellRow, cellCol = coords\n",
    "    potentialNeighbors = [(cellRow + 1, cellCol), (cellRow - 1, cellCol), (cellRow, cellCol - 1), (cellRow, cellCol + 1)]\n",
    "    neighbors = []\n",
    "    for potentialNeighbor in potentialNeighbors:\n",
    "        row, col = potentialNeighbor\n",
    "        if (row >= maze.dim or row < 0 or col >= maze.dim or col < 0 or maze.board[row][col] != 0):\n",
    "            continue\n",
    "        neighbors.append(potentialNeighbor)\n",
    "    return neighbors\n",
    "\n",
    "def findNeighboringCells(cell, maze):\n",
    "    neighboringCoords = findNeighboringCoords((cell.row, cell.col), maze)\n",
    "    neighbors = []\n",
    "    for neighbor in neighboringCoords:\n",
    "        row, col = neighbor\n",
    "        neighbors.append(Cell(row, col, cell))\n",
    "    return neighbors"
   ]
  },
  {
   "cell_type": "code",
   "execution_count": 6,
   "metadata": {},
   "outputs": [],
   "source": [
    "def uniformCost(maze, cell):\n",
    "    return 1\n",
    "\n",
    "def shortestPathSearch(maze, startCoords = (0, 0), heuristicFunction = uniformCost):\n",
    "    startRow, startCol = startCoords\n",
    "    startCell = Cell(startRow, startCol)\n",
    "    visited = []\n",
    "    fringe = PriorityQueue()\n",
    "    fringe.put((0, startCell))\n",
    "    while not fringe.empty():\n",
    "        pathLength, currentCell = fringe.get()\n",
    "        if (currentCell.row == maze.dim - 1 and currentCell.col == maze.dim - 1):\n",
    "            shortestPath = []\n",
    "            while (currentCell != startCell):\n",
    "                shortestPath.append((currentCell.row, currentCell.col))\n",
    "                currentCell = currentCell.prev\n",
    "            shortestPath.append((startRow, startCol))\n",
    "            shortestPath.reverse()\n",
    "            return shortestPath\n",
    "        else:\n",
    "            neighbors = findNeighboringCells(currentCell, maze)\n",
    "            for neighbor in neighbors:\n",
    "                if neighbor in visited:\n",
    "                    continue\n",
    "                nextPathLength = pathLength + heuristicFunction(maze = maze, cell = neighbor)\n",
    "                fringe.put((nextPathLength, neighbor))\n",
    "            visited.append(currentCell)\n",
    "    return None"
   ]
  },
  {
   "cell_type": "code",
   "execution_count": 6,
   "metadata": {},
   "outputs": [
    {
     "name": "stdout",
     "output_type": "stream",
     "text": [
      "(0, 0) :: prev=NONE\n"
     ]
    },
    {
     "ename": "NameError",
     "evalue": "name 'prev' is not defined",
     "output_type": "error",
     "traceback": [
      "\u001b[1;31m---------------------------------------------------------------------------\u001b[0m",
      "\u001b[1;31mNameError\u001b[0m                                 Traceback (most recent call last)",
      "\u001b[1;32m<ipython-input-6-f321ba627785>\u001b[0m in \u001b[0;36m<module>\u001b[1;34m\u001b[0m\n\u001b[0;32m      2\u001b[0m \u001b[0mcell2\u001b[0m \u001b[1;33m=\u001b[0m \u001b[0mCell\u001b[0m\u001b[1;33m(\u001b[0m\u001b[1;36m0\u001b[0m\u001b[1;33m,\u001b[0m \u001b[1;36m1\u001b[0m\u001b[1;33m,\u001b[0m \u001b[0mcell\u001b[0m\u001b[1;33m)\u001b[0m\u001b[1;33m\u001b[0m\u001b[1;33m\u001b[0m\u001b[0m\n\u001b[0;32m      3\u001b[0m \u001b[0mprint\u001b[0m\u001b[1;33m(\u001b[0m\u001b[0mcell\u001b[0m\u001b[1;33m)\u001b[0m\u001b[1;33m\u001b[0m\u001b[1;33m\u001b[0m\u001b[0m\n\u001b[1;32m----> 4\u001b[1;33m \u001b[0mprint\u001b[0m\u001b[1;33m(\u001b[0m\u001b[0mcell2\u001b[0m\u001b[1;33m)\u001b[0m\u001b[1;33m\u001b[0m\u001b[1;33m\u001b[0m\u001b[0m\n\u001b[0m",
      "\u001b[1;32m<ipython-input-5-73c5eb8bc9ad>\u001b[0m in \u001b[0;36m__str__\u001b[1;34m(self)\u001b[0m\n\u001b[0;32m     11\u001b[0m         \u001b[1;32mreturn\u001b[0m \u001b[0mself\u001b[0m\u001b[1;33m.\u001b[0m\u001b[0mrow\u001b[0m \u001b[1;33m==\u001b[0m \u001b[0mother\u001b[0m\u001b[1;33m.\u001b[0m\u001b[0mrow\u001b[0m \u001b[1;32mand\u001b[0m \u001b[0mself\u001b[0m\u001b[1;33m.\u001b[0m\u001b[0mcol\u001b[0m \u001b[1;33m==\u001b[0m \u001b[0mother\u001b[0m\u001b[1;33m.\u001b[0m\u001b[0mcol\u001b[0m \u001b[1;32mand\u001b[0m \u001b[0mself\u001b[0m\u001b[1;33m.\u001b[0m\u001b[0mprev\u001b[0m \u001b[1;32mis\u001b[0m \u001b[0mother\u001b[0m\u001b[1;33m.\u001b[0m\u001b[0mprev\u001b[0m\u001b[1;33m\u001b[0m\u001b[1;33m\u001b[0m\u001b[0m\n\u001b[0;32m     12\u001b[0m     \u001b[1;32mdef\u001b[0m \u001b[0m__str__\u001b[0m\u001b[1;33m(\u001b[0m\u001b[0mself\u001b[0m\u001b[1;33m)\u001b[0m\u001b[1;33m:\u001b[0m\u001b[1;33m\u001b[0m\u001b[1;33m\u001b[0m\u001b[0m\n\u001b[1;32m---> 13\u001b[1;33m         \u001b[1;32mreturn\u001b[0m \u001b[1;34m\"(\"\u001b[0m \u001b[1;33m+\u001b[0m \u001b[0mstr\u001b[0m\u001b[1;33m(\u001b[0m\u001b[0mself\u001b[0m\u001b[1;33m.\u001b[0m\u001b[0mrow\u001b[0m\u001b[1;33m)\u001b[0m \u001b[1;33m+\u001b[0m \u001b[1;34m\", \"\u001b[0m \u001b[1;33m+\u001b[0m \u001b[0mstr\u001b[0m\u001b[1;33m(\u001b[0m\u001b[0mself\u001b[0m\u001b[1;33m.\u001b[0m\u001b[0mcol\u001b[0m\u001b[1;33m)\u001b[0m \u001b[1;33m+\u001b[0m \u001b[1;34m\") :: prev=\"\u001b[0m \u001b[1;33m+\u001b[0m \u001b[1;34m\"NONE\"\u001b[0m \u001b[1;32mif\u001b[0m \u001b[0mself\u001b[0m\u001b[1;33m.\u001b[0m\u001b[0mprev\u001b[0m \u001b[1;32mis\u001b[0m \u001b[1;32mNone\u001b[0m \u001b[1;32melse\u001b[0m \u001b[1;34m\"(\"\u001b[0m \u001b[1;33m+\u001b[0m \u001b[0mstr\u001b[0m\u001b[1;33m(\u001b[0m\u001b[0mprev\u001b[0m\u001b[1;33m.\u001b[0m\u001b[0mrow\u001b[0m\u001b[1;33m)\u001b[0m \u001b[1;33m+\u001b[0m \u001b[1;34m\", \"\u001b[0m \u001b[1;33m+\u001b[0m \u001b[0mstr\u001b[0m\u001b[1;33m(\u001b[0m\u001b[0mprev\u001b[0m\u001b[1;33m.\u001b[0m\u001b[0mcol\u001b[0m\u001b[1;33m)\u001b[0m \u001b[1;33m+\u001b[0m \u001b[1;34m\")\"\u001b[0m\u001b[1;33m\u001b[0m\u001b[1;33m\u001b[0m\u001b[0m\n\u001b[0m\u001b[0;32m     14\u001b[0m     \u001b[1;32mdef\u001b[0m \u001b[0m__repr__\u001b[0m\u001b[1;33m(\u001b[0m\u001b[0mself\u001b[0m\u001b[1;33m)\u001b[0m\u001b[1;33m:\u001b[0m\u001b[1;33m\u001b[0m\u001b[1;33m\u001b[0m\u001b[0m\n\u001b[0;32m     15\u001b[0m         \u001b[1;32mreturn\u001b[0m \u001b[1;34m\"(\"\u001b[0m \u001b[1;33m+\u001b[0m \u001b[0mstr\u001b[0m\u001b[1;33m(\u001b[0m\u001b[0mself\u001b[0m\u001b[1;33m.\u001b[0m\u001b[0mrow\u001b[0m\u001b[1;33m)\u001b[0m \u001b[1;33m+\u001b[0m \u001b[1;34m\", \"\u001b[0m \u001b[1;33m+\u001b[0m \u001b[0mstr\u001b[0m\u001b[1;33m(\u001b[0m\u001b[0mself\u001b[0m\u001b[1;33m.\u001b[0m\u001b[0mcol\u001b[0m\u001b[1;33m)\u001b[0m \u001b[1;33m+\u001b[0m \u001b[1;34m\") :: prev=\"\u001b[0m \u001b[1;33m+\u001b[0m \u001b[1;34m\"NONE\"\u001b[0m \u001b[1;32mif\u001b[0m \u001b[0mself\u001b[0m\u001b[1;33m.\u001b[0m\u001b[0mprev\u001b[0m \u001b[1;32mis\u001b[0m \u001b[1;32mNone\u001b[0m \u001b[1;32melse\u001b[0m \u001b[1;34m\"(\"\u001b[0m \u001b[1;33m+\u001b[0m \u001b[0mstr\u001b[0m\u001b[1;33m(\u001b[0m\u001b[0mprev\u001b[0m\u001b[1;33m.\u001b[0m\u001b[0mrow\u001b[0m\u001b[1;33m)\u001b[0m \u001b[1;33m+\u001b[0m \u001b[1;34m\", \"\u001b[0m \u001b[1;33m+\u001b[0m \u001b[0mstr\u001b[0m\u001b[1;33m(\u001b[0m\u001b[0mprev\u001b[0m\u001b[1;33m.\u001b[0m\u001b[0mcol\u001b[0m\u001b[1;33m)\u001b[0m \u001b[1;33m+\u001b[0m \u001b[1;34m\")\"\u001b[0m\u001b[1;33m\u001b[0m\u001b[1;33m\u001b[0m\u001b[0m\n",
      "\u001b[1;31mNameError\u001b[0m: name 'prev' is not defined"
     ]
    }
   ],
   "source": [
    "cell = Cell(0, 0)\n",
    "cell2 = Cell(0, 1, cell)\n",
    "print(cell)\n",
    "print(cell2)"
   ]
  },
  {
   "cell_type": "code",
   "execution_count": null,
   "metadata": {},
   "outputs": [],
   "source": []
  },
  {
   "cell_type": "code",
   "execution_count": null,
   "metadata": {},
   "outputs": [],
   "source": []
  },
  {
   "cell_type": "code",
   "execution_count": null,
   "metadata": {},
   "outputs": [],
   "source": []
  }
 ],
 "metadata": {
  "kernelspec": {
   "display_name": "Python 3",
   "language": "python",
   "name": "python3"
  },
  "language_info": {
   "codemirror_mode": {
    "name": "ipython",
    "version": 3
   },
   "file_extension": ".py",
   "mimetype": "text/x-python",
   "name": "python",
   "nbconvert_exporter": "python",
   "pygments_lexer": "ipython3",
   "version": "3.8.3"
  }
 },
 "nbformat": 4,
 "nbformat_minor": 4
}
