{
 "cells": [
  {
   "cell_type": "code",
   "execution_count": 1,
   "metadata": {},
   "outputs": [],
   "source": [
    "from queue import PriorityQueue, Queue\n",
    "import numpy as np\n",
    "import random as rnd"
   ]
  },
  {
   "cell_type": "code",
   "execution_count": 2,
   "metadata": {},
   "outputs": [],
   "source": [
    "class Cell: \n",
    "    def __init__(self, row, col, prev = None):\n",
    "        self.row = row\n",
    "        self.col = col\n",
    "        self.prev = prev"
   ]
  },
  {
   "cell_type": "code",
   "execution_count": 40,
   "metadata": {},
   "outputs": [],
   "source": [
    "class Maze:\n",
    "    # -1 is barrier, 0 is free\n",
    "    def __init__(self, dim, p):\n",
    "        self.board =  np.zeros([dim, dim], dtype=int)\n",
    "        self.dim = dim\n",
    "        obstaclesList = []\n",
    "        for i in range(0, dim):\n",
    "            for j in range(0, dim):            \n",
    "                if(rnd.random() < p):\n",
    "                    self.board[i, j] = -1\n",
    "                    obstaclesList.append((i, j))\n",
    "        self.obstacles = np.array(obstaclesList)\n",
    "        self.board[0, 0] = 0\n",
    "        self.board[dim - 1, dim - 1] = 0\n",
    "    def isSolvable(self):\n",
    "        return pathExists(self)\n",
    "    def startFire(self):\n",
    "        i = rnd.randint(0,self.dim-1)\n",
    "        j = rnd.randint(0,self.dim-1)\n",
    "        while(self.board[i][j] == -1 or (i==0 and j == 0) or (i == self.dim-1 and j == self.dim-1)):\n",
    "            i = rnd.randint(0,self.dim-1)\n",
    "            j = rnd.randint(0,self.dim-1)\n",
    "        self.board[i][j] = 2"
   ]
  },
  {
   "cell_type": "code",
   "execution_count": 4,
   "metadata": {},
   "outputs": [],
   "source": [
    "def pathExists(maze, fromCoords = (0,0), toCoords = None):\n",
    "    if toCoords is None:\n",
    "        toCoords = (maze.dim - 1, maze.dim - 1)\n",
    "    toRow, toCol = toCoords\n",
    "    visited = []\n",
    "    fringe = Queue()\n",
    "    fringe.put(fromCoords)\n",
    "    while not fringe.empty():\n",
    "        currentCoords = fringe.get()\n",
    "        currentRow, currentCol = currentCoords\n",
    "        if (currentRow == toRow and currentCol == toCol):\n",
    "            return True\n",
    "        else:\n",
    "            neighbors = findNeighboringCoords(currentCoords, maze)\n",
    "            for neighbor in neighbors:\n",
    "                if neighbor in visited:\n",
    "                    continue\n",
    "                fringe.put(neighbor)\n",
    "            visited.append(currentCoords)\n",
    "    return False"
   ]
  },
  {
   "cell_type": "code",
   "execution_count": 42,
   "metadata": {},
   "outputs": [],
   "source": [
    "def findNeighboringCoords(coords, maze):\n",
    "    cellRow, cellCol = coords\n",
    "    potentialNeighbors = [(cellRow + 1, cellCol), (cellRow - 1, cellCol), (cellRow, cellCol - 1), (cellRow, cellCol + 1)]\n",
    "    neighbors = []\n",
    "    for potentialNeighbor in potentialNeighbors:\n",
    "        row, col = potentialNeighbor\n",
    "        if (row >= maze.dim or row < 0 or col >= maze.dim or col < 0 or maze.board[row][col] != 0):\n",
    "            continue\n",
    "        neighbors.append(potentialNeighbor)\n",
    "    return neighbors\n",
    "\n",
    "def findNeighboringCells(cell, maze):\n",
    "    neighboringCoords = findNeighboringCoords((cell.row, cell.col), maze)\n",
    "    neighbors = []\n",
    "    for neighbor in neighboringCoords:\n",
    "        row, col = neighbor\n",
    "        neighbors.append(Cell(row, col, cell))\n",
    "    return neighbors"
   ]
  },
  {
   "cell_type": "code",
   "execution_count": 6,
   "metadata": {},
   "outputs": [],
   "source": [
    "def uniformCostFunction():\n",
    "    return 1\n",
    "\n",
    "def shortestPathSearch(maze, startCoords = (0, 0), heuristicFunction = uniformCostFunction):\n",
    "    startRow, startCol = startCoords\n",
    "    startCell = Cell(startRow, startCol)\n",
    "    visited = []\n",
    "    fringe = PriorityQueue()\n",
    "    fringe.put((0, startCell))\n",
    "    while not fringe.empty():\n",
    "        pathLength, currentCell = fringe.get()\n",
    "        if (currentCell.i == maze.dim - 1 and currentCell.j == maze.dim - 1):\n",
    "            shortestPath = []\n",
    "            while (currentCell != startCell):\n",
    "                shortestPath.append((currentCell.i, currentCell.j))\n",
    "                currentCell = currentCell.parent\n",
    "            shortestPath.reverse()\n",
    "            return shortestPath\n",
    "        else:\n",
    "            neighbors = findNeighbors(currentCell, maze)\n",
    "            for neighbor in neighbors:\n",
    "                if neighbor in visited:\n",
    "                    continue\n",
    "                nextPathLength = pathLength + heuristicFunction(maze, neighbor)\n",
    "                fringe.put((nextPathLength, neighbor))\n",
    "            visited.append(currentCell)\n",
    "    return None"
   ]
  },
  {
   "cell_type": "code",
   "execution_count": 46,
   "metadata": {},
   "outputs": [
    {
     "name": "stdout",
     "output_type": "stream",
     "text": [
      "[[ 0 -1 -1  0 -1]\n",
      " [-1  0 -1 -1 -1]\n",
      " [-1  0  0  0 -1]\n",
      " [ 0 -1 -1 -1 -1]\n",
      " [ 0  0 -1  0  0]]\n",
      "Is solvable?  False\n"
     ]
    }
   ],
   "source": [
    "m1 = Maze(5,0.5)\n",
    "print(m1.board)\n",
    "print(\"Is solvable? \", m1.isSolvable())"
   ]
  },
  {
   "cell_type": "code",
   "execution_count": null,
   "metadata": {},
   "outputs": [],
   "source": []
  },
  {
   "cell_type": "code",
   "execution_count": null,
   "metadata": {},
   "outputs": [],
   "source": []
  },
  {
   "cell_type": "code",
   "execution_count": null,
   "metadata": {},
   "outputs": [],
   "source": []
  }
 ],
 "metadata": {
  "kernelspec": {
   "display_name": "Python 3",
   "language": "python",
   "name": "python3"
  }
 },
 "nbformat": 4,
 "nbformat_minor": 4
}
