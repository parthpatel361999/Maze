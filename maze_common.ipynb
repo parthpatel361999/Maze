{
 "cells": [
  {
   "cell_type": "code",
   "execution_count": 1,
   "metadata": {},
   "outputs": [],
   "source": [
    "from queue import PriorityQueue, LifoQueue\n",
    "import numpy as np\n",
    "import random as rnd"
   ]
  },
  {
   "cell_type": "code",
   "execution_count": 5,
   "metadata": {},
   "outputs": [],
   "source": [
    "class Cell: \n",
    "    OPEN = 0\n",
    "    BLOCKED = -1\n",
    "    ON_FIRE = 2\n",
    "    def __init__(self, row, col, prev = None):\n",
    "        self.row = row\n",
    "        self.col = col\n",
    "        self.prev = prev\n",
    "    def __lt__(self, other):        \n",
    "        if (self.row == other.row):\n",
    "            return self.col < other.col\n",
    "        return self.row < other.row\n",
    "    def __eq__(self, other):\n",
    "        return self.row == other.row and self.col == other.col and self.prev is other.prev\n",
    "    def __str__(self):\n",
    "        return \"(\" + str(self.row) + \", \" + str(self.col) + \") :: prev=\" + (\"NONE\" if self.prev is None else \"(\" + str(self.prev.row) + \", \" + str(self.prev.col) + \")\")\n",
    "    def __repr__(self):\n",
    "        return \"(\" + str(self.row) + \", \" + str(self.col) + \") :: prev=\" + (\"NONE\" if self.prev is None else \"(\" + str(self.prev.row) + \", \" + str(self.prev.col) + \")\")"
   ]
  },
  {
   "cell_type": "code",
   "execution_count": 6,
   "metadata": {},
   "outputs": [],
   "source": [
    "class Maze:\n",
    "    def __init__(self, dim, p, q = 0):\n",
    "        self.board =  np.zeros([dim, dim], dtype=int)\n",
    "        self.dim = dim\n",
    "        self.currentfire = []\n",
    "        self.q = q\n",
    "        self.p = p\n",
    "        obstaclesList = []\n",
    "        for i in range(0, dim): #range() generates a list from 0 to dim-1 which can take up a lot of memory\n",
    "            for j in range(0, dim):             \n",
    "                if(rnd.random() < p):\n",
    "                    self.board[i, j] = Cell.BLOCKED\n",
    "                    obstaclesList.append((i, j))\n",
    "        self.obstacles = np.array(obstaclesList)\n",
    "        self.board[0, 0] = Cell.OPEN\n",
    "        self.board[dim - 1, dim - 1] = Cell.OPEN\n",
    "\n",
    "    def isSolvable(self):\n",
    "        return pathExists(self)\n",
    "    \n",
    "    def startFire(self):\n",
    "        i = rnd.randint(0,self.dim-1)\n",
    "        j = rnd.randint(0,self.dim-1)\n",
    "        while(self.board[i,j] == -1 or (i==0 and j == 0) or (i == self.dim-1 and j == self.dim-1)):\n",
    "            i = rnd.randint(0,self.dim-1)\n",
    "            j = rnd.randint(0,self.dim-1)\n",
    "        self.board[i,j] = Cell.ON_FIRE\n",
    "        self.currentfire.append([i,j,None])\n",
    "    \n",
    "    def iterateFire(self):\n",
    "        visited = [] #neighbors already visited in current iteration\n",
    "        nowonfire = [] #need to append all new fires at the end \n",
    "        for f in self.currentfire:\n",
    "            if(f[2] != 0): #check to see if all neighbors are already on fire. \n",
    "                neighbors = findNeighboringFlammableCoords(f[0:2],self) #calculate valid neighbors of f, the cell that is currently on fire\n",
    "                ofnbor = 0 #counter to find out how many neighbors are on fire\n",
    "                for n in neighbors: #loop through the neighbors of f\n",
    "                    nr,nc = n \n",
    "                    if (self.board[nr,nc] == Cell.ON_FIRE): \n",
    "                        ofnbor = ofnbor + 1 \n",
    "                    else:\n",
    "                        if(n[0:2] not in visited): #only roll once for each cell not on fire\n",
    "                            if(self.board[nr,nc] != Cell.BLOCKED):\n",
    "                                surroundings = findNeighboringFlammableCoords(n[0:2],self) #see what the neighbors are for the neighbor of f\n",
    "                                k = 0 #k will be guaranteed to be at least 1\n",
    "                                for nn in surroundings:\n",
    "                                    nnr,nnc = nn\n",
    "                                    if(self.board[nnr,nnc] == Cell.ON_FIRE):\n",
    "                                        k = k + 1 #counter\n",
    "                                if(rnd.random() <= (1-((1-self.q)**k))): #roll\n",
    "                                    self.board[nr,nc] = Cell.ON_FIRE \n",
    "                                    nowonfire.append([nr,nc,None])\n",
    "                                    ofnbor = ofnbor + 1\n",
    "                                else:\n",
    "                                    visited.append([nr,nc])\n",
    "                if(ofnbor == len(neighbors)):\n",
    "                        f[2] = 0\n",
    "        if(nowonfire):\n",
    "            for x in nowonfire:\n",
    "                self.currentfire.append(x)"
   ]
  },
  {
   "cell_type": "code",
   "execution_count": 7,
   "metadata": {},
   "outputs": [],
   "source": [
    "def pathExists(maze, fromCoords = (0,0), toCoords = None):\n",
    "    if toCoords is None:\n",
    "        toCoords = (maze.dim - 1, maze.dim - 1)\n",
    "    toRow, toCol = toCoords\n",
    "    visited = set()\n",
    "    fringe = LifoQueue()\n",
    "    fringe.put(fromCoords)\n",
    "    while not fringe.empty():\n",
    "        currentCoords = fringe.get()\n",
    "        currentRow, currentCol = currentCoords\n",
    "        if (currentRow == toRow and currentCol == toCol):\n",
    "            return True\n",
    "        else:\n",
    "            neighbors = findNeighboringOpenCoords(currentCoords, maze)\n",
    "            for neighbor in neighbors:\n",
    "                if neighbor in visited:\n",
    "                    continue\n",
    "                fringe.put(neighbor)\n",
    "            visited.add(currentCoords)\n",
    "    return False"
   ]
  },
  {
   "cell_type": "code",
   "execution_count": 8,
   "metadata": {},
   "outputs": [],
   "source": [
    "def findNeighboringOpenCoords(coords, maze):\n",
    "    cellRow, cellCol = coords\n",
    "    potentialNeighbors = [(cellRow + 1, cellCol), (cellRow - 1, cellCol), (cellRow, cellCol - 1), (cellRow, cellCol + 1)]\n",
    "    neighbors = []\n",
    "    for potentialNeighbor in potentialNeighbors:\n",
    "        row, col = potentialNeighbor\n",
    "        if (row >= maze.dim or row < 0 or col >= maze.dim or col < 0 or maze.board[row,col] != Cell.OPEN):\n",
    "            continue\n",
    "        neighbors.append(potentialNeighbor)\n",
    "    return neighbors\n",
    "\n",
    "def findNeighboringOpenCells(cell, maze):\n",
    "    neighboringCoords = findNeighboringOpenCoords((cell.row, cell.col), maze)\n",
    "    neighbors = []\n",
    "    for neighbor in neighboringCoords:\n",
    "        row, col = neighbor\n",
    "        neighbors.append(Cell(row, col, cell))\n",
    "    return neighbors\n",
    "\n",
    "def findNeighboringFlammableCoords(coords,maze): \n",
    "    cellRow, cellCol = coords\n",
    "    potentialNeighbors = [(cellRow + 1, cellCol), (cellRow - 1, cellCol), (cellRow, cellCol - 1), (cellRow, cellCol + 1)]\n",
    "    neighbors = []\n",
    "    for potentialNeighbor in potentialNeighbors:\n",
    "        row, col = potentialNeighbor\n",
    "        if (row >= maze.dim or row < 0 or col >= maze.dim or col < 0 or maze.board[row,col] == Cell.BLOCKED):\n",
    "            continue\n",
    "        neighbors.append(potentialNeighbor)\n",
    "    return neighbors"
   ]
  },
  {
   "cell_type": "code",
   "execution_count": 9,
   "metadata": {},
   "outputs": [],
   "source": [
    "def uniformCost(maze, cell):\n",
    "    return 1\n",
    "def shortestPathSearch(maze, startCoords = (0, 0), heuristicFunction = uniformCost, findNeighbors = findNeighboringOpenCells):\n",
    "    startRow, startCol = startCoords\n",
    "    startCell = Cell(startRow, startCol)\n",
    "    visited = set()\n",
    "    fringe = PriorityQueue()\n",
    "    fringe.put((0, startCell))\n",
    "    while not fringe.empty():\n",
    "        pathLength, currentCell = fringe.get()\n",
    "        if (currentCell.row == maze.dim - 1 and currentCell.col == maze.dim - 1):\n",
    "            shortestPath = []\n",
    "            while (currentCell != startCell):\n",
    "                shortestPath.append((currentCell.row, currentCell.col))\n",
    "                currentCell = currentCell.prev\n",
    "            shortestPath.append((startRow, startCol))\n",
    "            shortestPath.reverse()\n",
    "            return shortestPath\n",
    "        else:\n",
    "            neighbors = findNeighbors(cell = currentCell, maze = maze)\n",
    "            for neighbor in neighbors:\n",
    "                if (neighbor.row, neighbor.col) in visited:\n",
    "                    continue\n",
    "                nextPathLength = pathLength + heuristicFunction(maze = maze, cell = neighbor)\n",
    "                fringe.put((nextPathLength, neighbor))\n",
    "            visited.add((currentCell.row, currentCell.col))\n",
    "    return None"
   ]
  },
  {
   "cell_type": "code",
   "execution_count": 8,
   "metadata": {},
   "outputs": [
    {
     "name": "stdout",
     "output_type": "stream",
     "text": [
      "[[ 0  0 -1  0  0  0  0 -1  0  0 -1 -1  0  0 -1]\n",
      " [-1  0  0  0 -1  0  0 -1  0 -1 -1 -1  0 -1  0]\n",
      " [-1  0  0  0 -1  0 -1  0 -1 -1 -1  0  0  0 -1]\n",
      " [ 0  0 -1  0 -1  0  0  0  0  0  0 -1 -1  0  0]\n",
      " [ 0  0  0 -1  0  0  0  0 -1  0 -1  0 -1  0  0]\n",
      " [ 0  0 -1  0  0  0  0 -1  0 -1  0  0  0 -1  0]\n",
      " [-1  0  0  0  0  0  0  0 -1 -1  0 -1 -1  0  0]\n",
      " [ 0 -1  0 -1 -1  0  0  0  0 -1  0 -1  0 -1  0]\n",
      " [ 0  0 -1 -1 -1 -1 -1  0  0  0 -1  0  0  0  0]\n",
      " [ 0 -1  0  0  0  0  0  0  0 -1  0  0  0  0  0]\n",
      " [ 0  0 -1  0  0  0  0  0 -1  0 -1  0  0  0  0]\n",
      " [ 0  0  0  0 -1  0  0  0 -1  0 -1 -1  0 -1  0]\n",
      " [-1 -1  0  0  0 -1  0  0  0 -1  0 -1  0  0 -1]\n",
      " [ 0  0  0  0  0 -1  0  0  0  0  0  0  0  0  0]\n",
      " [ 0 -1  0  0  0  0  0  0 -1 -1 -1 -1  0  0  0]]\n"
     ]
    }
   ],
   "source": [
    "m1 = Maze(15, .3, 0.5)\n",
    "while (m1.isSolvable() is False):\n",
    "    m1 = Maze(15,0.3,0.5)\n",
    "print(m1.board)"
   ]
  },
  {
   "cell_type": "code",
   "execution_count": 9,
   "metadata": {},
   "outputs": [
    {
     "name": "stdout",
     "output_type": "stream",
     "text": [
      "[[ 0  0 -1  0  0  0  0 -1  0  0 -1 -1  0  0 -1]\n",
      " [-1  0  0  0 -1  0  0 -1  0 -1 -1 -1  0 -1  0]\n",
      " [-1  0  0  0 -1  0 -1  0 -1 -1 -1  0  0  0 -1]\n",
      " [ 0  0 -1  0 -1  0  0  0  0  0  0 -1 -1  0  0]\n",
      " [ 0  0  0 -1  0  0  0  0 -1  0 -1  0 -1  0  0]\n",
      " [ 0  0 -1  0  0  0  0 -1  0 -1  0  0  0 -1  0]\n",
      " [-1  0  0  0  0  0  0  0 -1 -1  0 -1 -1  0  0]\n",
      " [ 0 -1  0 -1 -1  0  0  0  0 -1  0 -1  0 -1  0]\n",
      " [ 0  0 -1 -1 -1 -1 -1  0  0  0 -1  0  0  0  0]\n",
      " [ 0 -1  0  0  0  0  0  0  0 -1  0  0  0  0  0]\n",
      " [ 0  0 -1  0  0  0  0  0 -1  0 -1  0  0  0  0]\n",
      " [ 0  0  0  0 -1  0  0  0 -1  0 -1 -1  0 -1  0]\n",
      " [-1 -1  0  0  0 -1  0  0  0 -1  0 -1  0  0 -1]\n",
      " [ 0  2  0  0  0 -1  0  0  0  0  0  0  0  0  0]\n",
      " [ 0 -1  0  0  0  0  0  0 -1 -1 -1 -1  0  0  0]]\n"
     ]
    }
   ],
   "source": [
    "m1.startFire()\n",
    "print(m1.board)"
   ]
  },
  {
   "cell_type": "code",
   "execution_count": 34,
   "metadata": {},
   "outputs": [
    {
     "name": "stdout",
     "output_type": "stream",
     "text": [
      "[[ 0  0 -1  0  0  0  0 -1  0  0 -1 -1  0  0 -1]\n",
      " [-1  0  0  0 -1  0  0 -1  0 -1 -1 -1  0 -1  0]\n",
      " [-1  0  0  0 -1  0 -1  0 -1 -1 -1  0  0  0 -1]\n",
      " [ 0  0 -1  0 -1  0  0  0  0  0  0 -1 -1  0  0]\n",
      " [ 0  0  0 -1  0  0  0  0 -1  0 -1  0 -1  0  0]\n",
      " [ 0  0 -1  0  0  0  0 -1  0 -1  0  0  0 -1  0]\n",
      " [-1  0  0  0  0  2  2  2 -1 -1  0 -1 -1  0  0]\n",
      " [ 2 -1  0 -1 -1  2  2  2  2 -1  0 -1  0 -1  0]\n",
      " [ 2  2 -1 -1 -1 -1 -1  2  2  2 -1  0  0  0  0]\n",
      " [ 2 -1  2  2  2  2  2  2  2 -1  0  0  0  0  0]\n",
      " [ 2  2 -1  2  2  2  2  2 -1  0 -1  0  0  0  0]\n",
      " [ 2  2  2  2 -1  2  2  2 -1  0 -1 -1  0 -1  0]\n",
      " [-1 -1  2  2  2 -1  2  2  2 -1  2 -1  2  2 -1]\n",
      " [ 2  2  2  2  2 -1  2  2  2  2  2  2  2  2  2]\n",
      " [ 2 -1  2  2  2  2  2  2 -1 -1 -1 -1  2  2  2]]\n"
     ]
    }
   ],
   "source": [
    "m1.iterateFire()\n",
    "print(m1.board)"
   ]
  },
  {
   "cell_type": "code",
   "execution_count": 35,
   "metadata": {},
   "outputs": [
    {
     "name": "stdout",
     "output_type": "stream",
     "text": [
      "[[13, 1, 0], [13, 2, 0], [13, 0, 0], [14, 2, 0], [13, 3, 0], [14, 0, 0], [14, 3, 0], [12, 3, 0], [13, 4, 0], [12, 2, 0], [14, 4, 0], [12, 4, 0], [11, 2, 0], [14, 5, 0], [11, 3, 0], [11, 1, 0], [14, 6, 0], [13, 6, 0], [10, 3, 0], [12, 6, 0], [13, 7, 0], [10, 1, 0], [10, 4, 0], [11, 6, 0], [12, 7, 0], [11, 0, 0], [14, 7, 0], [10, 0, 0], [9, 4, 0], [10, 5, 0], [9, 3, 0], [13, 8, 0], [10, 6, 0], [11, 5, 0], [11, 7, 0], [12, 8, 0], [9, 0, 0], [9, 5, 0], [13, 9, 0], [10, 7, 0], [9, 6, 0], [8, 0, 0], [13, 10, 0], [9, 7, 0], [7, 0, 0], [12, 10, 0], [8, 7, 0], [9, 2, 0], [8, 8, 0], [9, 8, 0], [7, 7, 0], [8, 1, 0], [13, 11, 0], [7, 8, 0], [8, 9, 0], [13, 12, None], [6, 7, 0], [12, 12, None], [13, 13, 0], [7, 6, 0], [6, 6, None], [14, 13, 0], [12, 13, 0], [13, 14, None], [7, 5, None], [6, 5, None], [14, 12, None], [14, 14, None]]\n"
     ]
    }
   ],
   "source": [
    "print(m1.currentfire)"
   ]
  },
  {
   "cell_type": "code",
   "execution_count": null,
   "metadata": {},
   "outputs": [],
   "source": []
  }
 ],
 "metadata": {
  "kernelspec": {
   "display_name": "Python 3",
   "language": "python",
   "name": "python3"
  },
  "language_info": {
   "codemirror_mode": {
    "name": "ipython",
    "version": 3
   },
   "file_extension": ".py",
   "mimetype": "text/x-python",
   "name": "python",
   "nbconvert_exporter": "python",
   "pygments_lexer": "ipython3",
   "version": "3.8.3"
  }
 },
 "nbformat": 4,
 "nbformat_minor": 4
}
