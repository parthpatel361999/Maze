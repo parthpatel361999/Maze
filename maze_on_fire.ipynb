{
 "cells": [
  {
   "cell_type": "markdown",
   "metadata": {},
   "source": [
    "Define a function to run \"Strategy 1\" on a given maze. This strategy identifies the shortest path from the start to the goal location in the given maze one time at the start of the function. The agent is then moved along this path and the fire is advanced every time after the agent moves. If the agent reaches the goal, True is returned. Otherwise, False is returned."
   ]
  },
  {
   "cell_type": "code",
   "execution_count": 1,
   "metadata": {},
   "outputs": [],
   "source": [
    "from maze_common import *\n",
    "import copy\n",
    "\n",
    "def first_Strategy(maze):\n",
    "    m = maze\n",
    "    path = None\n",
    "    # calculate the shortest path after the instantiation of the maze (i.e obstacles set and fire started)\n",
    "    result = shortestPathSearch(m)\n",
    "    if result != None:\n",
    "        path = result[0]\n",
    "    if path == None:\n",
    "        return False\n",
    "    # using the initial path generated, iterate through the path, checking if one of the cells along the path catches fire\n",
    "    for p in path:\n",
    "        checki = p[0] \n",
    "        checkj = p[1]\n",
    "        #print(checki)\n",
    "        if maze.board[(checki,checkj)] == 2: # if the current cell is fire, return False\n",
    "            return False\n",
    "        elif checki == maze.dim - 1 and checkj == maze.dim - 1: # if goal, return True\n",
    "            return True\n",
    "        else:\n",
    "            m.iterateFire() # iterate the fire if current cell is not goal or if agent is still alive"
   ]
  },
  {
   "cell_type": "markdown",
   "metadata": {},
   "source": [
    "Define a function to run \"Strategy 2\" on a given maze. This strategy identifies the shortest path from the start to the goal location in the given maze everytime before it is the agent's turn to move. The agent moves along this path and the fire is advanced every time after the agent moves. If the agent reaches the goal, True is returned. Otherwise, False is returned."
   ]
  },
  {
   "cell_type": "code",
   "execution_count": 2,
   "metadata": {},
   "outputs": [],
   "source": [
    "def second_Strategy(maze):\n",
    "    m = maze\n",
    "    agent = (0,0)\n",
    "    shortestPath = None\n",
    "    while True: #Loop exit conditions: Agent reaches goal or agent gets burned\n",
    "        result = shortestPathSearch(m, agent) #recalculate the shortest path from the agent to the goal at agent's turn\n",
    "        if result != None:\n",
    "            shortestPath = result[0]\n",
    "        else:\n",
    "            return False\n",
    "        if shortestPath != None: #if a shortest path was found, move the agent in that direction\n",
    "            agent = shortestPath[1]\n",
    "        if agent == (m.dim-1, m.dim-1): #returns true if the agent reaches the goal, otherwise continue\n",
    "            return True\n",
    "        m.iterateFire() #advances the fire immediately after the agent's turn\n",
    "        if m.board[agent] == 2: #returns false if the fire reaches the agent, otherwise continue\n",
    "            return False"
   ]
  },
  {
   "cell_type": "markdown",
   "metadata": {},
   "source": [
    "Define a function to run \"Strategy 3\" on a given maze. This strategy identifies the shortest weighted path from the start to the goal location in the given maze using the adjacentFireHeuristic (for custom weight assignments) everytime before it is the agent's turn to move. The agent moves along this path and the fire is advanced every time after the agent moves. If the agent reaches the goal, True is returned. Otherwise, False is returned."
   ]
  },
  {
   "cell_type": "code",
   "execution_count": 3,
   "metadata": {},
   "outputs": [],
   "source": [
    "def third_Strategy(maze):\n",
    "    m = maze\n",
    "    #m.startFire()\n",
    "    agent = (0,0)\n",
    "    shortestPath = None\n",
    "    while True: #Loop exit conditions: Agent reaches goal or agent gets burned\n",
    "        result = shortestPathSearch(m, agent, heuristicFunction=adjacentFireHeuristic) #recalculate the shortest weighted path from the agent to the goal using the adjacentFireHeuristic\n",
    "        if result != None:\n",
    "            shortestPath = result[0]\n",
    "        else:\n",
    "            return False\n",
    "        if shortestPath != None: #if a shortest path exists, advance the agent one step along the path\n",
    "            agent = shortestPath[1]\n",
    "        if agent == (m.dim-1, m.dim-1): #if the agent reached the goal, return True\n",
    "            return True\n",
    "        m.iterateFire() #advances the fire immediately after the agent's turn\n",
    "        if m.board[agent] == 2: #if the agent's current cell is now on fire, return False\n",
    "            return False"
   ]
  },
  {
   "cell_type": "markdown",
   "metadata": {},
   "source": [
    "Define a heuristic that assigns weight k+1 to a given cell where k is the number of adjacent cells that are on fire."
   ]
  },
  {
   "cell_type": "code",
   "execution_count": 4,
   "metadata": {},
   "outputs": [],
   "source": [
    "def adjacentFireHeuristic(cell, maze, visited):\n",
    "    cellRow = cell.coords[0]\n",
    "    cellCol = cell.coords[1]\n",
    "    potentialNeighbors = [(cellRow + 1, cellCol), (cellRow - 1, cellCol), (cellRow, cellCol - 1), (cellRow, cellCol + 1)] #identify all potential neighbors to current cell\n",
    "    weight = 1\n",
    "    for potentialNeighbor in potentialNeighbors:\n",
    "        row, col = potentialNeighbor\n",
    "        if (row >= maze.dim or row < 0 or col >= maze.dim or col < 0 or maze.board[row,col] != 2): #if the neighbor is out-of-bounds or not on fire, ignore it\n",
    "            continue\n",
    "        weight += 1 #add 1 to weight for each neighbor of the current cell that is on fire\n",
    "    return weight"
   ]
  },
  {
   "cell_type": "markdown",
   "metadata": {},
   "source": [
    "Define a function to run \"Strategy 4\" on a given maze. This strategy first takes an inputted maze with a started fire and simulates the growth of the fire over dim squared turns for 30 iterations. These simulations are used to calculate the porbability that a given cell will ignite at a given timestep. Then, the function finds the shortest weighted path from the agent to the goal using the simulated probability data as an input the simulationHeuristic function. "
   ]
  },
  {
   "cell_type": "code",
   "execution_count": 5,
   "metadata": {},
   "outputs": [],
   "source": [
    "def fourth_Strategy(maze):\n",
    "    num_sims = 30\n",
    "    for x in range(num_sims): \n",
    "        copiedMaze = copy.deepcopy(maze) #deepcopies the inputted maze to reset fire upon every simulation\n",
    "        oldFires = np.array([])\n",
    "        for y in range(maze.dim**2): #the upper bound on the total number of timesteps is dim squared\n",
    "            oldFires = copy.deepcopy(copiedMaze.fires) #deepcopies the current mazes's fires before advancing the fire\n",
    "            if(copiedMaze.iterateFire()):\n",
    "                newFires = np.setdiff1d(copiedMaze.fires, oldFires) #stores the newly created fires\n",
    "                for f in newFires:\n",
    "                    maze.board_prob[int(f)][y] += 1.0 #increments the specific cell, timestep count\n",
    "    for index in range(maze.dim**2):\n",
    "        maze.board_prob[index] = np.divide(maze.board_prob[index], num_sims) #divides each ignitition count by the number of simulations\n",
    "    \n",
    "    agent = (0,0)\n",
    "    while True:\n",
    "        result = shortestPathSearch(maze, startCoords = agent, heuristicFunction = simulationHeuristic) #runs the shortest path algorithm using the probability heuristic\n",
    "        if result is not None:\n",
    "            shortestPath = result[0] #deconstructs the result if it exists\n",
    "        else:\n",
    "            return False\n",
    "        if shortestPath != None:\n",
    "            agent = shortestPath[1] #moves the agent if there is a shortest path\n",
    "        if agent == (maze.dim-1, maze.dim-1):\n",
    "            return True #returns true if the agent has reached the goal\n",
    "        maze.iterateFire()\n",
    "        if maze.board[agent] == 2:\n",
    "            return False #returns false if the agent gets burned by the fire"
   ]
  },
  {
   "cell_type": "markdown",
   "metadata": {},
   "source": [
    "Define a heuristic function that assigns a cell a weight corresponding to the probability that it will catch fire at its respective timestep in the path. "
   ]
  },
  {
   "cell_type": "code",
   "execution_count": 6,
   "metadata": {},
   "outputs": [],
   "source": [
    "def simulationHeuristic(cell, maze, visited):\n",
    "    #The weight is equal to the probability that a cell catches fire at a specific timestep\n",
    "    #cell.g stores the smallest possible timestep that that specific cell can be reached\n",
    "    weight = maze.board_prob[tupleToIndex(cell.coords[0], cell.coords[1], maze.dim)][int(cell.g)] \n",
    "    return weight"
   ]
  },
  {
   "cell_type": "markdown",
   "metadata": {},
   "source": [
    "Define a tester function that tests any of the four strategies defined above for 100 iterations with flammability rates ranging from 0.1 to 1. A graph of average success rate vs. flammability rate will be plotted immediately following the test."
   ]
  },
  {
   "cell_type": "code",
   "execution_count": 10,
   "metadata": {},
   "outputs": [],
   "source": [
    "def testStrategy(strategy, dim, p=0.3): # p is set according to project document, strategy must be function name to test\n",
    "    #dim = 10\n",
    "    q = 0.1 # start testing each strategy with initial flammability of 0.1\n",
    "    q_values = [] # list to keep track of the different flammability rates (for plotting later)\n",
    "    avgSuccesses = [] # list to keep track of the average success rates (for plotting later)\n",
    "    \n",
    "    while q < 1: # run strategy for each test value of q (flammability rate)\n",
    "        run_count = 0 # counter for number of tests run\n",
    "        success_count = 0 # counter for number of successes\n",
    "        fail_count = 0 # counter for number of failures\n",
    "        \n",
    "        testMaze = Maze(dim, p, q) # generate a maze with given dimension, obstacle probability, and flammability rate\n",
    "        while(testMaze.isSolvable() == False): # generate a new maze if the maze is not solvable\n",
    "            testMaze = Maze(dim, p, q)\n",
    "        maze = copy.deepcopy(testMaze) # create deep copy of inital maze to run the testing\n",
    "        \n",
    "        while run_count < 100: \n",
    "            maze.startFire() # start fire on created maze\n",
    "            while (maze.isFireReachableToAgent() == False):\n",
    "                maze.resetFire()\n",
    "                maze.startFire()\n",
    "            result = strategy(maze) # run given strategy on the maze and record the result\n",
    "            if result == True: # if agent survives, increment number of successes for this given q\n",
    "                success_count +=1\n",
    "            elif result == None:\n",
    "                continue\n",
    "            else:\n",
    "                fail_count +=1\n",
    "            run_count += 1\n",
    "            maze = copy.deepcopy(testMaze) # reset the maze to not include the fires from testing the previous maze\n",
    "        \n",
    "        successRate = success_count / (success_count + fail_count) # calculate success rate given all of the generated mazes for given q\n",
    "        q_values.append(q) \n",
    "        avgSuccesses.append(successRate)\n",
    "        q += 0.05 # increment the flammability rate to test again\n",
    "        \n",
    "    q_values_array = np.asarray(q_values) # convert list to array to plot\n",
    "    avgSuccessRate = np.asarray(avgSuccesses) # convert list to array to plot\n",
    "    \n",
    "    plt.figure() # plot the average success rate vs. flammability rate for given strategy \n",
    "    plt.plot(q_values_array, avgSuccessRate, 'o')\n",
    "    plt.xlabel(\"Flammability Rate\")\n",
    "    plt.ylabel(\"Average Success Rate\")\n",
    "    plt.title(strategy.__name__)\n",
    "    plt.show()"
   ]
  },
  {
   "cell_type": "code",
   "execution_count": null,
   "metadata": {},
   "outputs": [],
   "source": []
  }
 ],
 "metadata": {
  "kernelspec": {
   "display_name": "Python 3",
   "language": "python",
   "name": "python3"
  },
  "language_info": {
   "codemirror_mode": {
    "name": "ipython",
    "version": 3
   },
   "file_extension": ".py",
   "mimetype": "text/x-python",
   "name": "python",
   "nbconvert_exporter": "python",
   "pygments_lexer": "ipython3",
   "version": "3.8.3"
  }
 },
 "nbformat": 4,
 "nbformat_minor": 4
}
