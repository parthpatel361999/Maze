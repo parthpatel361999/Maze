{
 "cells": [
  {
   "cell_type": "code",
   "execution_count": 1,
   "metadata": {},
   "outputs": [
    {
     "name": "stdout",
     "output_type": "stream",
     "text": [
      "importing Jupyter notebook from maze_common.ipynb\n"
     ]
    }
   ],
   "source": [
    "import import_ipynb\n",
    "from maze_common import *\n",
    "import time\n",
    "import random as rnd\n",
    "import numpy as np\n",
    "import copy"
   ]
  },
  {
   "cell_type": "code",
   "execution_count": 8,
   "metadata": {},
   "outputs": [
    {
     "name": "stdout",
     "output_type": "stream",
     "text": [
      "Is solvable? True\n",
      "Obstacles? 451\n"
     ]
    }
   ],
   "source": [
    "maze = Maze(40, .30)\n",
    "solvable = maze.isSolvable()\n",
    "print(\"Is solvable?\", solvable)\n",
    "print(\"Obstacles?\", maze.obstacles.shape[0])"
   ]
  },
  {
   "cell_type": "code",
   "execution_count": 9,
   "metadata": {},
   "outputs": [
    {
     "name": "stdout",
     "output_type": "stream",
     "text": [
      "Expanded cells: 1132\n",
      "Shortest path length: 81 \n",
      "Shortest path: [(0, 0), (0, 1), (0, 2), (0, 3), (0, 4), (0, 5), (1, 5), (2, 5), (3, 5), (4, 5), (4, 6), (4, 7), (4, 8), (4, 9), (5, 9), (6, 9), (6, 10), (6, 11), (6, 12), (5, 12), (5, 13), (5, 14), (6, 14), (6, 15), (6, 16), (6, 17), (6, 18), (6, 19), (7, 19), (8, 19), (8, 20), (8, 21), (9, 21), (9, 22), (9, 23), (10, 23), (11, 23), (12, 23), (13, 23), (14, 23), (15, 23), (16, 23), (17, 23), (17, 24), (17, 25), (18, 25), (18, 26), (18, 27), (19, 27), (20, 27), (20, 28), (21, 28), (21, 29), (22, 29), (23, 29), (24, 29), (24, 30), (25, 30), (26, 30), (26, 31), (26, 32), (27, 32), (28, 32), (29, 32), (29, 33), (30, 33), (31, 33), (32, 33), (32, 34), (33, 34), (34, 34), (35, 34), (35, 35), (36, 35), (36, 36), (36, 37), (36, 38), (36, 39), (37, 39), (38, 39), (39, 39)]\n"
     ]
    }
   ],
   "source": [
    "if (solvable):\n",
    "    startTime = time.time()\n",
    "    shortestPath, expandedCells = shortestPathSearch(maze)\n",
    "    print(\"Expanded cells:\", expandedCells)\n",
    "    print(\"Shortest path length:\", len(shortestPath), \"\\nShortest path:\", shortestPath)\n",
    "    for coords in shortestPath:\n",
    "        row, col = coords\n",
    "        if (maze.board[row, col] == -1):\n",
    "            print(\"Error\")"
   ]
  },
  {
   "cell_type": "code",
   "execution_count": 10,
   "metadata": {
    "scrolled": false
   },
   "outputs": [
    {
     "name": "stdout",
     "output_type": "stream",
     "text": [
      "Expanded cells: 618\n",
      "Shortest path length: 81 \n",
      "Shortest path: [(0, 0), (0, 1), (1, 1), (2, 1), (3, 1), (3, 2), (4, 2), (5, 2), (5, 3), (6, 3), (6, 4), (6, 5), (6, 6), (6, 7), (6, 8), (6, 9), (7, 9), (7, 10), (7, 11), (8, 11), (8, 12), (8, 13), (7, 13), (7, 14), (7, 15), (7, 16), (7, 17), (7, 18), (7, 19), (8, 19), (9, 19), (9, 20), (9, 21), (9, 22), (9, 23), (10, 23), (11, 23), (12, 23), (13, 23), (14, 23), (15, 23), (15, 24), (15, 25), (16, 25), (17, 25), (18, 25), (19, 25), (20, 25), (21, 25), (21, 26), (22, 26), (22, 27), (22, 28), (22, 29), (23, 29), (24, 29), (24, 30), (25, 30), (26, 30), (26, 31), (26, 32), (27, 32), (28, 32), (28, 33), (29, 33), (29, 34), (30, 34), (31, 34), (32, 34), (33, 34), (34, 34), (35, 34), (35, 35), (35, 36), (36, 36), (36, 37), (36, 38), (37, 38), (37, 39), (38, 39), (39, 39)]\n"
     ]
    }
   ],
   "source": [
    "def manhattanDistance(coords, maze, visited):\n",
    "    cellRow, cellCol = coords\n",
    "    return ((maze.dim - 1) - cellRow) + ((maze.dim - 1) - cellCol), 0\n",
    "\n",
    "if (solvable):\n",
    "    startTime = time.time()\n",
    "    shortestPath, expandedCells = shortestPathSearch(maze, heuristicFunction = manhattanDistance)\n",
    "    print(\"Expanded cells:\", expandedCells)\n",
    "    print(\"Shortest path length:\", len(shortestPath), \"\\nShortest path:\", shortestPath)\n",
    "    for coords in shortestPath:\n",
    "        row, col = coords\n",
    "        if (maze.board[row, col] == -1):\n",
    "            print(\"Error\")"
   ]
  },
  {
   "cell_type": "code",
   "execution_count": 11,
   "metadata": {
    "scrolled": false
   },
   "outputs": [
    {
     "name": "stdout",
     "output_type": "stream",
     "text": [
      "Original obstacles:  451\n",
      "Thinned obstacles:  225\n"
     ]
    }
   ],
   "source": [
    "def thinMaze(maze, fractionRemove):\n",
    "    thinMaze = Maze(1, 0)\n",
    "    thinMaze.board = copy.deepcopy(maze.board)\n",
    "    thinMaze.obstacles = copy.deepcopy(maze.obstacles)\n",
    "    thinMaze.dim = maze.dim\n",
    "    numRemove = round(fractionRemove * thinMaze.obstacles.shape[0])\n",
    "    for i in range(0,numRemove):\n",
    "        indexRemove = int(rnd.random() * thinMaze.obstacles.shape[0])\n",
    "        obstacleX, obstacleY = thinMaze.obstacles[indexRemove]\n",
    "        thinMaze.obstacles = np.delete(thinMaze.obstacles,indexRemove, axis=0)\n",
    "        thinMaze.board[obstacleX, obstacleY] = Cell.OPEN\n",
    "    return thinMaze\n",
    "    \n",
    "thinnedMaze = thinMaze(maze, .5)\n",
    "print(\"Original obstacles: \", maze.obstacles.shape[0])\n",
    "print(\"Thinned obstacles: \", thinnedMaze.obstacles.shape[0])\n",
    "# print(\"Thinned maze:\\n\", thinnedMaze.board)"
   ]
  },
  {
   "cell_type": "code",
   "execution_count": 12,
   "metadata": {},
   "outputs": [
    {
     "name": "stdout",
     "output_type": "stream",
     "text": [
      "Expanded cells: 175204\n",
      "Shortest path length: 81 \n",
      "Shortest path: [(0, 0), (1, 0), (2, 0), (2, 1), (3, 1), (3, 2), (3, 3), (4, 3), (4, 4), (5, 4), (6, 4), (6, 5), (6, 6), (7, 6), (7, 7), (7, 8), (7, 9), (7, 10), (8, 10), (8, 11), (8, 12), (8, 13), (7, 13), (7, 14), (7, 15), (7, 16), (7, 17), (7, 18), (7, 19), (8, 19), (8, 20), (9, 20), (9, 21), (9, 22), (10, 22), (11, 22), (12, 22), (13, 22), (13, 23), (14, 23), (15, 23), (16, 23), (17, 23), (17, 24), (18, 24), (19, 24), (19, 25), (20, 25), (21, 25), (21, 26), (22, 26), (22, 27), (22, 28), (23, 28), (23, 29), (24, 29), (25, 29), (25, 30), (26, 30), (26, 31), (26, 32), (27, 32), (28, 32), (29, 32), (30, 32), (31, 32), (31, 33), (31, 34), (32, 34), (33, 34), (34, 34), (35, 34), (35, 35), (36, 35), (36, 36), (36, 37), (36, 38), (37, 38), (37, 39), (38, 39), (39, 39)]\n"
     ]
    }
   ],
   "source": [
    "def thinnedMazeShortestPathLength(coords, maze, visited):\n",
    "    cellRow, cellCol = coords\n",
    "    shortestPathLength = 0\n",
    "    expandedCells = 0\n",
    "    if ((cellRow, cellCol)) not in visited:\n",
    "        shortestPath, expandedCellsBySearch = shortestPathSearch(thinnedMaze, startCoords = (cellRow, cellCol))\n",
    "        shortestPathLength = len(shortestPath)\n",
    "        expandedCells = expandedCellsBySearch\n",
    "        for i in range(0, shortestPathLength):\n",
    "            row, col = shortestPath[i]\n",
    "            if ((row, col)) in visited: \n",
    "                break\n",
    "            else:\n",
    "                visited[(row, col)] = shortestPathLength - i - 1\n",
    "    else:\n",
    "        shortestPathLength = visited[(cellRow, cellCol)]\n",
    "    return shortestPathLength, expandedCells\n",
    "\n",
    "if (solvable):\n",
    "    startTime = time.time()\n",
    "    shortestPath, expandedCells = shortestPathSearch(maze, heuristicFunction = thinnedMazeShortestPathLength)\n",
    "    print(\"Expanded cells:\", expandedCells)\n",
    "    print(\"Shortest path length:\", len(shortestPath), \"\\nShortest path:\", shortestPath)\n",
    "    for coords in shortestPath:\n",
    "        row, col = coords\n",
    "        if (maze.board[row, col] == -1):\n",
    "            print(\"Error\")"
   ]
  },
  {
   "cell_type": "code",
   "execution_count": 13,
   "metadata": {},
   "outputs": [
    {
     "name": "stdout",
     "output_type": "stream",
     "text": [
      "Expanded cells: 388265\n",
      "Shortest path length: 81 \n",
      "Shortest path: [(0, 0), (0, 1), (0, 2), (0, 3), (1, 3), (2, 3), (3, 3), (3, 4), (4, 4), (5, 4), (6, 4), (6, 5), (6, 6), (6, 7), (6, 8), (6, 9), (6, 10), (6, 11), (6, 12), (5, 12), (5, 13), (5, 14), (6, 14), (6, 15), (7, 15), (7, 16), (7, 17), (7, 18), (7, 19), (8, 19), (8, 20), (8, 21), (9, 21), (9, 22), (10, 22), (11, 22), (12, 22), (13, 22), (13, 23), (14, 23), (15, 23), (16, 23), (17, 23), (17, 24), (18, 24), (18, 25), (18, 26), (18, 27), (19, 27), (20, 27), (20, 28), (21, 28), (22, 28), (23, 28), (23, 29), (24, 29), (24, 30), (25, 30), (25, 31), (25, 32), (26, 32), (27, 32), (28, 32), (29, 32), (30, 32), (31, 32), (31, 33), (32, 33), (33, 33), (33, 34), (34, 34), (35, 34), (35, 35), (35, 36), (36, 36), (36, 37), (36, 38), (37, 38), (37, 39), (38, 39), (39, 39)]\n"
     ]
    }
   ],
   "source": [
    "def findNeighboringOpenCoordsIncludingDiagonals(coords, maze):\n",
    "    cellRow, cellCol = coords\n",
    "    neighbors = findNeighboringOpenCoords(coords, maze)\n",
    "    potentialDiagonalNeighbors = [(cellRow - 1, cellCol - 1), (cellRow - 1, cellCol + 1), (cellRow + 1, cellCol - 1), (cellRow + 1, cellCol + 1)]\n",
    "    for potentialDiagonalNeighbor in potentialDiagonalNeighbors:\n",
    "        row, col = potentialDiagonalNeighbor\n",
    "        if (row >= maze.dim or row < 0 or col >= maze.dim or col < 0 or maze.board[row,col] != Cell.OPEN):\n",
    "            continue\n",
    "        neighbors.append((row, col))\n",
    "    return neighbors\n",
    "\n",
    "def diagonalTravelShortestPathLength(coords, maze, visited):\n",
    "    cellRow, cellCol = coords \n",
    "    shortestPathLength = 0\n",
    "    expandedCells = 0\n",
    "    if ((cellRow, cellCol)) not in visited:\n",
    "        shortestPath, expandedCellsBySearch = shortestPathSearch(maze, startCoords = (cellRow, cellCol), findNeighborsFunction = findNeighboringOpenCoordsIncludingDiagonals)\n",
    "        shortestPathLength = len(shortestPath)\n",
    "        expandedCells = expandedCellsBySearch\n",
    "        for i in range(0, shortestPathLength):\n",
    "            row, col = shortestPath[i]\n",
    "            if ((row, col)) in visited: \n",
    "                break\n",
    "            else:\n",
    "                visited[(row, col)] = shortestPathLength - i - 1\n",
    "    else:\n",
    "        shortestPathLength = visited[(cellRow, cellCol)]\n",
    "    return shortestPathLength, expandedCells\n",
    "\n",
    "if (solvable):\n",
    "    startTime = time.time()\n",
    "    shortestPath, expandedCells = shortestPathSearch(maze, heuristicFunction = diagonalTravelShortestPathLength)\n",
    "    print(\"Expanded cells:\", expandedCells)\n",
    "    print(\"Shortest path length:\", len(shortestPath), \"\\nShortest path:\", shortestPath)\n",
    "    boardWithPath = copy.deepcopy(maze.board)\n",
    "    for coords in shortestPath:\n",
    "        row, col = coords\n",
    "        if (maze.board[row, col] == -1):\n",
    "            print(\"Error\")"
   ]
  },
  {
   "cell_type": "code",
   "execution_count": null,
   "metadata": {},
   "outputs": [],
   "source": []
  }
 ],
 "metadata": {
  "kernelspec": {
   "display_name": "Python 3",
   "language": "python",
   "name": "python3"
  },
  "language_info": {
   "codemirror_mode": {
    "name": "ipython",
    "version": 3
   },
   "file_extension": ".py",
   "mimetype": "text/x-python",
   "name": "python",
   "nbconvert_exporter": "python",
   "pygments_lexer": "ipython3",
   "version": "3.8.3"
  }
 },
 "nbformat": 4,
 "nbformat_minor": 4
}
