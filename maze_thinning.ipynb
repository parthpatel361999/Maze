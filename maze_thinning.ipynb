{
 "cells": [
  {
   "cell_type": "code",
   "execution_count": 1,
   "metadata": {},
   "outputs": [
    {
     "name": "stdout",
     "output_type": "stream",
     "text": [
      "importing Jupyter notebook from maze_common.ipynb\n"
     ]
    }
   ],
   "source": [
    "import import_ipynb\n",
    "from maze_common import Maze, shortestPathSearch\n",
    "import time\n",
    "import random as rnd\n",
    "import numpy as np\n",
    "import copy"
   ]
  },
  {
   "cell_type": "code",
   "execution_count": 17,
   "metadata": {},
   "outputs": [
    {
     "name": "stdout",
     "output_type": "stream",
     "text": [
      "[[ 0 -1 -1  0  0  0 -1  0  0  0]\n",
      " [ 0  0  0  0  0  0  0  0  0 -1]\n",
      " [ 0  0 -1 -1  0  0 -1  0 -1  0]\n",
      " [-1  0  0  0 -1  0  0 -1  0  0]\n",
      " [ 0  0 -1  0  0  0  0  0  0  0]\n",
      " [ 0  0 -1  0  0  0 -1 -1  0  0]\n",
      " [ 0  0  0  0  0  0  0  0  0  0]\n",
      " [ 0 -1  0  0 -1  0  0 -1  0  0]\n",
      " [ 0 -1 -1  0  0  0  0  0  0 -1]\n",
      " [ 0  0  0  0  0  0  0  0  0  0]] \n",
      "Is solvable?  True\n"
     ]
    }
   ],
   "source": [
    "maze = Maze(10, .3)\n",
    "solvable = maze.isSolvable()\n",
    "print(maze.board, \"\\nIs solvable? \", solvable)"
   ]
  },
  {
   "cell_type": "code",
   "execution_count": 18,
   "metadata": {},
   "outputs": [
    {
     "name": "stdout",
     "output_type": "stream",
     "text": [
      "***** Found shortest path in 0.008975028991699219 seconds *****\n",
      "[(0, 0), (1, 0), (2, 0), (2, 1), (3, 1), (3, 2), (3, 3), (4, 3), (4, 4), (4, 5), (4, 6), (4, 7), (4, 8), (5, 8), (6, 8), (7, 8), (8, 8), (9, 8), (9, 9)]\n"
     ]
    }
   ],
   "source": [
    "def manhattanDistance(maze, cell):\n",
    "    return abs(cell.row - (maze.dim - 1)) + abs(cell.col - (maze.dim - 1))\n",
    "\n",
    "if (solvable):\n",
    "    startTime = time.time()\n",
    "    shortestPath = shortestPathSearch(maze, heuristicFunction = manhattanDistance)\n",
    "    print(\"***** Found shortest path in %s seconds *****\" % (time.time() - startTime))\n",
    "    print(shortestPath)\n",
    "    "
   ]
  },
  {
   "cell_type": "code",
   "execution_count": 19,
   "metadata": {},
   "outputs": [
    {
     "name": "stdout",
     "output_type": "stream",
     "text": [
      "Original obstacles:  21 \n",
      " [[0 1]\n",
      " [0 2]\n",
      " [0 6]\n",
      " [1 9]\n",
      " [2 2]\n",
      " [2 3]\n",
      " [2 6]\n",
      " [2 8]\n",
      " [3 0]\n",
      " [3 4]\n",
      " [3 7]\n",
      " [4 2]\n",
      " [5 2]\n",
      " [5 6]\n",
      " [5 7]\n",
      " [7 1]\n",
      " [7 4]\n",
      " [7 7]\n",
      " [8 1]\n",
      " [8 2]\n",
      " [8 9]]\n",
      "Thinned obstacles:  8 \n",
      " [[0 6]\n",
      " [2 3]\n",
      " [2 6]\n",
      " [3 0]\n",
      " [3 7]\n",
      " [4 2]\n",
      " [5 2]\n",
      " [8 1]]\n",
      "Thinned maze:\n",
      " [[ 0  0  0  0  0  0 -1  0  0  0]\n",
      " [ 0  0  0  0  0  0  0  0  0  0]\n",
      " [ 0  0  0 -1  0  0 -1  0  0  0]\n",
      " [-1  0  0  0  0  0  0 -1  0  0]\n",
      " [ 0  0 -1  0  0  0  0  0  0  0]\n",
      " [ 0  0 -1  0  0  0  0  0  0  0]\n",
      " [ 0  0  0  0  0  0  0  0  0  0]\n",
      " [ 0  0  0  0  0  0  0  0  0  0]\n",
      " [ 0 -1  0  0  0  0  0  0  0  0]\n",
      " [ 0  0  0  0  0  0  0  0  0  0]]\n"
     ]
    }
   ],
   "source": [
    "def thinMaze(maze, fractionRemove):\n",
    "    numRemove = round(fractionRemove * maze.obstacles.shape[0])\n",
    "    thinMaze = copy.deepcopy(maze)\n",
    "    for i in range(0,numRemove):\n",
    "        indexRemove = int(rnd.random() * thinMaze.obstacles.shape[0])\n",
    "        obstacleX, obstacleY = thinMaze.obstacles[indexRemove]\n",
    "        thinMaze.obstacles = np.delete(thinMaze.obstacles,indexRemove, axis=0)\n",
    "        thinMaze.board[obstacleX][obstacleY] = 0\n",
    "    return thinMaze\n",
    "    \n",
    "thinnedMaze = thinMaze(maze, .6)\n",
    "print(\"Original obstacles: \", maze.obstacles.shape[0], \"\\n\", maze.obstacles)\n",
    "print(\"Thinned obstacles: \", thinnedMaze.obstacles.shape[0], \"\\n\",thinnedMaze.obstacles)\n",
    "print(\"Thinned maze:\\n\", thinnedMaze.board)"
   ]
  },
  {
   "cell_type": "code",
   "execution_count": 22,
   "metadata": {},
   "outputs": [
    {
     "name": "stdout",
     "output_type": "stream",
     "text": [
      "***** Found shortest path in 2.817199945449829 seconds *****\n",
      "[(0, 0), (1, 0), (1, 1), (1, 2), (1, 3), (1, 4), (1, 5), (2, 5), (3, 5), (4, 5), (5, 5), (6, 5), (6, 6), (6, 7), (6, 8), (7, 8), (8, 8), (9, 8), (9, 9)]\n"
     ]
    }
   ],
   "source": [
    "visited = {}\n",
    "\n",
    "def thinnedMazeShortestPathLength(maze, cell):\n",
    "    shortestPathLength = 0\n",
    "    if ((cell.row, cell.col)) not in visited:\n",
    "        shortestPath = shortestPathSearch(thinnedMaze, startCoords = (cell.row, cell.col))\n",
    "        shortestPathLength = len(shortestPath)\n",
    "        for i in range(0, shortestPathLength):\n",
    "            row, col = shortestPath[i]\n",
    "            if ((row, col)) in visited: \n",
    "                break\n",
    "            else:\n",
    "                visited[(row, col)] = shortestPathLength - i - 1\n",
    "    else:\n",
    "        shortestPathLength = visited[(cell.row, cell.col)]\n",
    "    return shortestPathLength\n",
    "\n",
    "if (solvable):\n",
    "    startTime = time.time()\n",
    "    shortestPath = shortestPathSearch(maze, heuristicFunction = thinnedMazeShortestPathLength)\n",
    "    print(\"***** Found shortest path in %s seconds *****\" % (time.time() - startTime))\n",
    "    print(shortestPath)"
   ]
  },
  {
   "cell_type": "code",
   "execution_count": null,
   "metadata": {},
   "outputs": [],
   "source": []
  }
 ],
 "metadata": {
  "kernelspec": {
   "display_name": "Python 3",
   "language": "python",
   "name": "python3"
  },
  "language_info": {
   "codemirror_mode": {
    "name": "ipython",
    "version": 3
   },
   "file_extension": ".py",
   "mimetype": "text/x-python",
   "name": "python",
   "nbconvert_exporter": "python",
   "pygments_lexer": "ipython3",
   "version": "3.8.3"
  }
 },
 "nbformat": 4,
 "nbformat_minor": 4
}
