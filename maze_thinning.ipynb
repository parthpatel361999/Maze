{
 "cells": [
  {
   "cell_type": "code",
   "execution_count": 2,
   "metadata": {},
   "outputs": [
    {
     "name": "stdout",
     "output_type": "stream",
     "text": [
      "importing Jupyter notebook from maze_common.ipynb\n"
     ]
    }
   ],
   "source": [
    "import import_ipynb\n",
    "from maze_common import *\n",
    "import time\n",
    "import random as rnd\n",
    "import numpy as np\n",
    "import copy"
   ]
  },
  {
   "cell_type": "code",
   "execution_count": 9,
   "metadata": {},
   "outputs": [
    {
     "name": "stdout",
     "output_type": "stream",
     "text": [
      "Is solvable? True\n",
      "Obstacles? 1730\n"
     ]
    }
   ],
   "source": [
    "maze = Maze(75, .30)\n",
    "solvable = maze.isSolvable()\n",
    "print(\"Is solvable?\", solvable)\n",
    "print(\"Obstacles?\", maze.obstacles.shape[0])"
   ]
  },
  {
   "cell_type": "code",
   "execution_count": 10,
   "metadata": {},
   "outputs": [
    {
     "name": "stdout",
     "output_type": "stream",
     "text": [
      "Expanded cells: 3779\n",
      "Shortest path length: 149 \n",
      "Shortest path: [(0, 0), (0, 1), (0, 2), (0, 3), (0, 4), (0, 5), (1, 5), (1, 6), (2, 6), (3, 6), (3, 7), (3, 8), (4, 8), (5, 8), (5, 9), (6, 9), (7, 9), (7, 10), (7, 11), (8, 11), (8, 12), (9, 12), (10, 12), (11, 12), (11, 13), (12, 13), (13, 13), (14, 13), (15, 13), (16, 13), (16, 14), (17, 14), (18, 14), (19, 14), (20, 14), (20, 15), (21, 15), (22, 15), (22, 16), (23, 16), (24, 16), (25, 16), (26, 16), (26, 17), (27, 17), (28, 17), (29, 17), (29, 18), (29, 19), (29, 20), (29, 21), (30, 21), (30, 22), (30, 23), (30, 24), (31, 24), (31, 25), (31, 26), (31, 27), (31, 28), (32, 28), (32, 29), (33, 29), (34, 29), (35, 29), (35, 30), (35, 31), (36, 31), (36, 32), (37, 32), (38, 32), (38, 33), (38, 34), (39, 34), (39, 35), (39, 36), (39, 37), (39, 38), (40, 38), (41, 38), (42, 38), (42, 39), (43, 39), (44, 39), (45, 39), (46, 39), (47, 39), (48, 39), (49, 39), (50, 39), (51, 39), (52, 39), (52, 40), (53, 40), (54, 40), (55, 40), (55, 41), (55, 42), (55, 43), (55, 44), (56, 44), (57, 44), (58, 44), (58, 45), (59, 45), (59, 46), (60, 46), (60, 47), (60, 48), (60, 49), (60, 50), (61, 50), (61, 51), (61, 52), (61, 53), (61, 54), (61, 55), (62, 55), (62, 56), (63, 56), (63, 57), (63, 58), (63, 59), (63, 60), (64, 60), (65, 60), (66, 60), (67, 60), (67, 61), (67, 62), (67, 63), (68, 63), (69, 63), (69, 64), (70, 64), (70, 65), (71, 65), (71, 66), (71, 67), (71, 68), (71, 69), (71, 70), (72, 70), (72, 71), (72, 72), (72, 73), (72, 74), (73, 74), (74, 74)]\n"
     ]
    }
   ],
   "source": [
    "if (solvable):\n",
    "    startTime = time.time()\n",
    "    shortestPath, expandedCells = shortestPathSearch(maze)\n",
    "    print(\"Expanded cells:\", expandedCells)\n",
    "    print(\"Shortest path length:\", len(shortestPath), \"\\nShortest path:\", shortestPath)\n",
    "    for coords in shortestPath:\n",
    "        row, col = coords\n",
    "        if (maze.board[row, col] == -1):\n",
    "            print(\"Error\")"
   ]
  },
  {
   "cell_type": "code",
   "execution_count": 11,
   "metadata": {
    "scrolled": false
   },
   "outputs": [
    {
     "name": "stdout",
     "output_type": "stream",
     "text": [
      "Expanded cells: 583\n",
      "Shortest path length: 149 \n",
      "Shortest path: [(0, 0), (1, 0), (2, 0), (3, 0), (4, 0), (5, 0), (6, 0), (7, 0), (8, 0), (9, 0), (9, 1), (10, 1), (10, 2), (11, 2), (11, 3), (11, 4), (11, 5), (12, 5), (12, 6), (12, 7), (12, 8), (12, 9), (13, 9), (14, 9), (14, 10), (15, 10), (15, 11), (16, 11), (16, 12), (17, 12), (18, 12), (19, 12), (19, 13), (19, 14), (20, 14), (21, 14), (21, 15), (22, 15), (22, 16), (23, 16), (24, 16), (25, 16), (25, 17), (26, 17), (27, 17), (28, 17), (29, 17), (29, 18), (29, 19), (29, 20), (29, 21), (30, 21), (30, 22), (30, 23), (31, 23), (31, 24), (31, 25), (31, 26), (31, 27), (32, 27), (32, 28), (32, 29), (33, 29), (34, 29), (35, 29), (35, 30), (35, 31), (36, 31), (36, 32), (37, 32), (38, 32), (38, 33), (38, 34), (39, 34), (40, 34), (41, 34), (41, 35), (41, 36), (42, 36), (42, 37), (42, 38), (42, 39), (43, 39), (44, 39), (45, 39), (46, 39), (47, 39), (48, 39), (49, 39), (50, 39), (51, 39), (52, 39), (53, 39), (53, 40), (54, 40), (55, 40), (55, 41), (55, 42), (55, 43), (56, 43), (57, 43), (57, 44), (58, 44), (59, 44), (60, 44), (60, 45), (60, 46), (60, 47), (60, 48), (60, 49), (60, 50), (61, 50), (62, 50), (62, 51), (62, 52), (62, 53), (62, 54), (62, 55), (62, 56), (63, 56), (63, 57), (63, 58), (63, 59), (64, 59), (65, 59), (65, 60), (66, 60), (67, 60), (67, 61), (67, 62), (67, 63), (68, 63), (69, 63), (70, 63), (70, 64), (70, 65), (71, 65), (72, 65), (72, 66), (72, 67), (72, 68), (73, 68), (73, 69), (73, 70), (73, 71), (73, 72), (73, 73), (73, 74), (74, 74)]\n"
     ]
    }
   ],
   "source": [
    "def manhattanDistance(coords, maze, visited):\n",
    "    cellRow, cellCol = coords\n",
    "    return ((maze.dim - 1) - cellRow) + ((maze.dim - 1) - cellCol), 0\n",
    "\n",
    "if (solvable):\n",
    "    startTime = time.time()\n",
    "    shortestPath, expandedCells = shortestPathSearch(maze, heuristicFunction = manhattanDistance)\n",
    "    print(\"Expanded cells:\", expandedCells)\n",
    "    print(\"Shortest path length:\", len(shortestPath), \"\\nShortest path:\", shortestPath)\n",
    "    for coords in shortestPath:\n",
    "        row, col = coords\n",
    "        if (maze.board[row, col] == -1):\n",
    "            print(\"Error\")"
   ]
  },
  {
   "cell_type": "code",
   "execution_count": 12,
   "metadata": {
    "scrolled": false
   },
   "outputs": [
    {
     "name": "stdout",
     "output_type": "stream",
     "text": [
      "Original obstacles:  1730\n",
      "Thinned obstacles:  865\n"
     ]
    }
   ],
   "source": [
    "def thinMaze(maze, fractionRemove):\n",
    "    thinMaze = Maze(1, 0)\n",
    "    thinMaze.board = copy.deepcopy(maze.board)\n",
    "    thinMaze.obstacles = copy.deepcopy(maze.obstacles)\n",
    "    thinMaze.dim = maze.dim\n",
    "    numRemove = round(fractionRemove * thinMaze.obstacles.shape[0])\n",
    "    for i in range(0,numRemove):\n",
    "        indexRemove = int(rnd.random() * thinMaze.obstacles.shape[0])\n",
    "        obstacleX, obstacleY = thinMaze.obstacles[indexRemove]\n",
    "        thinMaze.obstacles = np.delete(thinMaze.obstacles,indexRemove, axis=0)\n",
    "        thinMaze.board[obstacleX, obstacleY] = Cell.OPEN\n",
    "    return thinMaze\n",
    "    \n",
    "thinnedMaze = thinMaze(maze, .5)\n",
    "print(\"Original obstacles: \", maze.obstacles.shape[0])\n",
    "print(\"Thinned obstacles: \", thinnedMaze.obstacles.shape[0])\n",
    "# print(\"Thinned maze:\\n\", thinnedMaze.board)"
   ]
  },
  {
   "cell_type": "code",
   "execution_count": 13,
   "metadata": {},
   "outputs": [
    {
     "name": "stdout",
     "output_type": "stream",
     "text": [
      "Time: 15.009394645690918 seconds\n",
      "Expanded cells: 694301\n",
      "Shortest path length: 149 \n",
      "Shortest path: [(0, 0), (1, 0), (2, 0), (3, 0), (4, 0), (5, 0), (6, 0), (7, 0), (8, 0), (9, 0), (10, 0), (10, 1), (10, 2), (11, 2), (11, 3), (12, 3), (12, 4), (12, 5), (12, 6), (12, 7), (12, 8), (12, 9), (13, 9), (13, 10), (13, 11), (14, 11), (15, 11), (16, 11), (16, 12), (17, 12), (18, 12), (19, 12), (19, 13), (19, 14), (20, 14), (21, 14), (22, 14), (22, 15), (22, 16), (23, 16), (24, 16), (25, 16), (26, 16), (26, 17), (27, 17), (27, 18), (28, 18), (29, 18), (29, 19), (29, 20), (29, 21), (30, 21), (30, 22), (30, 23), (31, 23), (31, 24), (31, 25), (31, 26), (31, 27), (32, 27), (32, 28), (32, 29), (33, 29), (34, 29), (35, 29), (35, 30), (35, 31), (36, 31), (36, 32), (37, 32), (38, 32), (38, 33), (38, 34), (39, 34), (39, 35), (40, 35), (41, 35), (41, 36), (41, 37), (42, 37), (42, 38), (42, 39), (43, 39), (44, 39), (45, 39), (46, 39), (47, 39), (48, 39), (49, 39), (50, 39), (51, 39), (52, 39), (52, 40), (53, 40), (53, 41), (54, 41), (54, 42), (55, 42), (55, 43), (55, 44), (56, 44), (56, 45), (56, 46), (57, 46), (58, 46), (59, 46), (60, 46), (60, 47), (60, 48), (60, 49), (60, 50), (61, 50), (61, 51), (62, 51), (62, 52), (62, 53), (62, 54), (62, 55), (62, 56), (63, 56), (63, 57), (63, 58), (63, 59), (63, 60), (64, 60), (64, 61), (65, 61), (65, 62), (66, 62), (67, 62), (67, 63), (67, 64), (68, 64), (69, 64), (70, 64), (70, 65), (71, 65), (72, 65), (72, 66), (72, 67), (72, 68), (72, 69), (73, 69), (73, 70), (73, 71), (73, 72), (73, 73), (73, 74), (74, 74)]\n"
     ]
    }
   ],
   "source": [
    "def thinnedMazeShortestPathLength(coords, maze, visited):\n",
    "    cellRow, cellCol = coords\n",
    "    shortestPathLength = 0\n",
    "    expandedCells = 0\n",
    "    if ((cellRow, cellCol)) not in visited:\n",
    "        shortestPath, expandedCellsBySearch = shortestPathSearch(thinnedMaze, startCoords = (cellRow, cellCol))\n",
    "        shortestPathLength = len(shortestPath)\n",
    "        expandedCells = expandedCellsBySearch\n",
    "        for i in range(0, shortestPathLength):\n",
    "            row, col = shortestPath[i]\n",
    "            if ((row, col)) in visited: \n",
    "                break\n",
    "            else:\n",
    "                visited[(row, col)] = shortestPathLength - i - 1\n",
    "    else:\n",
    "        shortestPathLength = visited[(cellRow, cellCol)]\n",
    "    return shortestPathLength, expandedCells\n",
    "\n",
    "if (solvable):\n",
    "    startTime = time.time()\n",
    "    shortestPath, expandedCells = shortestPathSearch(maze, heuristicFunction = thinnedMazeShortestPathLength)\n",
    "    print(\"Time:\", time.time() - startTime, \"seconds\")\n",
    "    print(\"Expanded cells:\", expandedCells)\n",
    "    print(\"Shortest path length:\", len(shortestPath), \"\\nShortest path:\", shortestPath)\n",
    "    for coords in shortestPath:\n",
    "        row, col = coords\n",
    "        if (maze.board[row, col] == -1):\n",
    "            print(\"Error\")"
   ]
  },
  {
   "cell_type": "code",
   "execution_count": 13,
   "metadata": {},
   "outputs": [
    {
     "name": "stdout",
     "output_type": "stream",
     "text": [
      "Expanded cells: 388265\n",
      "Shortest path length: 81 \n",
      "Shortest path: [(0, 0), (0, 1), (0, 2), (0, 3), (1, 3), (2, 3), (3, 3), (3, 4), (4, 4), (5, 4), (6, 4), (6, 5), (6, 6), (6, 7), (6, 8), (6, 9), (6, 10), (6, 11), (6, 12), (5, 12), (5, 13), (5, 14), (6, 14), (6, 15), (7, 15), (7, 16), (7, 17), (7, 18), (7, 19), (8, 19), (8, 20), (8, 21), (9, 21), (9, 22), (10, 22), (11, 22), (12, 22), (13, 22), (13, 23), (14, 23), (15, 23), (16, 23), (17, 23), (17, 24), (18, 24), (18, 25), (18, 26), (18, 27), (19, 27), (20, 27), (20, 28), (21, 28), (22, 28), (23, 28), (23, 29), (24, 29), (24, 30), (25, 30), (25, 31), (25, 32), (26, 32), (27, 32), (28, 32), (29, 32), (30, 32), (31, 32), (31, 33), (32, 33), (33, 33), (33, 34), (34, 34), (35, 34), (35, 35), (35, 36), (36, 36), (36, 37), (36, 38), (37, 38), (37, 39), (38, 39), (39, 39)]\n"
     ]
    }
   ],
   "source": [
    "def findNeighboringOpenCoordsIncludingDiagonals(coords, maze):\n",
    "    cellRow, cellCol = coords\n",
    "    neighbors = findNeighboringOpenCoords(coords, maze)\n",
    "    potentialDiagonalNeighbors = [(cellRow - 1, cellCol - 1), (cellRow - 1, cellCol + 1), (cellRow + 1, cellCol - 1), (cellRow + 1, cellCol + 1)]\n",
    "    for potentialDiagonalNeighbor in potentialDiagonalNeighbors:\n",
    "        row, col = potentialDiagonalNeighbor\n",
    "        if (row >= maze.dim or row < 0 or col >= maze.dim or col < 0 or maze.board[row,col] != Cell.OPEN):\n",
    "            continue\n",
    "        neighbors.append((row, col))\n",
    "    return neighbors\n",
    "\n",
    "def diagonalTravelShortestPathLength(coords, maze, visited):\n",
    "    cellRow, cellCol = coords \n",
    "    shortestPathLength = 0\n",
    "    expandedCells = 0\n",
    "    if ((cellRow, cellCol)) not in visited:\n",
    "        shortestPath, expandedCellsBySearch = shortestPathSearch(maze, startCoords = (cellRow, cellCol), findNeighborsFunction = findNeighboringOpenCoordsIncludingDiagonals)\n",
    "        shortestPathLength = len(shortestPath)\n",
    "        expandedCells = expandedCellsBySearch\n",
    "        for i in range(0, shortestPathLength):\n",
    "            row, col = shortestPath[i]\n",
    "            if ((row, col)) in visited: \n",
    "                break\n",
    "            else:\n",
    "                visited[(row, col)] = shortestPathLength - i - 1\n",
    "    else:\n",
    "        shortestPathLength = visited[(cellRow, cellCol)]\n",
    "    return shortestPathLength, expandedCells\n",
    "\n",
    "if (solvable):\n",
    "    startTime = time.time()\n",
    "    shortestPath, expandedCells = shortestPathSearch(maze, heuristicFunction = diagonalTravelShortestPathLength)\n",
    "    print(\"Expanded cells:\", expandedCells)\n",
    "    print(\"Shortest path length:\", len(shortestPath), \"\\nShortest path:\", shortestPath)\n",
    "    boardWithPath = copy.deepcopy(maze.board)\n",
    "    for coords in shortestPath:\n",
    "        row, col = coords\n",
    "        if (maze.board[row, col] == -1):\n",
    "            print(\"Error\")"
   ]
  },
  {
   "cell_type": "code",
   "execution_count": null,
   "metadata": {},
   "outputs": [],
   "source": [
    "differentPs = range(0.5, 0.55, 0.05)"
   ]
  }
 ],
 "metadata": {
  "kernelspec": {
   "display_name": "Python 3",
   "language": "python",
   "name": "python3"
  },
  "language_info": {
   "codemirror_mode": {
    "name": "ipython",
    "version": 3
   },
   "file_extension": ".py",
   "mimetype": "text/x-python",
   "name": "python",
   "nbconvert_exporter": "python",
   "pygments_lexer": "ipython3",
   "version": "3.8.3"
  }
 },
 "nbformat": 4,
 "nbformat_minor": 4
}
