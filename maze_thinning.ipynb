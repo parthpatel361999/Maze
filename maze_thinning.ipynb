{
 "cells": [
  {
   "cell_type": "code",
   "execution_count": 1,
   "metadata": {},
   "outputs": [
    {
     "name": "stdout",
     "output_type": "stream",
     "text": [
      "importing Jupyter notebook from maze_common.ipynb\n"
     ]
    }
   ],
   "source": [
    "import import_ipynb\n",
    "from maze_common import *\n",
    "import time\n",
    "import random as rnd\n",
    "import numpy as np\n",
    "import copy\n",
    "import matplotlib.pyplot as plt"
   ]
  },
  {
   "cell_type": "markdown",
   "metadata": {},
   "source": [
    "Generate a maze."
   ]
  },
  {
   "cell_type": "code",
   "execution_count": 2,
   "metadata": {},
   "outputs": [
    {
     "name": "stdout",
     "output_type": "stream",
     "text": [
      "Is solvable? True\n",
      "Obstacles? 1066\n"
     ]
    }
   ],
   "source": [
    "maze = Maze(60, .30)\n",
    "solvable = maze.isSolvable()\n",
    "print(\"Is solvable?\", solvable)\n",
    "print(\"Obstacles?\", maze.obstacles.shape[0])"
   ]
  },
  {
   "cell_type": "markdown",
   "metadata": {},
   "source": [
    "If the maze is solvable, find the shortest path *without* a heuristic function (i.e. uniform cost search)."
   ]
  },
  {
   "cell_type": "code",
   "execution_count": null,
   "metadata": {},
   "outputs": [],
   "source": [
    "if (solvable):\n",
    "    shortestPath, expandedCells = shortestPathSearch(maze)\n",
    "    print(\"Expanded cells:\", expandedCells)\n",
    "    print(\"Shortest path length:\", len(shortestPath), \"\\nShortest path:\", shortestPath)\n",
    "    for coords in shortestPath:\n",
    "        row, col = coords\n",
    "        if (maze.board[row, col] == -1):\n",
    "            print(\"Error\")"
   ]
  },
  {
   "cell_type": "markdown",
   "metadata": {},
   "source": [
    "Define a heuristic that employs the Manhattan distance formula."
   ]
  },
  {
   "cell_type": "code",
   "execution_count": 3,
   "metadata": {
    "scrolled": false
   },
   "outputs": [],
   "source": [
    "def manhattanDistance(cell, maze, visited):\n",
    "    cellRow, cellCol = cell.coords\n",
    "    return ((maze.dim - 1) - cellRow) + ((maze.dim - 1) - cellCol)"
   ]
  },
  {
   "cell_type": "markdown",
   "metadata": {},
   "source": [
    "Test the Manhattan distance heuristic, and ensure the shortest path is valid and has length less than or equal to that of the original shortest path."
   ]
  },
  {
   "cell_type": "code",
   "execution_count": null,
   "metadata": {},
   "outputs": [],
   "source": [
    "if (solvable):\n",
    "    startTime = time.time()\n",
    "    shortestPath, expandedCells = shortestPathSearch(maze, heuristicFunction = manhattanDistance)\n",
    "    print(\"Expanded cells:\", expandedCells)\n",
    "    print(\"Shortest path length:\", len(shortestPath), \"\\nShortest path:\", shortestPath)\n",
    "    for coords in shortestPath:\n",
    "        row, col = coords\n",
    "        if (maze.board[row, col] == -1):\n",
    "            print(\"Error\")"
   ]
  },
  {
   "cell_type": "markdown",
   "metadata": {},
   "source": [
    "Define a function for thinning a maze. Given the maze and a fraction of obstacles to remove, create a copy of the maze that has a reduced number of obstacles."
   ]
  },
  {
   "cell_type": "code",
   "execution_count": 4,
   "metadata": {
    "scrolled": false
   },
   "outputs": [
    {
     "name": "stdout",
     "output_type": "stream",
     "text": [
      "Original obstacles:  1066\n",
      "Thinned obstacles:  533\n"
     ]
    }
   ],
   "source": [
    "def thinMaze(maze, fractionRemove):\n",
    "    thinMaze = copy.deepcopy(maze)\n",
    "    # Choose how many obstacles to remove. This value is rounded to the nearest integer.\n",
    "    numRemove = int(round(fractionRemove * thinMaze.obstacles.shape[0]))\n",
    "    for i in range(0, numRemove):\n",
    "        # Choose a random obstacle to remove by choosing a random index in the thinned maze's obstacle array.\n",
    "        indexRemove = int(rnd.random() * thinMaze.obstacles.shape[0])\n",
    "        obstacleX, obstacleY = thinMaze.obstacles[indexRemove]\n",
    "        # Remove the chosen obstacle from the thinned maze's obstacle array.\n",
    "        thinMaze.obstacles = np.delete(thinMaze.obstacles, indexRemove, axis=0)\n",
    "        # Update the thinned maze's board to open up the previously blocked position.\n",
    "        thinMaze.board[obstacleX, obstacleY] = Cell.OPEN\n",
    "    return thinMaze\n",
    "    \n",
    "thinnedMaze = thinMaze(maze, .5)\n",
    "print(\"Original obstacles: \", maze.obstacles.shape[0])\n",
    "print(\"Thinned obstacles: \", thinnedMaze.obstacles.shape[0])"
   ]
  },
  {
   "cell_type": "markdown",
   "metadata": {},
   "source": [
    "Define a heuristic that finds the shortest path from the given coordinates to the goal in the thinned maze. This heuristic will simply use a uniform cost path search in the thinned maze from the given coordinates to the goal, and it has access to a dictionary of already-discovered heuristics that prevents redoing the heuristic for cells that have already been passed to this function. This `visited` dictionary is valid because the heuristic score should never change for a given cell, since the maze utilized is static."
   ]
  },
  {
   "cell_type": "code",
   "execution_count": 8,
   "metadata": {},
   "outputs": [],
   "source": [
    "def thinnedMazeShortestPathLength(cell, maze, visited):\n",
    "    cellRow, cellCol = cell.coords\n",
    "    shortestPathLength = 0\n",
    "    if ((cellRow, cellCol)) not in visited:\n",
    "        shortestPath, ignoredExpandedCellsBySearch = shortestPathSearch(thinnedMaze, startCoords = (cellRow, cellCol))\n",
    "        shortestPathLength = len(shortestPath)       \n",
    "        for i in range(0, shortestPathLength):\n",
    "            row, col = shortestPath[i]\n",
    "            if ((row, col)) in visited: \n",
    "                break\n",
    "            else:\n",
    "                visited[(row, col)] = shortestPathLength - i - 1\n",
    "    else:\n",
    "        shortestPathLength = visited[(cellRow, cellCol)]\n",
    "    return shortestPathLength"
   ]
  },
  {
   "cell_type": "markdown",
   "metadata": {},
   "source": [
    "Test the thinned maze heuristic, and ensure the shortest path is valid and has length less than or equal to that of the original shortest path."
   ]
  },
  {
   "cell_type": "code",
   "execution_count": null,
   "metadata": {},
   "outputs": [],
   "source": [
    "if (solvable):\n",
    "    startTime = time.time()\n",
    "    shortestPath, expandedCells = shortestPathSearch(maze, heuristicFunction = thinnedMazeShortestPathLength)\n",
    "    print(\"Time:\", time.time() - startTime, \"seconds\")\n",
    "    print(\"Expanded cells:\", expandedCells)\n",
    "    print(\"Shortest path length:\", len(shortestPath), \"\\nShortest path:\", shortestPath)\n",
    "    for coords in shortestPath:\n",
    "        row, col = coords\n",
    "        if (maze.board[row, col] == -1):\n",
    "            print(\"Error\")"
   ]
  },
  {
   "cell_type": "markdown",
   "metadata": {},
   "source": [
    "Define a new function for finding neighboring cells. This function builds upon the `findNeighboringCoords` function defined in `maze_common.ipynb`. In addition to finding open cells above, below, and to the side of the given coordinates, this function also finds the diagonal open neighbors of the cell."
   ]
  },
  {
   "cell_type": "code",
   "execution_count": 5,
   "metadata": {},
   "outputs": [],
   "source": [
    "def findNeighboringOpenCoordsIncludingDiagonals(coords, maze):\n",
    "    cellRow, cellCol = coords\n",
    "    neighbors = findNeighboringOpenCoords(coords, maze)\n",
    "    potentialDiagonalNeighbors = [(cellRow - 1, cellCol - 1), (cellRow - 1, cellCol + 1), (cellRow + 1, cellCol - 1), (cellRow + 1, cellCol + 1)]\n",
    "    for potentialDiagonalNeighbor in potentialDiagonalNeighbors:\n",
    "        row, col = potentialDiagonalNeighbor\n",
    "        if (row >= maze.dim or row < 0 or col >= maze.dim or col < 0 or maze.board[row,col] != Cell.OPEN):\n",
    "            continue\n",
    "        neighbors.append((row, col))\n",
    "    return neighbors"
   ]
  },
  {
   "cell_type": "markdown",
   "metadata": {},
   "source": [
    "Define a heuristic that finds the shortest path from the given coordinates to the goal in the original maze with the \"enhanced\" `findNeighbors` function that takes into account diagonal neighbors as well. This heuristic will simply use a uniform cost path search in the maze from the given coordinates to the goal, and it has access to a dictionary of already-discovered heuristics that prevents redoing the heuristic for cells that have already been passed to this function. This `visited` dictionary is valid because the heuristic score should never change for a given cell, since the maze utilized is static."
   ]
  },
  {
   "cell_type": "code",
   "execution_count": 6,
   "metadata": {},
   "outputs": [],
   "source": [
    "def diagonalTravelShortestPathLength(cell, maze, visited):\n",
    "    cellRow, cellCol = cell.coords \n",
    "    shortestPathLength = 0\n",
    "    if ((cellRow, cellCol)) not in visited:\n",
    "        shortestPath, ignoredExpandedCellsBySearch = shortestPathSearch(maze, startCoords = (cellRow, cellCol), findNeighborsFunction = findNeighboringOpenCoordsIncludingDiagonals)\n",
    "        shortestPathLength = len(shortestPath)\n",
    "        for i in range(0, shortestPathLength):\n",
    "            row, col = shortestPath[i]\n",
    "            if ((row, col)) in visited: \n",
    "                break\n",
    "            else:\n",
    "                visited[(row, col)] = shortestPathLength - i - 1\n",
    "    else:\n",
    "        shortestPathLength = visited[(cellRow, cellCol)]\n",
    "    return shortestPathLength"
   ]
  },
  {
   "cell_type": "markdown",
   "metadata": {},
   "source": [
    "Test the diagonal travel heuristic, and ensure the shortest path is valid and has length less than or equal to that of the original shortest path."
   ]
  },
  {
   "cell_type": "code",
   "execution_count": null,
   "metadata": {},
   "outputs": [],
   "source": [
    "if (solvable):\n",
    "    startTime = time.time()\n",
    "    shortestPath, expandedCells = shortestPathSearch(maze, heuristicFunction = diagonalTravelShortestPathLength)\n",
    "    print(\"Expanded cells:\", expandedCells)\n",
    "    print(\"Shortest path length:\", len(shortestPath), \"\\nShortest path:\", shortestPath)\n",
    "    boardWithPath = copy.deepcopy(maze.board)\n",
    "    for coords in shortestPath:\n",
    "        row, col = coords\n",
    "        if (maze.board[row, col] == -1):\n",
    "            print(\"Error\")"
   ]
  },
  {
   "cell_type": "markdown",
   "metadata": {},
   "source": [
    "Perform testing for all 3 previously defined heuristics."
   ]
  },
  {
   "cell_type": "code",
   "execution_count": null,
   "metadata": {},
   "outputs": [],
   "source": [
    "p = 0.3\n",
    "dim = 50\n",
    "\n",
    "iterationsPerRho = 100\n",
    "rhos = np.arange(0.05, 1, 0.1)\n",
    "\n",
    "manhattanDistanceExpandedCells = np.zeros([rhos.size, iterationsPerRho])\n",
    "manhattanDistanceTimeCosts = np.zeros([rhos.size, iterationsPerRho])\n",
    "thinnedMazeExpandedCells = np.zeros([rhos.size, iterationsPerRho])\n",
    "thinnedMazeTimeCosts = np.zeros([rhos.size, iterationsPerRho])\n",
    "diagonalTravelExpandedCells = np.zeros([rhos.size, iterationsPerRho])\n",
    "diagonalTravelTimeCosts = np.zeros([rhos.size, iterationsPerRho])\n",
    "\n",
    "testStartTime = time.time()\n",
    "\n",
    "for i in range(0, rhos.size):\n",
    "    rho = rhos[i]\n",
    "    \n",
    "    for j in range(0, iterationsPerRho):\n",
    "        maze = Maze(dim, p)\n",
    "        while not maze.isSolvable():\n",
    "            maze = Maze(dim, p)\n",
    "        openCells = maze.dim**2 - maze.obstacles.shape[0]\n",
    "        \n",
    "        startTime = time.time()\n",
    "        shortestPath, expandedCells = shortestPathSearch(maze, heuristicFunction = manhattanDistance)\n",
    "        endTime = time.time() - startTime\n",
    "        manhattanDistanceExpandedCells[i, j] = expandedCells / openCells\n",
    "        manhattanDistanceTimeCosts[i, j] = endTime\n",
    "        \n",
    "        thinnedMaze = thinMaze(maze, rho)\n",
    "        startTime = time.time()\n",
    "        shortestPath, expandedCells = shortestPathSearch(maze, heuristicFunction = thinnedMazeShortestPathLength)\n",
    "        endTime = time.time() - startTime\n",
    "        thinnedMazeExpandedCells[i, j] = expandedCells / openCells\n",
    "        thinnedMazeTimeCosts[i, j] = endTime\n",
    "        \n",
    "        startTime = time.time()\n",
    "        shortestPath, expandedCells = shortestPathSearch(maze, heuristicFunction = diagonalTravelShortestPathLength)\n",
    "        endTime = time.time() - startTime\n",
    "        diagonalTravelExpandedCells[i, j] = expandedCells / openCells\n",
    "        diagonalTravelTimeCosts[i, j] = endTime\n",
    "        \n",
    "manhattanDistanceAvgExpandedCells = np.mean(manhattanDistanceExpandedCells)\n",
    "manhattanDistanceAvgTimeCost = np.mean(manhattanDistanceTimeCosts)\n",
    "diagonalTravelAvgExpandedCells = np.mean(diagonalTravelExpandedCells)\n",
    "diagonalTravelAvgTimeCost = np.mean(diagonalTravelTimeCosts)\n",
    "\n",
    "thinnedMazeAvgExpandedCells = np.zeros([rhos.size])\n",
    "thinnedMazeAvgTimeCosts = np.zeros([rhos.size])\n",
    "for i in range(0, rhos.size):\n",
    "    thinnedMazeAvgExpandedCells[i] = np.mean(thinnedMazeExpandedCells[i])\n",
    "    thinnedMazeAvgTimeCosts = np.mean(thinnedMazeTimeCosts[i])\n",
    "\n",
    "print(\"**Testing took\", time.time() - testStartTime, \"seconds to complete.**\")\n",
    "print(\"Manhattan Distance Avg Expanded Cells:\", manhattanDistanceAvgExpandedCells)\n",
    "print(\"Manhattan Distance Avg Time Cost:\", manhattanDistanceAvgTimeCost)\n",
    "print(\"Thinned Maze Avg Expanded Cells:\", thinnedMazeAvgExpandedCells)\n",
    "print(\"Thinned Maze Avg Time Costs:\", thinnedMazeAvgTimeCosts)\n",
    "print(\"Diagonal Travel Avg Expanded Cells:\", diagonalTravelAvgExpandedCells)\n",
    "print(\"Diagonal Travel Avg Time Cost:\", diagonalTravelAvgTimeCost)\n"
   ]
  },
  {
   "cell_type": "markdown",
   "metadata": {},
   "source": [
    "Generate the plots for the expanded cells (as a fraction of open cells)."
   ]
  },
  {
   "cell_type": "code",
   "execution_count": 14,
   "metadata": {},
   "outputs": [
    {
     "data": {
      "image/png": "[encoded data removed]",
      "text/plain": [
       "<Figure size 432x288 with 1 Axes>"
      ]
     },
     "metadata": {
      "needs_background": "light"
     },
     "output_type": "display_data"
    }
   ],
   "source": [
    "plt.figure()\n",
    "plt.hlines(manhattanDistanceAvgExpandedCells, np.amin(rhos), np.amax(rhos), color=\"red\", label=\"Manhattan Distance\")\n",
    "plt.plot(rhos, thinnedMazeAvgExpandedCells, label=\"Thinned Maze\")\n",
    "plt.hlines(diagonalTravelAvgExpandedCells, np.amin(rhos), np.amax(rhos), color=\"green\", label=\"Diagonal Travel\")\n",
    "plt.xlabel(\"Rho Values\")\n",
    "plt.ylabel(\"Expanded Cells\")\n",
    "plt.title(\"Expanded Cells In Each Heuristic\")\n",
    "plt.legend(loc=\"best\")\n",
    "plt.show()"
   ]
  },
  {
   "cell_type": "code",
   "execution_count": null,
   "metadata": {},
   "outputs": [],
   "source": []
  }
 ],
 "metadata": {
  "kernelspec": {
   "display_name": "Python 3",
   "language": "python",
   "name": "python3"
  },
  "language_info": {
   "codemirror_mode": {
    "name": "ipython",
    "version": 3
   },
   "file_extension": ".py",
   "mimetype": "text/x-python",
   "name": "python",
   "nbconvert_exporter": "python",
   "pygments_lexer": "ipython3",
   "version": "3.8.3"
  }
 },
 "nbformat": 4,
 "nbformat_minor": 4
}
