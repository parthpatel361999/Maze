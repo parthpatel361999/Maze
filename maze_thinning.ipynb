{
 "cells": [
  {
   "cell_type": "code",
   "execution_count": 2,
   "metadata": {},
   "outputs": [],
   "source": [
    "import import_ipynb\n",
    "from maze_common import Maze, shortestPathSearch, Cell\n",
    "import time\n",
    "import random as rnd\n",
    "import numpy as np\n",
    "import copy"
   ]
  },
  {
   "cell_type": "code",
   "execution_count": 56,
   "metadata": {},
   "outputs": [
    {
     "name": "stdout",
     "output_type": "stream",
     "text": [
      "Is solvable? True\n",
      "Obstacles? 490\n"
     ]
    }
   ],
   "source": [
    "maze = Maze(40, .3)\n",
    "solvable = maze.isSolvable()\n",
    "print(\"Is solvable?\", solvable)\n",
    "print(\"Obstacles?\", maze.obstacles.shape[0])"
   ]
  },
  {
   "cell_type": "code",
   "execution_count": 57,
   "metadata": {
    "scrolled": false
   },
   "outputs": [
    {
     "name": "stdout",
     "output_type": "stream",
     "text": [
      "490 obstacles\n",
      "***** Found shortest path in 0.025928020477294922 seconds *****\n",
      "[(0, 0), (0, 1), (0, 2), (1, 2), (1, 3), (2, 3), (3, 3), (4, 3), (5, 3), (5, 4), (6, 4), (7, 4), (8, 4), (8, 5), (9, 5), (9, 6), (9, 7), (9, 8), (9, 9), (9, 10), (10, 10), (11, 10), (12, 10), (13, 10), (13, 11), (13, 12), (13, 13), (13, 14), (13, 15), (13, 16), (13, 17), (14, 17), (15, 17), (15, 18), (15, 19), (15, 20), (15, 21), (15, 22), (16, 22), (17, 22), (17, 23), (18, 23), (18, 24), (19, 24), (20, 24), (21, 24), (22, 24), (22, 25), (23, 25), (24, 25), (25, 25), (26, 25), (26, 26), (26, 27), (27, 27), (28, 27), (29, 27), (29, 28), (30, 28), (30, 29), (31, 29), (31, 30), (32, 30), (32, 31), (33, 31), (33, 32), (33, 33), (33, 34), (33, 35), (33, 36), (32, 36), (32, 37), (32, 38), (33, 38), (34, 38), (34, 39), (35, 39), (36, 39), (37, 39), (38, 39), (39, 39)]\n"
     ]
    }
   ],
   "source": [
    "def manhattanDistance(maze, cell):\n",
    "    return ((maze.dim - 1) - cell.row) + ((maze.dim - 1) - cell.col)\n",
    "\n",
    "if (solvable):\n",
    "    startTime = time.time()\n",
    "#     print(maze.board)\n",
    "    print(maze.obstacles.shape[0], \"obstacles\")\n",
    "    shortestPath = shortestPathSearch(maze, heuristicFunction = manhattanDistance)\n",
    "    print(\"***** Found shortest path in %s seconds *****\" % (time.time() - startTime))\n",
    "    print(shortestPath)"
   ]
  },
  {
   "cell_type": "code",
   "execution_count": 58,
   "metadata": {
    "scrolled": false
   },
   "outputs": [
    {
     "name": "stdout",
     "output_type": "stream",
     "text": [
      "Original obstacles:  490\n",
      "Thinned obstacles:  245\n"
     ]
    }
   ],
   "source": [
    "def thinMaze(maze, fractionRemove):\n",
    "    thinMaze = Maze(1, 0)\n",
    "    thinMaze.board = copy.deepcopy(maze.board)\n",
    "    thinMaze.obstacles = copy.deepcopy(maze.obstacles)\n",
    "    thinMaze.dim = maze.dim\n",
    "    numRemove = round(fractionRemove * thinMaze.obstacles.shape[0])\n",
    "    for i in range(0,numRemove):\n",
    "        indexRemove = int(rnd.random() * thinMaze.obstacles.shape[0])\n",
    "        obstacleX, obstacleY = thinMaze.obstacles[indexRemove]\n",
    "        thinMaze.obstacles = np.delete(thinMaze.obstacles,indexRemove, axis=0)\n",
    "        thinMaze.board[obstacleX, obstacleY] = Cell.OPEN\n",
    "    return thinMaze\n",
    "    \n",
    "thinnedMaze = thinMaze(maze, .5)\n",
    "print(\"Original obstacles: \", maze.obstacles.shape[0])\n",
    "print(\"Thinned obstacles: \", thinnedMaze.obstacles.shape[0])\n",
    "# print(\"Thinned maze:\\n\", thinnedMaze.board)"
   ]
  },
  {
   "cell_type": "code",
   "execution_count": 59,
   "metadata": {},
   "outputs": [
    {
     "name": "stdout",
     "output_type": "stream",
     "text": [
      "***** Found shortest path in 8.061712265014648 seconds *****\n",
      "[(0, 0), (0, 1), (0, 2), (1, 2), (1, 3), (2, 3), (3, 3), (3, 4), (3, 5), (3, 6), (3, 7), (3, 8), (3, 9), (4, 9), (4, 10), (5, 10), (6, 10), (7, 10), (8, 10), (9, 10), (10, 10), (11, 10), (12, 10), (13, 10), (13, 11), (13, 12), (13, 13), (13, 14), (13, 15), (13, 16), (13, 17), (14, 17), (15, 17), (15, 18), (15, 19), (15, 20), (16, 20), (16, 21), (16, 22), (17, 22), (18, 22), (19, 22), (19, 23), (19, 24), (19, 25), (19, 26), (20, 26), (21, 26), (22, 26), (23, 26), (24, 26), (25, 26), (26, 26), (27, 26), (27, 27), (28, 27), (28, 28), (29, 28), (30, 28), (30, 29), (31, 29), (31, 30), (32, 30), (32, 31), (33, 31), (33, 32), (33, 33), (33, 34), (33, 35), (33, 36), (32, 36), (32, 37), (32, 38), (33, 38), (33, 39), (34, 39), (35, 39), (36, 39), (37, 39), (38, 39), (39, 39)]\n"
     ]
    }
   ],
   "source": [
    "visited = {}\n",
    "\n",
    "def thinnedMazeShortestPathLength(maze, cell):\n",
    "    shortestPathLength = 0\n",
    "    if ((cell.row, cell.col)) not in visited:\n",
    "        shortestPath = shortestPathSearch(thinnedMaze, startCoords = (cell.row, cell.col))\n",
    "        shortestPathLength = len(shortestPath)\n",
    "        for i in range(0, shortestPathLength):\n",
    "            row, col = shortestPath[i]\n",
    "            if ((row, col)) in visited: \n",
    "                break\n",
    "            else:\n",
    "                visited[(row, col)] = shortestPathLength - i - 1\n",
    "    else:\n",
    "        shortestPathLength = visited[(cell.row, cell.col)]\n",
    "    return shortestPathLength\n",
    "\n",
    "if (solvable):\n",
    "    startTime = time.time()\n",
    "    shortestPath = shortestPathSearch(maze, heuristicFunction = thinnedMazeShortestPathLength)\n",
    "    print(\"***** Found shortest path in %s seconds *****\" % (time.time() - startTime))\n",
    "    print(shortestPath)"
   ]
  },
  {
   "cell_type": "code",
   "execution_count": null,
   "metadata": {},
   "outputs": [],
   "source": []
  }
 ],
 "metadata": {
  "kernelspec": {
   "display_name": "Python 3",
   "language": "python",
   "name": "python3"
  },
  "language_info": {
   "codemirror_mode": {
    "name": "ipython",
    "version": 3
   },
   "file_extension": ".py",
   "mimetype": "text/x-python",
   "name": "python",
   "nbconvert_exporter": "python",
   "pygments_lexer": "ipython3",
   "version": "3.8.3"
  }
 },
 "nbformat": 4,
 "nbformat_minor": 4
}
