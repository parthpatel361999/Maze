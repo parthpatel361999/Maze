{
 "cells": [
  {
   "cell_type": "code",
   "execution_count": 1,
   "metadata": {},
   "outputs": [
    {
     "name": "stdout",
     "output_type": "stream",
     "text": [
      "importing Jupyter notebook from maze_common.ipynb\n"
     ]
    }
   ],
   "source": [
    "import import_ipynb\n",
    "from maze_common import Maze, shortestPathSearch\n",
    "import random as rnd\n",
    "import numpy as np\n",
    "import copy"
   ]
  },
  {
   "cell_type": "code",
   "execution_count": 3,
   "metadata": {},
   "outputs": [
    {
     "name": "stdout",
     "output_type": "stream",
     "text": [
      "[[ 0  0 -1  0  0 -1  0  0 -1  0]\n",
      " [ 0  0  0  0  0 -1  0  0  0  0]\n",
      " [ 0 -1  0 -1  0  0 -1  0  0  0]\n",
      " [-1  0  0  0 -1  0  0 -1  0 -1]\n",
      " [-1  0  0 -1  0 -1  0 -1  0  0]\n",
      " [-1  0  0 -1  0 -1  0  0  0  0]\n",
      " [ 0  0  0  0  0 -1  0 -1  0  0]\n",
      " [ 0 -1 -1 -1 -1  0  0  0 -1  0]\n",
      " [-1 -1 -1  0  0  0 -1  0  0 -1]\n",
      " [ 0 -1 -1 -1  0 -1  0 -1  0  0]] \n",
      "Is solvable?  True\n"
     ]
    }
   ],
   "source": [
    "maze = Maze(10, .3)\n",
    "solvable = maze.isSolvable()\n",
    "print(maze.board, \"\\nIs solvable? \", solvable)"
   ]
  },
  {
   "cell_type": "code",
   "execution_count": 4,
   "metadata": {},
   "outputs": [
    {
     "name": "stdout",
     "output_type": "stream",
     "text": [
      "[(0, 0), (1, 0), (1, 1), (1, 2), (1, 3), (1, 4), (2, 4), (2, 5), (3, 5), (3, 6), (4, 6), (5, 6), (6, 6), (7, 6), (7, 7), (8, 7), (8, 8), (9, 8), (9, 9)]\n"
     ]
    }
   ],
   "source": [
    "def manhattanDistance(maze, cell):\n",
    "    return abs(cell.row - (maze.dim - 1)) + abs(cell.col - (maze.dim - 1))\n",
    "\n",
    "if (solvable):\n",
    "    shortestPath = shortestPathSearch(maze, heuristicFunction = manhattanDistance)\n",
    "    print(shortestPath)"
   ]
  },
  {
   "cell_type": "code",
   "execution_count": 5,
   "metadata": {},
   "outputs": [
    {
     "name": "stdout",
     "output_type": "stream",
     "text": [
      "Original obstacles:\n",
      " [[0 2]\n",
      " [0 5]\n",
      " [0 8]\n",
      " [1 5]\n",
      " [2 1]\n",
      " [2 3]\n",
      " [2 6]\n",
      " [3 0]\n",
      " [3 4]\n",
      " [3 7]\n",
      " [3 9]\n",
      " [4 0]\n",
      " [4 3]\n",
      " [4 5]\n",
      " [4 7]\n",
      " [5 0]\n",
      " [5 3]\n",
      " [5 5]\n",
      " [6 5]\n",
      " [6 7]\n",
      " [7 1]\n",
      " [7 2]\n",
      " [7 3]\n",
      " [7 4]\n",
      " [7 8]\n",
      " [8 0]\n",
      " [8 1]\n",
      " [8 2]\n",
      " [8 6]\n",
      " [8 9]\n",
      " [9 1]\n",
      " [9 2]\n",
      " [9 3]\n",
      " [9 5]\n",
      " [9 7]\n",
      " [9 9]]\n",
      "Thinned obstacles:\n",
      " [[3 0]\n",
      " [3 7]\n",
      " [4 3]\n",
      " [4 7]\n",
      " [5 3]\n",
      " [5 5]\n",
      " [6 5]\n",
      " [6 7]\n",
      " [7 2]\n",
      " [7 8]\n",
      " [8 2]\n",
      " [9 3]\n",
      " [9 7]\n",
      " [9 9]]\n"
     ]
    }
   ],
   "source": [
    "def thinMaze(maze, fractionRemove):\n",
    "    numRemove = round(fractionRemove * maze.obstacles.size / 2)\n",
    "    thinMaze = copy.deepcopy(maze)\n",
    "    for i in range(0,numRemove):\n",
    "        indexRemove = int(rnd.random() * thinMaze.obstacles.size / 2)\n",
    "        obstacleX, obstacleY = thinMaze.obstacles[indexRemove]\n",
    "        thinMaze.obstacles = np.delete(thinMaze.obstacles,indexRemove, axis=0)\n",
    "        thinMaze.board[obstacleX][obstacleY] = 0\n",
    "    return thinMaze\n",
    "    \n",
    "thinnedMaze = thinMaze(maze, .6)\n",
    "print(\"Original obstacles:\\n\", maze.obstacles)\n",
    "print(\"Thinned obstacles:\\n\", thinnedMaze.obstacles)"
   ]
  },
  {
   "cell_type": "code",
   "execution_count": 7,
   "metadata": {},
   "outputs": [
    {
     "ename": "TypeError",
     "evalue": "uniformCost() takes 0 positional arguments but 2 were given",
     "output_type": "error",
     "traceback": [
      "\u001b[1;31m---------------------------------------------------------------------------\u001b[0m",
      "\u001b[1;31mTypeError\u001b[0m                                 Traceback (most recent call last)",
      "\u001b[1;32m<ipython-input-7-eaacdfb9d52b>\u001b[0m in \u001b[0;36m<module>\u001b[1;34m\u001b[0m\n\u001b[0;32m      3\u001b[0m \u001b[1;33m\u001b[0m\u001b[0m\n\u001b[0;32m      4\u001b[0m \u001b[1;32mif\u001b[0m \u001b[1;33m(\u001b[0m\u001b[0msolvable\u001b[0m\u001b[1;33m)\u001b[0m\u001b[1;33m:\u001b[0m\u001b[1;33m\u001b[0m\u001b[1;33m\u001b[0m\u001b[0m\n\u001b[1;32m----> 5\u001b[1;33m     \u001b[0mshortestPath\u001b[0m \u001b[1;33m=\u001b[0m \u001b[0mshortestPathSearch\u001b[0m\u001b[1;33m(\u001b[0m\u001b[0mmaze\u001b[0m\u001b[1;33m,\u001b[0m \u001b[0mheuristicFunction\u001b[0m \u001b[1;33m=\u001b[0m \u001b[0mthinnedMazeShortestPathLength\u001b[0m\u001b[1;33m)\u001b[0m\u001b[1;33m\u001b[0m\u001b[1;33m\u001b[0m\u001b[0m\n\u001b[0m\u001b[0;32m      6\u001b[0m     \u001b[0mprint\u001b[0m\u001b[1;33m(\u001b[0m\u001b[0mshortestPath\u001b[0m\u001b[1;33m)\u001b[0m\u001b[1;33m\u001b[0m\u001b[1;33m\u001b[0m\u001b[0m\n",
      "\u001b[1;32m~\\OneDrive\\Documents\\Fall 2020\\AI\\Maze\\maze_common.ipynb\u001b[0m in \u001b[0;36mshortestPathSearch\u001b[1;34m(maze, startCoords, heuristicFunction)\u001b[0m\n",
      "\u001b[1;32m<ipython-input-7-eaacdfb9d52b>\u001b[0m in \u001b[0;36mthinnedMazeShortestPathLength\u001b[1;34m(maze, cell)\u001b[0m\n\u001b[0;32m      1\u001b[0m \u001b[1;32mdef\u001b[0m \u001b[0mthinnedMazeShortestPathLength\u001b[0m\u001b[1;33m(\u001b[0m\u001b[0mmaze\u001b[0m\u001b[1;33m,\u001b[0m \u001b[0mcell\u001b[0m\u001b[1;33m)\u001b[0m\u001b[1;33m:\u001b[0m\u001b[1;33m\u001b[0m\u001b[1;33m\u001b[0m\u001b[0m\n\u001b[1;32m----> 2\u001b[1;33m     \u001b[1;32mreturn\u001b[0m \u001b[0mshortestPathSearch\u001b[0m\u001b[1;33m(\u001b[0m\u001b[0mthinnedMaze\u001b[0m\u001b[1;33m,\u001b[0m \u001b[0mstartCoords\u001b[0m \u001b[1;33m=\u001b[0m \u001b[1;33m(\u001b[0m\u001b[0mcell\u001b[0m\u001b[1;33m.\u001b[0m\u001b[0mrow\u001b[0m\u001b[1;33m,\u001b[0m \u001b[0mcell\u001b[0m\u001b[1;33m.\u001b[0m\u001b[0mcol\u001b[0m\u001b[1;33m)\u001b[0m\u001b[1;33m)\u001b[0m\u001b[1;33m\u001b[0m\u001b[1;33m\u001b[0m\u001b[0m\n\u001b[0m\u001b[0;32m      3\u001b[0m \u001b[1;33m\u001b[0m\u001b[0m\n\u001b[0;32m      4\u001b[0m \u001b[1;32mif\u001b[0m \u001b[1;33m(\u001b[0m\u001b[0msolvable\u001b[0m\u001b[1;33m)\u001b[0m\u001b[1;33m:\u001b[0m\u001b[1;33m\u001b[0m\u001b[1;33m\u001b[0m\u001b[0m\n\u001b[0;32m      5\u001b[0m     \u001b[0mshortestPath\u001b[0m \u001b[1;33m=\u001b[0m \u001b[0mshortestPathSearch\u001b[0m\u001b[1;33m(\u001b[0m\u001b[0mmaze\u001b[0m\u001b[1;33m,\u001b[0m \u001b[0mheuristicFunction\u001b[0m \u001b[1;33m=\u001b[0m \u001b[0mthinnedMazeShortestPathLength\u001b[0m\u001b[1;33m)\u001b[0m\u001b[1;33m\u001b[0m\u001b[1;33m\u001b[0m\u001b[0m\n",
      "\u001b[1;32m~\\OneDrive\\Documents\\Fall 2020\\AI\\Maze\\maze_common.ipynb\u001b[0m in \u001b[0;36mshortestPathSearch\u001b[1;34m(maze, startCoords, heuristicFunction)\u001b[0m\n",
      "\u001b[1;31mTypeError\u001b[0m: uniformCost() takes 0 positional arguments but 2 were given"
     ]
    }
   ],
   "source": [
    "def thinnedMazeShortestPathLength(maze, cell):\n",
    "    return shortestPathSearch(thinnedMaze, startCoords = (cell.row, cell.col))\n",
    "\n",
    "if (solvable):\n",
    "    shortestPath = shortestPathSearch(maze, heuristicFunction = thinnedMazeShortestPathLength)\n",
    "    print(shortestPath)"
   ]
  },
  {
   "cell_type": "code",
   "execution_count": null,
   "metadata": {},
   "outputs": [],
   "source": []
  }
 ],
 "metadata": {
  "kernelspec": {
   "display_name": "Python 3",
   "language": "python",
   "name": "python3"
  },
  "language_info": {
   "codemirror_mode": {
    "name": "ipython",
    "version": 3
   },
   "file_extension": ".py",
   "mimetype": "text/x-python",
   "name": "python",
   "nbconvert_exporter": "python",
   "pygments_lexer": "ipython3",
   "version": "3.8.3"
  }
 },
 "nbformat": 4,
 "nbformat_minor": 4
}
