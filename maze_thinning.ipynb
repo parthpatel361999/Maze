{
 "cells": [
  {
   "cell_type": "code",
   "execution_count": 1,
   "metadata": {},
   "outputs": [
    {
     "name": "stdout",
     "output_type": "stream",
     "text": [
      "importing Jupyter notebook from maze_common.ipynb\n"
     ]
    }
   ],
   "source": [
    "import import_ipynb\n",
    "from maze_common import Maze, shortestPathSearch\n",
    "import time\n",
    "import random as rnd\n",
    "import numpy as np\n",
    "import copy"
   ]
  },
  {
   "cell_type": "code",
   "execution_count": 110,
   "metadata": {},
   "outputs": [
    {
     "name": "stdout",
     "output_type": "stream",
     "text": [
      "[[ 0  0  0  0 -1  0  0  0 -1  0 -1 -1 -1  0  0]\n",
      " [-1  0  0  0  0  0  0  0 -1  0  0  0 -1 -1  0]\n",
      " [ 0  0  0  0 -1  0  0  0  0 -1  0 -1  0  0  0]\n",
      " [-1 -1  0 -1  0 -1  0  0  0  0  0  0 -1  0  0]\n",
      " [ 0 -1  0  0  0 -1  0  0  0  0  0  0  0  0  0]\n",
      " [-1  0 -1  0 -1 -1  0 -1 -1  0  0  0  0  0 -1]\n",
      " [ 0  0  0  0  0  0  0 -1  0  0  0 -1  0  0  0]\n",
      " [ 0  0 -1  0 -1  0  0 -1 -1  0  0  0  0  0  0]\n",
      " [ 0 -1  0  0  0  0  0 -1  0  0 -1  0  0  0  0]\n",
      " [ 0 -1 -1  0  0  0  0 -1  0  0 -1  0 -1 -1  0]\n",
      " [ 0  0 -1 -1 -1 -1  0  0  0  0  0 -1  0 -1  0]\n",
      " [-1  0 -1  0 -1 -1  0  0  0 -1  0  0  0  0 -1]\n",
      " [-1 -1  0  0  0  0  0  0  0  0  0 -1  0  0  0]\n",
      " [ 0  0  0 -1  0  0  0 -1 -1 -1 -1 -1  0  0  0]\n",
      " [ 0  0 -1  0  0  0  0  0 -1  0  0  0 -1  0  0]] \n",
      "Is solvable?  True\n"
     ]
    }
   ],
   "source": [
    "maze = Maze(15, .3)\n",
    "solvable = maze.isSolvable()\n",
    "print(maze.board, \"\\nIs solvable? \", solvable)"
   ]
  },
  {
   "cell_type": "code",
   "execution_count": 27,
   "metadata": {},
   "outputs": [
    {
     "name": "stdout",
     "output_type": "stream",
     "text": [
      "***** Found shortest path in 0.2937893867492676 seconds *****\n",
      "[(0, 0), (1, 0), (2, 0), (2, 1), (3, 1), (4, 1), (5, 1), (6, 1), (7, 1), (8, 1), (8, 2), (8, 3), (9, 3), (10, 3), (10, 4), (10, 5), (11, 5), (11, 6), (12, 6), (12, 7), (13, 7), (14, 7), (14, 8), (14, 9), (14, 10), (14, 11), (14, 12), (14, 13), (14, 14)]\n"
     ]
    }
   ],
   "source": [
    "def manhattanDistance(maze, cell):\n",
    "    return abs(cell.row - (maze.dim - 1)) + abs(cell.col - (maze.dim - 1))\n",
    "\n",
    "if (solvable):\n",
    "    startTime = time.time()\n",
    "    shortestPath = shortestPathSearch(maze, heuristicFunction = manhattanDistance)\n",
    "    print(\"***** Found shortest path in %s seconds *****\" % (time.time() - startTime))\n",
    "    print(shortestPath)\n",
    "    "
   ]
  },
  {
   "cell_type": "code",
   "execution_count": 116,
   "metadata": {},
   "outputs": [
    {
     "name": "stdout",
     "output_type": "stream",
     "text": [
      "Original obstacles:  67 \n",
      " [[ 0  0]\n",
      " [ 0  4]\n",
      " [ 0  8]\n",
      " [ 0 10]\n",
      " [ 0 11]\n",
      " [ 0 12]\n",
      " [ 1  0]\n",
      " [ 1  8]\n",
      " [ 1 12]\n",
      " [ 1 13]\n",
      " [ 2  4]\n",
      " [ 2  9]\n",
      " [ 2 11]\n",
      " [ 3  0]\n",
      " [ 3  1]\n",
      " [ 3  3]\n",
      " [ 3  5]\n",
      " [ 3 12]\n",
      " [ 4  1]\n",
      " [ 4  5]\n",
      " [ 5  0]\n",
      " [ 5  2]\n",
      " [ 5  4]\n",
      " [ 5  5]\n",
      " [ 5  7]\n",
      " [ 5  8]\n",
      " [ 5 14]\n",
      " [ 6  7]\n",
      " [ 6 11]\n",
      " [ 7  2]\n",
      " [ 7  4]\n",
      " [ 7  7]\n",
      " [ 7  8]\n",
      " [ 8  1]\n",
      " [ 8  7]\n",
      " [ 8 10]\n",
      " [ 9  1]\n",
      " [ 9  2]\n",
      " [ 9  7]\n",
      " [ 9 10]\n",
      " [ 9 12]\n",
      " [ 9 13]\n",
      " [10  2]\n",
      " [10  3]\n",
      " [10  4]\n",
      " [10  5]\n",
      " [10 11]\n",
      " [10 13]\n",
      " [11  0]\n",
      " [11  2]\n",
      " [11  4]\n",
      " [11  5]\n",
      " [11  9]\n",
      " [11 14]\n",
      " [12  0]\n",
      " [12  1]\n",
      " [12 11]\n",
      " [13  3]\n",
      " [13  7]\n",
      " [13  8]\n",
      " [13  9]\n",
      " [13 10]\n",
      " [13 11]\n",
      " [14  2]\n",
      " [14  8]\n",
      " [14 12]\n",
      " [14 14]]\n",
      "Thinned obstacles:  54 \n",
      " [[ 0  0]\n",
      " [ 0  8]\n",
      " [ 0 10]\n",
      " [ 0 11]\n",
      " [ 0 12]\n",
      " [ 1  8]\n",
      " [ 1 12]\n",
      " [ 1 13]\n",
      " [ 2  4]\n",
      " [ 2  9]\n",
      " [ 2 11]\n",
      " [ 3  0]\n",
      " [ 3  1]\n",
      " [ 3  3]\n",
      " [ 3  5]\n",
      " [ 3 12]\n",
      " [ 4  5]\n",
      " [ 5  0]\n",
      " [ 5  4]\n",
      " [ 5  5]\n",
      " [ 5  7]\n",
      " [ 5  8]\n",
      " [ 5 14]\n",
      " [ 6  7]\n",
      " [ 6 11]\n",
      " [ 7  2]\n",
      " [ 7  4]\n",
      " [ 7  8]\n",
      " [ 8  1]\n",
      " [ 8  7]\n",
      " [ 8 10]\n",
      " [ 9  2]\n",
      " [ 9 10]\n",
      " [ 9 13]\n",
      " [10  2]\n",
      " [10  3]\n",
      " [10  4]\n",
      " [10  5]\n",
      " [10 13]\n",
      " [11  0]\n",
      " [11  2]\n",
      " [11  4]\n",
      " [11  5]\n",
      " [11  9]\n",
      " [11 14]\n",
      " [12  1]\n",
      " [12 11]\n",
      " [13  7]\n",
      " [13  9]\n",
      " [13 10]\n",
      " [14  2]\n",
      " [14  8]\n",
      " [14 12]\n",
      " [14 14]]\n",
      "Thinned maze:\n",
      " [[ 0  0  0  0  0  0  0  0 -1  0 -1 -1 -1  0  0]\n",
      " [ 0  0  0  0  0  0  0  0 -1  0  0  0 -1 -1  0]\n",
      " [ 0  0  0  0 -1  0  0  0  0 -1  0 -1  0  0  0]\n",
      " [-1 -1  0 -1  0 -1  0  0  0  0  0  0 -1  0  0]\n",
      " [ 0  0  0  0  0 -1  0  0  0  0  0  0  0  0  0]\n",
      " [-1  0  0  0 -1 -1  0 -1 -1  0  0  0  0  0 -1]\n",
      " [ 0  0  0  0  0  0  0 -1  0  0  0 -1  0  0  0]\n",
      " [ 0  0 -1  0 -1  0  0  0 -1  0  0  0  0  0  0]\n",
      " [ 0 -1  0  0  0  0  0 -1  0  0 -1  0  0  0  0]\n",
      " [ 0  0 -1  0  0  0  0  0  0  0 -1  0  0 -1  0]\n",
      " [ 0  0 -1 -1 -1 -1  0  0  0  0  0  0  0 -1  0]\n",
      " [-1  0 -1  0 -1 -1  0  0  0 -1  0  0  0  0 -1]\n",
      " [ 0 -1  0  0  0  0  0  0  0  0  0 -1  0  0  0]\n",
      " [ 0  0  0  0  0  0  0 -1  0 -1 -1  0  0  0  0]\n",
      " [ 0  0 -1  0  0  0  0  0 -1  0  0  0 -1  0  0]]\n"
     ]
    }
   ],
   "source": [
    "def thinMaze(maze, fractionRemove):\n",
    "    thinMaze = Maze(1, 0)\n",
    "    thinMaze.board = copy.deepcopy(maze.board)\n",
    "    thinMaze.obstacles = copy.deepcopy(maze.obstacles)\n",
    "    thinMaze.dim = maze.dim\n",
    "    numRemove = round(fractionRemove * thinMaze.obstacles.shape[0])\n",
    "    for i in range(0,numRemove):\n",
    "        indexRemove = int(rnd.random() * thinMaze.obstacles.shape[0])\n",
    "        obstacleX, obstacleY = thinMaze.obstacles[indexRemove]\n",
    "        thinMaze.obstacles = np.delete(thinMaze.obstacles,indexRemove, axis=0)\n",
    "        thinMaze.board[obstacleX, obstacleY] = 0\n",
    "    return thinMaze\n",
    "    \n",
    "thinnedMaze = thinMaze(maze, .2)\n",
    "print(\"Original obstacles: \", maze.obstacles.shape[0], \"\\n\", maze.obstacles)\n",
    "print(\"Thinned obstacles: \", thinnedMaze.obstacles.shape[0], \"\\n\",thinnedMaze.obstacles)\n",
    "print(\"Thinned maze:\\n\", thinnedMaze.board)"
   ]
  },
  {
   "cell_type": "code",
   "execution_count": 118,
   "metadata": {},
   "outputs": [
    {
     "name": "stdout",
     "output_type": "stream",
     "text": [
      "***** Found shortest path in 14.558640956878662 seconds *****\n",
      "[(0, 0), (0, 1), (0, 2), (0, 3), (1, 3), (1, 4), (1, 5), (1, 6), (2, 6), (2, 7), (2, 8), (3, 8), (3, 9), (4, 9), (5, 9), (6, 9), (7, 9), (8, 9), (9, 9), (10, 9), (10, 10), (11, 10), (11, 11), (11, 12), (12, 12), (12, 13), (12, 14), (13, 14), (14, 14)]\n"
     ]
    }
   ],
   "source": [
    "visited = {}\n",
    "\n",
    "def thinnedMazeShortestPathLength(maze, cell):\n",
    "    shortestPathLength = 0\n",
    "    if ((cell.row, cell.col)) not in visited:\n",
    "        shortestPath = shortestPathSearch(thinnedMaze, startCoords = (cell.row, cell.col))\n",
    "        shortestPathLength = len(shortestPath)\n",
    "        for i in range(0, shortestPathLength):\n",
    "            row, col = shortestPath[i]\n",
    "            if ((row, col)) in visited: \n",
    "                break\n",
    "            else:\n",
    "                visited[(row, col)] = shortestPathLength - i - 1\n",
    "    else:\n",
    "        shortestPathLength = visited[(cell.row, cell.col)]\n",
    "    return shortestPathLength\n",
    "\n",
    "if (solvable):\n",
    "    startTime = time.time()\n",
    "    shortestPath = shortestPathSearch(maze, heuristicFunction = thinnedMazeShortestPathLength)\n",
    "    print(\"***** Found shortest path in %s seconds *****\" % (time.time() - startTime))\n",
    "    print(shortestPath)"
   ]
  },
  {
   "cell_type": "code",
   "execution_count": 117,
   "metadata": {},
   "outputs": [
    {
     "name": "stdout",
     "output_type": "stream",
     "text": [
      "***** Found shortest path in 9.075846195220947 seconds *****\n",
      "[(0, 0), (0, 1), (0, 2), (1, 2), (1, 3), (1, 4), (1, 5), (1, 6), (1, 7), (2, 7), (3, 7), (3, 8), (4, 8), (4, 9), (5, 9), (6, 9), (7, 9), (7, 10), (7, 11), (8, 11), (9, 11), (10, 11), (11, 11), (11, 12), (11, 13), (12, 13), (13, 13), (13, 14), (14, 14)]\n"
     ]
    }
   ],
   "source": [
    "if (solvable):\n",
    "    startTime = time.time()\n",
    "    shortestPath = shortestPathSearch(thinnedMaze)\n",
    "    print(\"***** Found shortest path in %s seconds *****\" % (time.time() - startTime))\n",
    "    print(shortestPath)"
   ]
  }
 ],
 "metadata": {
  "kernelspec": {
   "display_name": "Python 3",
   "language": "python",
   "name": "python3"
  },
  "language_info": {
   "codemirror_mode": {
    "name": "ipython",
    "version": 3
   },
   "file_extension": ".py",
   "mimetype": "text/x-python",
   "name": "python",
   "nbconvert_exporter": "python",
   "pygments_lexer": "ipython3",
   "version": "3.8.3"
  }
 },
 "nbformat": 4,
 "nbformat_minor": 4
}
