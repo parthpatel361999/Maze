{
 "cells": [
  {
   "cell_type": "code",
   "execution_count": 18,
   "metadata": {},
   "outputs": [],
   "source": [
    "import import_ipynb\n",
    "from maze_common import *\n",
    "import time\n",
    "import random as rnd\n",
    "import numpy as np\n",
    "import copy"
   ]
  },
  {
   "cell_type": "code",
   "execution_count": 21,
   "metadata": {},
   "outputs": [
    {
     "name": "stdout",
     "output_type": "stream",
     "text": [
      "Is solvable? True\n",
      "Obstacles? 466\n"
     ]
    }
   ],
   "source": [
    "maze = Maze(40, .30)\n",
    "solvable = maze.isSolvable()\n",
    "print(\"Is solvable?\", solvable)\n",
    "print(\"Obstacles?\", maze.obstacles.shape[0])"
   ]
  },
  {
   "cell_type": "code",
   "execution_count": 22,
   "metadata": {},
   "outputs": [
    {
     "name": "stdout",
     "output_type": "stream",
     "text": [
      "***** Found shortest path in 0.04222416877746582 seconds *****\n",
      "Shortest path length: 81 \n",
      "Shortest path: [(0, 0), (0, 1), (1, 1), (1, 2), (2, 2), (3, 2), (4, 2), (5, 2), (6, 2), (7, 2), (8, 2), (8, 3), (9, 3), (10, 3), (11, 3), (11, 4), (11, 5), (11, 6), (11, 7), (12, 7), (13, 7), (13, 8), (14, 8), (15, 8), (15, 9), (16, 9), (17, 9), (17, 10), (18, 10), (19, 10), (19, 11), (19, 12), (20, 12), (21, 12), (22, 12), (22, 13), (22, 14), (23, 14), (24, 14), (24, 15), (24, 16), (24, 17), (25, 17), (25, 18), (26, 18), (26, 19), (27, 19), (27, 20), (28, 20), (28, 21), (29, 21), (30, 21), (30, 22), (31, 22), (32, 22), (32, 23), (33, 23), (33, 24), (33, 25), (32, 25), (32, 26), (32, 27), (32, 28), (32, 29), (32, 30), (32, 31), (32, 32), (32, 33), (32, 34), (33, 34), (34, 34), (34, 35), (34, 36), (34, 37), (34, 38), (34, 39), (35, 39), (36, 39), (37, 39), (38, 39), (39, 39)]\n"
     ]
    }
   ],
   "source": [
    "if (solvable):\n",
    "    startTime = time.time()\n",
    "    shortestPath = shortestPathSearch(maze)\n",
    "    print(\"***** Found shortest path in %s seconds *****\" % (time.time() - startTime))\n",
    "    print(\"Shortest path length:\", len(shortestPath), \"\\nShortest path:\", shortestPath)\n",
    "    for coords in shortestPath:\n",
    "        row, col = coords\n",
    "        if (maze.board[row, col] == -1):\n",
    "            print(\"Error\")"
   ]
  },
  {
   "cell_type": "code",
   "execution_count": 23,
   "metadata": {
    "scrolled": false
   },
   "outputs": [
    {
     "name": "stdout",
     "output_type": "stream",
     "text": [
      "***** Found shortest path in 0.017954587936401367 seconds *****\n",
      "Shortest path length: 81 \n",
      "Shortest path: [(0, 0), (0, 1), (1, 1), (1, 2), (2, 2), (3, 2), (4, 2), (5, 2), (6, 2), (7, 2), (8, 2), (9, 2), (10, 2), (10, 3), (11, 3), (12, 3), (12, 4), (12, 5), (13, 5), (14, 5), (14, 6), (14, 7), (14, 8), (15, 8), (15, 9), (16, 9), (16, 10), (17, 10), (18, 10), (18, 11), (19, 11), (19, 12), (20, 12), (21, 12), (22, 12), (23, 12), (23, 13), (24, 13), (25, 13), (26, 13), (26, 14), (27, 14), (28, 14), (28, 15), (28, 16), (28, 17), (28, 18), (28, 19), (28, 20), (29, 20), (29, 21), (30, 21), (31, 21), (31, 22), (32, 22), (32, 23), (33, 23), (33, 24), (33, 25), (32, 25), (32, 26), (32, 27), (32, 28), (32, 29), (32, 30), (32, 31), (32, 32), (32, 33), (32, 34), (33, 34), (34, 34), (34, 35), (34, 36), (34, 37), (34, 38), (35, 38), (35, 39), (36, 39), (37, 39), (38, 39), (39, 39)]\n"
     ]
    }
   ],
   "source": [
    "def manhattanDistance(coords, maze):\n",
    "    cellRow, cellCol = coords\n",
    "    return ((maze.dim - 1) - cellRow) + ((maze.dim - 1) - cellCol)\n",
    "\n",
    "if (solvable):\n",
    "    startTime = time.time()\n",
    "    shortestPath = shortestPathSearch(maze, heuristicFunction = manhattanDistance)\n",
    "    print(\"***** Found shortest path in %s seconds *****\" % (time.time() - startTime))\n",
    "    print(\"Shortest path length:\", len(shortestPath), \"\\nShortest path:\", shortestPath)\n",
    "    for coords in shortestPath:\n",
    "        row, col = coords\n",
    "        if (maze.board[row, col] == -1):\n",
    "            print(\"Error\")"
   ]
  },
  {
   "cell_type": "code",
   "execution_count": 24,
   "metadata": {
    "scrolled": false
   },
   "outputs": [
    {
     "name": "stdout",
     "output_type": "stream",
     "text": [
      "Original obstacles:  466\n",
      "Thinned obstacles:  233\n"
     ]
    }
   ],
   "source": [
    "def thinMaze(maze, fractionRemove):\n",
    "    thinMaze = Maze(1, 0)\n",
    "    thinMaze.board = copy.deepcopy(maze.board)\n",
    "    thinMaze.obstacles = copy.deepcopy(maze.obstacles)\n",
    "    thinMaze.dim = maze.dim\n",
    "    numRemove = round(fractionRemove * thinMaze.obstacles.shape[0])\n",
    "    for i in range(0,numRemove):\n",
    "        indexRemove = int(rnd.random() * thinMaze.obstacles.shape[0])\n",
    "        obstacleX, obstacleY = thinMaze.obstacles[indexRemove]\n",
    "        thinMaze.obstacles = np.delete(thinMaze.obstacles,indexRemove, axis=0)\n",
    "        thinMaze.board[obstacleX, obstacleY] = Cell.OPEN\n",
    "    return thinMaze\n",
    "    \n",
    "thinnedMaze = thinMaze(maze, .5)\n",
    "print(\"Original obstacles: \", maze.obstacles.shape[0])\n",
    "print(\"Thinned obstacles: \", thinnedMaze.obstacles.shape[0])\n",
    "# print(\"Thinned maze:\\n\", thinnedMaze.board)"
   ]
  },
  {
   "cell_type": "code",
   "execution_count": 25,
   "metadata": {},
   "outputs": [
    {
     "name": "stdout",
     "output_type": "stream",
     "text": [
      "***** Found shortest path in 8.111629962921143 seconds *****\n",
      "Shortest path length: 81 \n",
      "Shortest path: [(0, 0), (0, 1), (1, 1), (2, 1), (2, 2), (3, 2), (4, 2), (5, 2), (6, 2), (7, 2), (8, 2), (9, 2), (10, 2), (10, 3), (11, 3), (11, 4), (11, 5), (11, 6), (11, 7), (12, 7), (13, 7), (14, 7), (14, 8), (15, 8), (16, 8), (17, 8), (18, 8), (19, 8), (20, 8), (21, 8), (21, 9), (22, 9), (22, 10), (22, 11), (22, 12), (22, 13), (23, 13), (24, 13), (24, 14), (24, 15), (24, 16), (24, 17), (25, 17), (25, 18), (26, 18), (27, 18), (28, 18), (28, 19), (28, 20), (28, 21), (29, 21), (30, 21), (31, 21), (31, 22), (32, 22), (32, 23), (33, 23), (33, 24), (33, 25), (32, 25), (32, 26), (32, 27), (32, 28), (32, 29), (32, 30), (32, 31), (32, 32), (32, 33), (32, 34), (33, 34), (33, 35), (34, 35), (34, 36), (34, 37), (34, 38), (34, 39), (35, 39), (36, 39), (37, 39), (38, 39), (39, 39)]\n"
     ]
    }
   ],
   "source": [
    "visited = {}\n",
    "\n",
    "def thinnedMazeShortestPathLength(coords, maze):\n",
    "    cellRow, cellCol = coords\n",
    "    shortestPathLength = 0\n",
    "    if ((cellRow, cellCol)) not in visited:\n",
    "        shortestPath = shortestPathSearch(thinnedMaze, startCoords = (cellRow, cellCol))\n",
    "        shortestPathLength = len(shortestPath)\n",
    "        for i in range(0, shortestPathLength):\n",
    "            row, col = shortestPath[i]\n",
    "            if ((row, col)) in visited: \n",
    "                break\n",
    "            else:\n",
    "                visited[(row, col)] = shortestPathLength - i - 1\n",
    "    else:\n",
    "        shortestPathLength = visited[(cellRow, cellCol)]\n",
    "    return shortestPathLength\n",
    "\n",
    "if (solvable):\n",
    "    startTime = time.time()\n",
    "    shortestPath = shortestPathSearch(maze, heuristicFunction = thinnedMazeShortestPathLength)\n",
    "    print(\"***** Found shortest path in %s seconds *****\" % (time.time() - startTime))\n",
    "    print(\"Shortest path length:\", len(shortestPath), \"\\nShortest path:\", shortestPath)\n",
    "    for coords in shortestPath:\n",
    "        row, col = coords\n",
    "        if (maze.board[row, col] == -1):\n",
    "            print(\"Error\")"
   ]
  },
  {
   "cell_type": "code",
   "execution_count": 17,
   "metadata": {},
   "outputs": [
    {
     "name": "stdout",
     "output_type": "stream",
     "text": [
      "***** Found shortest path in 24.391732931137085 seconds *****\n",
      "Shortest path length: 83 \n",
      "Shortest path: [(0, 0), (0, 1), (0, 2), (1, 2), (1, 3), (1, 4), (1, 5), (2, 5), (3, 5), (3, 6), (4, 6), (5, 6), (5, 7), (6, 7), (7, 7), (8, 7), (8, 8), (9, 8), (9, 9), (10, 9), (11, 9), (11, 10), (11, 11), (11, 12), (11, 13), (10, 13), (10, 14), (10, 15), (11, 15), (11, 16), (12, 16), (13, 16), (13, 17), (13, 18), (13, 19), (14, 19), (15, 19), (16, 19), (16, 20), (17, 20), (17, 21), (18, 21), (19, 21), (20, 21), (20, 22), (20, 23), (21, 23), (21, 24), (22, 24), (22, 25), (22, 26), (23, 26), (23, 27), (23, 28), (23, 29), (24, 29), (24, 30), (25, 30), (26, 30), (27, 30), (27, 31), (28, 31), (28, 32), (29, 32), (30, 32), (31, 32), (31, 33), (32, 33), (32, 34), (32, 35), (32, 36), (32, 37), (33, 37), (34, 37), (34, 36), (35, 36), (36, 36), (37, 36), (38, 36), (38, 37), (39, 37), (39, 38), (39, 39)]\n"
     ]
    }
   ],
   "source": [
    "def findNeighboringOpenCoordsIncludingDiagonals(coords, maze):\n",
    "    cellRow, cellCol = coords\n",
    "    neighbors = findNeighboringOpenCoords(coords, maze)\n",
    "    potentialDiagonalNeighbors = [(cellRow - 1, cellCol - 1), (cellRow - 1, cellCol + 1), (cellRow + 1, cellCol - 1), (cellRow + 1, cellCol + 1)]\n",
    "    for potentialDiagonalNeighbor in potentialDiagonalNeighbors:\n",
    "        row, col = potentialDiagonalNeighbor\n",
    "        if (row >= maze.dim or row < 0 or col >= maze.dim or col < 0 or maze.board[row,col] != Cell.OPEN):\n",
    "            continue\n",
    "        neighbors.append((row, col))\n",
    "    return neighbors\n",
    "\n",
    "visited = {}\n",
    "\n",
    "def diagonalTravelShortestPathLength(coords, maze):\n",
    "    cellRow, cellCol = coords \n",
    "    shortestPathLength = 0\n",
    "    if ((cellRow, cellCol)) not in visited:\n",
    "        shortestPath = shortestPathSearch(maze, startCoords = (cellRow, cellCol), findNeighborsFunction = findNeighboringOpenCoordsIncludingDiagonals)\n",
    "        shortestPathLength = len(shortestPath)\n",
    "        for i in range(0, shortestPathLength):\n",
    "            row, col = shortestPath[i]\n",
    "            if ((row, col)) in visited: \n",
    "                break\n",
    "            else:\n",
    "                visited[(row, col)] = shortestPathLength - i - 1\n",
    "    else:\n",
    "        shortestPathLength = visited[(cellRow, cellCol)]\n",
    "    return shortestPathLength\n",
    "\n",
    "if (solvable):\n",
    "    startTime = time.time()\n",
    "    shortestPath = shortestPathSearch(maze, heuristicFunction = diagonalTravelShortestPathLength)\n",
    "    print(\"***** Found shortest path in %s seconds *****\" % (time.time() - startTime))\n",
    "    print(\"Shortest path length:\", len(shortestPath), \"\\nShortest path:\", shortestPath)\n",
    "    boardWithPath = copy.deepcopy(maze.board)\n",
    "    for coords in shortestPath:\n",
    "        row, col = coords\n",
    "        if (maze.board[row, col] == -1):\n",
    "            print(\"Error\")"
   ]
  },
  {
   "cell_type": "code",
   "execution_count": null,
   "metadata": {},
   "outputs": [],
   "source": []
  }
 ],
 "metadata": {
  "kernelspec": {
   "display_name": "Python 3",
   "language": "python",
   "name": "python3"
  },
  "language_info": {
   "codemirror_mode": {
    "name": "ipython",
    "version": 3
   },
   "file_extension": ".py",
   "mimetype": "text/x-python",
   "name": "python",
   "nbconvert_exporter": "python",
   "pygments_lexer": "ipython3",
   "version": "3.8.3"
  }
 },
 "nbformat": 4,
 "nbformat_minor": 4
}
