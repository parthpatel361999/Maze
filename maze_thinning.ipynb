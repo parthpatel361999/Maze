{
 "cells": [
  {
   "cell_type": "code",
   "execution_count": 2,
   "metadata": {},
   "outputs": [
    {
     "name": "stdout",
     "output_type": "stream",
     "text": [
      "importing Jupyter notebook from maze_common.ipynb\n",
      "[[ 0  0 -1  0  0]\n",
      " [ 0 -1 -1  0 -1]\n",
      " [ 0 -1 -1 -1  0]\n",
      " [-1  0  0  0 -1]\n",
      " [ 0 -1  0  0  0]]\n",
      "Is solvable?  False\n"
     ]
    }
   ],
   "source": [
    "import import_ipynb\n",
    "from maze_common import Maze, shortestPathSearch\n",
    "import random as rnd\n",
    "import numpy as np\n",
    "import copy"
   ]
  },
  {
   "cell_type": "code",
   "execution_count": 3,
   "metadata": {},
   "outputs": [
    {
     "name": "stdout",
     "output_type": "stream",
     "text": [
      "Original obstacles:\n",
      " [[0 0]\n",
      " [0 3]\n",
      " [1 0]\n",
      " [1 1]\n",
      " [1 3]\n",
      " [1 4]\n",
      " [2 0]\n",
      " [2 4]\n",
      " [3 0]\n",
      " [3 2]\n",
      " [3 3]\n",
      " [4 2]\n",
      " [4 3]]\n",
      "Thinned obstacles:\n",
      " [[1 0]\n",
      " [1 4]\n",
      " [3 2]\n",
      " [3 3]\n",
      " [4 2]]\n"
     ]
    }
   ],
   "source": [
    "def thinMaze(maze, fractionRemove):\n",
    "    numRemove = round(fractionRemove * maze.obstacles.size / 2)\n",
    "    thinMaze = copy.deepcopy(maze)\n",
    "    for i in range(0,numRemove):\n",
    "        indexRemove = int(rnd.random() * thinMaze.obstacles.size / 2)\n",
    "        obstacleX, obstacleY = thinMaze.obstacles[indexRemove]\n",
    "        thinMaze.obstacles = np.delete(thinMaze.obstacles,indexRemove, axis=0)\n",
    "        thinMaze.board[obstacleX][obstacleY] = 0\n",
    "    return thinMaze\n",
    "    \n",
    "maze = Maze(5, .5)\n",
    "thinnedMaze = thinMaze(maze, .6)\n",
    "print(\"Original obstacles:\\n\", maze.obstacles)\n",
    "print(\"Thinned obstacles:\\n\", thinnedMaze.obstacles)"
   ]
  },
  {
   "cell_type": "code",
   "execution_count": null,
   "metadata": {},
   "outputs": [],
   "source": [
    "\n",
    "            "
   ]
  },
  {
   "cell_type": "code",
   "execution_count": null,
   "metadata": {},
   "outputs": [],
   "source": []
  }
 ],
 "metadata": {
  "kernelspec": {
   "display_name": "Python 3",
   "language": "python",
   "name": "python3"
  },
  "language_info": {
   "codemirror_mode": {
    "name": "ipython",
    "version": 3
   },
   "file_extension": ".py",
   "mimetype": "text/x-python",
   "name": "python",
   "nbconvert_exporter": "python",
   "pygments_lexer": "ipython3",
   "version": "3.8.3"
  }
 },
 "nbformat": 4,
 "nbformat_minor": 4
}
