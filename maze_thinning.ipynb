{
 "cells": [
  {
   "cell_type": "code",
   "execution_count": 6,
   "metadata": {},
   "outputs": [],
   "source": [
    "import import_ipynb\n",
    "from maze_common import Maze, shortestPathSearch, Cell\n",
    "import time\n",
    "import random as rnd\n",
    "import numpy as np\n",
    "import copy"
   ]
  },
  {
   "cell_type": "code",
   "execution_count": 33,
   "metadata": {},
   "outputs": [
    {
     "name": "stdout",
     "output_type": "stream",
     "text": [
      "Is solvable? True\n",
      "Obstacles? 770\n"
     ]
    }
   ],
   "source": [
    "maze = Maze(50, .3)\n",
    "solvable = maze.isSolvable()\n",
    "print(\"Is solvable?\", solvable)\n",
    "print(\"Obstacles?\", maze.obstacles.shape[0])"
   ]
  },
  {
   "cell_type": "code",
   "execution_count": 34,
   "metadata": {
    "scrolled": false
   },
   "outputs": [
    {
     "name": "stdout",
     "output_type": "stream",
     "text": [
      "770 obstacles\n",
      "***** Found shortest path in 0.03490447998046875 seconds *****\n",
      "[(0, 0), (0, 1), (1, 1), (2, 1), (2, 2), (2, 3), (2, 4), (2, 5), (3, 5), (4, 5), (5, 5), (5, 6), (5, 7), (6, 7), (7, 7), (8, 7), (9, 7), (10, 7), (10, 8), (10, 9), (11, 9), (11, 10), (12, 10), (13, 10), (14, 10), (15, 10), (16, 10), (16, 11), (16, 12), (17, 12), (18, 12), (18, 13), (18, 14), (18, 15), (18, 16), (18, 17), (18, 18), (18, 19), (18, 20), (19, 20), (20, 20), (21, 20), (21, 21), (21, 22), (21, 23), (22, 23), (22, 24), (23, 24), (23, 25), (24, 25), (24, 26), (24, 27), (25, 27), (25, 28), (25, 29), (26, 29), (27, 29), (28, 29), (29, 29), (30, 29), (30, 30), (30, 31), (30, 32), (31, 32), (31, 33), (32, 33), (32, 34), (33, 34), (34, 34), (34, 35), (34, 36), (34, 37), (34, 38), (34, 39), (34, 40), (35, 40), (36, 40), (37, 40), (38, 40), (39, 40), (40, 40), (41, 40), (41, 41), (41, 42), (41, 43), (41, 44), (42, 44), (43, 44), (44, 44), (45, 44), (46, 44), (46, 45), (46, 46), (46, 47), (46, 48), (47, 48), (48, 48), (49, 48), (49, 49)]\n"
     ]
    }
   ],
   "source": [
    "def manhattanDistance(cell, maze):\n",
    "    return ((maze.dim - 1) - cell.row) + ((maze.dim - 1) - cell.col)\n",
    "\n",
    "if (solvable):\n",
    "    startTime = time.time()\n",
    "#     print(maze.board)\n",
    "    print(maze.obstacles.shape[0], \"obstacles\")\n",
    "    shortestPath = shortestPathSearch(maze, heuristicFunction = manhattanDistance)\n",
    "    print(\"***** Found shortest path in %s seconds *****\" % (time.time() - startTime))\n",
    "    print(shortestPath)"
   ]
  },
  {
   "cell_type": "code",
   "execution_count": 36,
   "metadata": {
    "scrolled": false
   },
   "outputs": [
    {
     "name": "stdout",
     "output_type": "stream",
     "text": [
      "Original obstacles:  770\n",
      "Thinned obstacles:  385\n"
     ]
    }
   ],
   "source": [
    "def thinMaze(maze, fractionRemove):\n",
    "    thinMaze = Maze(1, 0)\n",
    "    thinMaze.board = copy.deepcopy(maze.board)\n",
    "    thinMaze.obstacles = copy.deepcopy(maze.obstacles)\n",
    "    thinMaze.dim = maze.dim\n",
    "    numRemove = round(fractionRemove * thinMaze.obstacles.shape[0])\n",
    "    for i in range(0,numRemove):\n",
    "        indexRemove = int(rnd.random() * thinMaze.obstacles.shape[0])\n",
    "        obstacleX, obstacleY = thinMaze.obstacles[indexRemove]\n",
    "        thinMaze.obstacles = np.delete(thinMaze.obstacles,indexRemove, axis=0)\n",
    "        thinMaze.board[obstacleX, obstacleY] = Cell.OPEN\n",
    "    return thinMaze\n",
    "    \n",
    "thinnedMaze = thinMaze(maze, .5)\n",
    "print(\"Original obstacles: \", maze.obstacles.shape[0])\n",
    "print(\"Thinned obstacles: \", thinnedMaze.obstacles.shape[0])\n",
    "# print(\"Thinned maze:\\n\", thinnedMaze.board)"
   ]
  },
  {
   "cell_type": "code",
   "execution_count": 37,
   "metadata": {},
   "outputs": [
    {
     "name": "stdout",
     "output_type": "stream",
     "text": [
      "***** Found shortest path in 17.417726755142212 seconds *****\n",
      "[(0, 0), (0, 1), (1, 1), (2, 1), (2, 2), (2, 3), (2, 4), (2, 5), (3, 5), (4, 5), (5, 5), (5, 6), (5, 7), (6, 7), (7, 7), (8, 7), (9, 7), (10, 7), (10, 8), (11, 8), (12, 8), (13, 8), (13, 9), (13, 10), (14, 10), (15, 10), (16, 10), (16, 11), (16, 12), (17, 12), (18, 12), (18, 13), (18, 14), (18, 15), (18, 16), (18, 17), (18, 18), (18, 19), (18, 20), (19, 20), (20, 20), (21, 20), (21, 21), (21, 22), (21, 23), (22, 23), (22, 24), (23, 24), (23, 25), (24, 25), (24, 26), (24, 27), (25, 27), (25, 28), (25, 29), (26, 29), (27, 29), (28, 29), (29, 29), (30, 29), (30, 30), (30, 31), (31, 31), (32, 31), (33, 31), (34, 31), (35, 31), (36, 31), (36, 32), (37, 32), (37, 33), (38, 33), (39, 33), (40, 33), (40, 34), (41, 34), (42, 34), (42, 35), (42, 36), (43, 36), (44, 36), (44, 37), (44, 38), (44, 39), (44, 40), (44, 41), (45, 41), (45, 42), (45, 43), (45, 44), (46, 44), (46, 45), (46, 46), (46, 47), (46, 48), (47, 48), (48, 48), (49, 48), (49, 49)]\n"
     ]
    }
   ],
   "source": [
    "visited = {}\n",
    "\n",
    "def thinnedMazeShortestPathLength(cell, maze):\n",
    "    shortestPathLength = 0\n",
    "    if ((cell.row, cell.col)) not in visited:\n",
    "        shortestPath = shortestPathSearch(thinnedMaze, startCoords = (cell.row, cell.col))\n",
    "        shortestPathLength = len(shortestPath)\n",
    "        for i in range(0, shortestPathLength):\n",
    "            row, col = shortestPath[i]\n",
    "            if ((row, col)) in visited: \n",
    "                break\n",
    "            else:\n",
    "                visited[(row, col)] = shortestPathLength - i - 1\n",
    "    else:\n",
    "        shortestPathLength = visited[(cell.row, cell.col)]\n",
    "    return shortestPathLength\n",
    "\n",
    "if (solvable):\n",
    "    startTime = time.time()\n",
    "    shortestPath = shortestPathSearch(maze, heuristicFunction = thinnedMazeShortestPathLength)\n",
    "    print(\"***** Found shortest path in %s seconds *****\" % (time.time() - startTime))\n",
    "    print(shortestPath)"
   ]
  },
  {
   "cell_type": "code",
   "execution_count": null,
   "metadata": {},
   "outputs": [],
   "source": []
  },
  {
   "cell_type": "code",
   "execution_count": null,
   "metadata": {},
   "outputs": [],
   "source": []
  }
 ],
 "metadata": {
  "kernelspec": {
   "display_name": "Python 3",
   "language": "python",
   "name": "python3"
  },
  "language_info": {
   "codemirror_mode": {
    "name": "ipython",
    "version": 3
   },
   "file_extension": ".py",
   "mimetype": "text/x-python",
   "name": "python",
   "nbconvert_exporter": "python",
   "pygments_lexer": "ipython3",
   "version": "3.8.3"
  }
 },
 "nbformat": 4,
 "nbformat_minor": 4
}
